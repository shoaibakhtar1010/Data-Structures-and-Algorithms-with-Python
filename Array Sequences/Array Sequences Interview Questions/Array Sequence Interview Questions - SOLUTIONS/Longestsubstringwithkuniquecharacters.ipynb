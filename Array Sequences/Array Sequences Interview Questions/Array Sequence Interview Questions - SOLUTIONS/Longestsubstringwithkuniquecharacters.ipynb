{
  "nbformat": 4,
  "nbformat_minor": 0,
  "metadata": {
    "colab": {
      "name": "Longestsubstringwithkuniquecharacters.ipynb",
      "provenance": [],
      "collapsed_sections": [],
      "authorship_tag": "ABX9TyMCTk8PK+tFpsrY96yAi8ey",
      "include_colab_link": true
    },
    "kernelspec": {
      "name": "python3",
      "display_name": "Python 3"
    },
    "language_info": {
      "name": "python"
    }
  },
  "cells": [
    {
      "cell_type": "markdown",
      "metadata": {
        "id": "view-in-github",
        "colab_type": "text"
      },
      "source": [
        "<a href=\"https://colab.research.google.com/github/shoaibakhtar1010/Data-Structures-and-Algorithms-with-Python/blob/main/Array%20Sequences/Array%20Sequences%20Interview%20Questions/Array%20Sequence%20Interview%20Questions%20-%20SOLUTIONS/Longestsubstringwithkuniquecharacters.ipynb\" target=\"_parent\"><img src=\"https://colab.research.google.com/assets/colab-badge.svg\" alt=\"Open In Colab\"/></a>"
      ]
    },
    {
      "cell_type": "markdown",
      "metadata": {
        "id": "68IcfcaoThSX"
      },
      "source": [
        "Given a string you need to print longest possible substring that has exactly M unique characters. If there are more than one substring of longest possible length, then print any one of them.\n",
        "\n",
        "Examples: \n",
        "\n",
        "\"aabbcc\", k = 1\n",
        "Max substring can be any one from {\"aa\" , \"bb\" , \"cc\"}.\n",
        "\n",
        "\"aabbcc\", k = 2\n",
        "Max substring can be any one from {\"aabb\" , \"bbcc\"}.\n",
        "\n",
        "\"aabbcc\", k = 3\n",
        "There are substrings with exactly 3 unique characters\n",
        "{\"aabbcc\" , \"abbcc\" , \"aabbc\" , \"abbc\" }\n",
        "Max is \"aabbcc\" with length 6.\n",
        "\n",
        "\"aaabbb\", k = 3\n",
        "There are only two unique characters, thus show error message. "
      ]
    },
    {
      "cell_type": "code",
      "metadata": {
        "id": "110U5pFcQ1EY"
      },
      "source": [
        "def solution(string,k):\n",
        "  if len(set(string))<k:\n",
        "    raise ValueError('Enter k value less than or equal to the unique characters in the string')\n",
        "  i,j=0,0\n",
        "  from collections import defaultdict \n",
        "  map=defaultdict(int)\n",
        "  mx=0\n",
        "  while j<len(string):\n",
        "    map[string[j]]+=1\n",
        "    if len(map)<k:\n",
        "      j+=1\n",
        "    elif len(map)==k:\n",
        "      mx=max(mx,j-i+1)\n",
        "      j+=1\n",
        "    else:\n",
        "      while len(map)>k:\n",
        "        map[string[i]]-=1\n",
        "        if map[string[i]]==0:\n",
        "          map.pop(string[i])\n",
        "        i+=1\n",
        "        j+=1\n",
        "    \n",
        "  return mx\n",
        "\n",
        "\n",
        "    \n"
      ],
      "execution_count": null,
      "outputs": []
    },
    {
      "cell_type": "code",
      "metadata": {
        "colab": {
          "base_uri": "https://localhost:8080/"
        },
        "id": "IWhdszQUUY21",
        "outputId": "d921ec6d-bf4a-410d-dfb8-219d90c5cd00"
      },
      "source": [
        "solution('aabacbebebe',3)"
      ],
      "execution_count": null,
      "outputs": [
        {
          "output_type": "execute_result",
          "data": {
            "text/plain": [
              "7"
            ]
          },
          "metadata": {},
          "execution_count": 16
        }
      ]
    },
    {
      "cell_type": "code",
      "metadata": {
        "id": "yShmHFRNUa0-"
      },
      "source": [
        "dic={1:2,3:4,5:6}"
      ],
      "execution_count": null,
      "outputs": []
    },
    {
      "cell_type": "code",
      "metadata": {
        "colab": {
          "base_uri": "https://localhost:8080/"
        },
        "id": "5YIyi26lXtiy",
        "outputId": "4def5ef8-2367-45ac-80cc-d3147a19424f"
      },
      "source": [
        "dic"
      ],
      "execution_count": null,
      "outputs": [
        {
          "output_type": "execute_result",
          "data": {
            "text/plain": [
              "{1: 2, 3: 4, 5: 6}"
            ]
          },
          "metadata": {},
          "execution_count": 3
        }
      ]
    },
    {
      "cell_type": "code",
      "metadata": {
        "colab": {
          "base_uri": "https://localhost:8080/"
        },
        "id": "wW9ZmTb5XujU",
        "outputId": "8d3522a3-1f35-4839-c2db-277437bf4bb1"
      },
      "source": [
        "dic.pop(1)"
      ],
      "execution_count": null,
      "outputs": [
        {
          "output_type": "execute_result",
          "data": {
            "text/plain": [
              "2"
            ]
          },
          "metadata": {},
          "execution_count": 5
        }
      ]
    },
    {
      "cell_type": "code",
      "metadata": {
        "colab": {
          "base_uri": "https://localhost:8080/"
        },
        "id": "QI9koMAwX0E5",
        "outputId": "ea15cb39-5dc4-499e-f448-c444514c4018"
      },
      "source": [
        "dic"
      ],
      "execution_count": null,
      "outputs": [
        {
          "output_type": "execute_result",
          "data": {
            "text/plain": [
              "{3: 4, 5: 6}"
            ]
          },
          "metadata": {},
          "execution_count": 6
        }
      ]
    },
    {
      "cell_type": "code",
      "metadata": {
        "id": "Pax8PvBMX5KB"
      },
      "source": [
        ""
      ],
      "execution_count": null,
      "outputs": []
    }
  ]
}