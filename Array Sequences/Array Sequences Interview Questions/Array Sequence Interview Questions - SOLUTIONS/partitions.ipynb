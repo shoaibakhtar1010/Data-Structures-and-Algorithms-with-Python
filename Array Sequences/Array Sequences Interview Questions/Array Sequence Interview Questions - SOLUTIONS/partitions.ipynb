{
  "nbformat": 4,
  "nbformat_minor": 0,
  "metadata": {
    "colab": {
      "name": "partitions.ipynb",
      "provenance": [],
      "authorship_tag": "ABX9TyNCmd2/kw/HZgqCaSFNax+M",
      "include_colab_link": true
    },
    "kernelspec": {
      "name": "python3",
      "display_name": "Python 3"
    },
    "language_info": {
      "name": "python"
    }
  },
  "cells": [
    {
      "cell_type": "markdown",
      "metadata": {
        "id": "view-in-github",
        "colab_type": "text"
      },
      "source": [
        "<a href=\"https://colab.research.google.com/github/shoaibakhtar1010/Data-Structures-and-Algorithms-with-Python/blob/main/Array%20Sequences/Array%20Sequences%20Interview%20Questions/Array%20Sequence%20Interview%20Questions%20-%20SOLUTIONS/partitions.ipynb\" target=\"_parent\"><img src=\"https://colab.research.google.com/assets/colab-badge.svg\" alt=\"Open In Colab\"/></a>"
      ]
    },
    {
      "cell_type": "markdown",
      "source": [
        "**partitions**\n",
        "\n",
        "**Problem Description**\n",
        "\n",
        "You are given a 1D integer array B containing A integers.\n",
        "\n",
        "Count the number of ways to split all the elements of the array into 3 contiguous parts so that the sum of elements in each part is the same.\n",
        "\n",
        "Such that : sum(B[1],..B[i]) = sum(B[i+1],...B[j]) = sum(B[j+1],...B[n]) \n",
        "\n",
        "~~~\n",
        "\n",
        "Problem Constraints\n",
        "1 <= A <= 105\n",
        "\n",
        "-109 <= B[i] <= 109\n",
        "\n",
        "\n",
        "\n",
        "Input Format\n",
        "First argument is an integer A.\n",
        "\n",
        "Second argument is an 1D integer array B of size A.\n",
        "\n",
        "\n",
        "\n",
        "Output Format\n",
        "Return a single integer denoting the number of ways to split the array B into three parts with the same sum.\n",
        "\n",
        "\n",
        "\n",
        "Example Input\n",
        "Input 1:\n",
        "\n",
        " A = 5\n",
        " B = [1, 2, 3, 0, 3]\n",
        "Input 2:\n",
        "\n",
        " A = 4\n",
        " B = [0, 1, -1, 0]\n",
        "\n",
        "\n",
        "Example Output\n",
        "Output 1:\n",
        "\n",
        " 2\n",
        "Output 2:\n",
        "\n",
        " 1\n",
        "\n",
        "\n",
        "Example Explanation\n",
        "Explanation 1:\n",
        "\n",
        " There are no 2 ways to make partitions -\n",
        " 1. (1,2)+(3)+(0,3).\n",
        " 2. (1,2)+(3,0)+(3).\n",
        "Explanation 2:\n",
        "\n",
        " There is only 1 way to make partition -\n",
        " 1. (0)+(-1,1)+(0).\n",
        " ~~~"
      ],
      "metadata": {
        "id": "vnzjGyRRcuIG"
      }
    },
    {
      "cell_type": "code",
      "source": [
        "class Solution:\n",
        "    def solve(self, A, B):\n",
        "        summ=sum(B)\n",
        "        cnt=0\n",
        "        if summ%3!=0:\n",
        "            return 0\n",
        "        onethird=(1/3)*summ\n",
        "        twothird=(2/3)*summ\n",
        "        onethirdcnt=0\n",
        "        total=0\n",
        "        for i in range(A-1):\n",
        "            total+=B[i]\n",
        "            if total==twothird:\n",
        "                cnt+=onethirdcnt\n",
        "            if total==onethird:\n",
        "                onethirdcnt+=1\n",
        "\n",
        "        return cnt"
      ],
      "metadata": {
        "id": "SvdOggX5cpxz"
      },
      "execution_count": null,
      "outputs": []
    }
  ]
}