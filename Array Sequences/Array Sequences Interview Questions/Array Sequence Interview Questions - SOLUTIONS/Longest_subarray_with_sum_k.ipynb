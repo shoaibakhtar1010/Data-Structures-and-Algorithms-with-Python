{
  "nbformat": 4,
  "nbformat_minor": 0,
  "metadata": {
    "colab": {
      "name": "Untitled12.ipynb",
      "provenance": [],
      "authorship_tag": "ABX9TyMHcouD3FVPA7E78de8TrXW",
      "include_colab_link": true
    },
    "kernelspec": {
      "name": "python3",
      "display_name": "Python 3"
    },
    "language_info": {
      "name": "python"
    }
  },
  "cells": [
    {
      "cell_type": "markdown",
      "metadata": {
        "id": "view-in-github",
        "colab_type": "text"
      },
      "source": [
        "<a href=\"https://colab.research.google.com/github/shoaibakhtar1010/Data-Structures-and-Algorithms-with-Python/blob/main/Array%20Sequences/Array%20Sequences%20Interview%20Questions/Array%20Sequence%20Interview%20Questions%20-%20SOLUTIONS/Longest_subarray_with_sum_k.ipynb\" target=\"_parent\"><img src=\"https://colab.research.google.com/assets/colab-badge.svg\" alt=\"Open In Colab\"/></a>"
      ]
    },
    {
      "cell_type": "markdown",
      "metadata": {
        "id": "Qr8r88YAIiLX"
      },
      "source": [
        "Given an array arr[] of size n containing integers. The problem is to find the length of the longest sub-array having sum equal to the given value k.\n",
        "Examples: \n",
        " \n",
        "\n",
        "* Input : arr[] = { 10, 5, 2, 7, 1, 9 }, \n",
        "            k = 15\n",
        "           Output : 4\n",
        "           The sub-array is {5, 2, 7, 1}.\n",
        "\n",
        "* Input : arr[] = {-5, 8, -14, 2, 4, 12},\n",
        "            k = -5\n",
        "            Output : 5"
      ]
    },
    {
      "cell_type": "code",
      "metadata": {
        "id": "-WtxwYRWab_p"
      },
      "source": [
        "def solution(arr,k):\n",
        "  mxlen=0\n",
        "  j=0\n",
        "  summ=0\n",
        "  l=len(arr)\n",
        "  dic={}\n",
        "  while j<l:\n",
        "    summ+=arr[j]\n",
        "    if summ-k in dic:\n",
        "      mxlen=max(mxlen,j-dic[summ-k])\n",
        "    elif summ==k:\n",
        "      mxlen=j+1\n",
        "    if summ not in dic:\n",
        "            dic[summ] = j\n",
        "    j+=1\n",
        "  return mxlen\n",
        "\n",
        "    \n"
      ],
      "execution_count": 7,
      "outputs": []
    },
    {
      "cell_type": "code",
      "metadata": {
        "colab": {
          "base_uri": "https://localhost:8080/"
        },
        "id": "T-3lzFgClDi3",
        "outputId": "7e24a911-82a0-40b9-b0cf-5dd830be6930"
      },
      "source": [
        "solution([10, 5, 2, 7, 1, 9],15)"
      ],
      "execution_count": 8,
      "outputs": [
        {
          "output_type": "execute_result",
          "data": {
            "text/plain": [
              "4"
            ]
          },
          "metadata": {},
          "execution_count": 8
        }
      ]
    },
    {
      "cell_type": "code",
      "metadata": {
        "colab": {
          "base_uri": "https://localhost:8080/"
        },
        "id": "S_P5vCh2lLqE",
        "outputId": "047ebe0f-4432-4883-f926-56f0402be58b"
      },
      "source": [
        "solution([4,1,1,1,2,3,5],5)"
      ],
      "execution_count": 9,
      "outputs": [
        {
          "output_type": "execute_result",
          "data": {
            "text/plain": [
              "4"
            ]
          },
          "metadata": {},
          "execution_count": 9
        }
      ]
    },
    {
      "cell_type": "code",
      "metadata": {
        "colab": {
          "base_uri": "https://localhost:8080/"
        },
        "id": "AsxlST53shRH",
        "outputId": "f2eba909-9a2b-45be-d2e6-4c90e7f05ec8"
      },
      "source": [
        "solution([-5,8,-14,2,4,12],-5)"
      ],
      "execution_count": 10,
      "outputs": [
        {
          "output_type": "execute_result",
          "data": {
            "text/plain": [
              "5"
            ]
          },
          "metadata": {},
          "execution_count": 10
        }
      ]
    },
    {
      "cell_type": "code",
      "metadata": {
        "colab": {
          "base_uri": "https://localhost:8080/"
        },
        "id": "7teVMGFeeTDF",
        "outputId": "1a717d69-ff1e-4f97-a448-895329073f20"
      },
      "source": [
        "dic={1:2,3:4,5:5}\n",
        "dic"
      ],
      "execution_count": null,
      "outputs": [
        {
          "output_type": "execute_result",
          "data": {
            "text/plain": [
              "{1: 2, 3: 4, 5: 5}"
            ]
          },
          "metadata": {},
          "execution_count": 2
        }
      ]
    },
    {
      "cell_type": "markdown",
      "metadata": {
        "id": "3khCz_wQeSQo"
      },
      "source": [
        ""
      ]
    }
  ]
}