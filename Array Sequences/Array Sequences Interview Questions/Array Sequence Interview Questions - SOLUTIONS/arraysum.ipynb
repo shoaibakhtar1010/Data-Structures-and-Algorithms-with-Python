{
  "nbformat": 4,
  "nbformat_minor": 0,
  "metadata": {
    "kernelspec": {
      "display_name": "Python 3",
      "language": "python",
      "name": "python3"
    },
    "language_info": {
      "codemirror_mode": {
        "name": "ipython",
        "version": 3
      },
      "file_extension": ".py",
      "mimetype": "text/x-python",
      "name": "python",
      "nbconvert_exporter": "python",
      "pygments_lexer": "ipython3",
      "version": "3.8.5"
    },
    "colab": {
      "name": "arraysum.ipynb",
      "provenance": [],
      "include_colab_link": true
    }
  },
  "cells": [
    {
      "cell_type": "markdown",
      "metadata": {
        "id": "view-in-github",
        "colab_type": "text"
      },
      "source": [
        "<a href=\"https://colab.research.google.com/github/shoaibakhtar1010/Data-Structures-and-Algorithms-with-Python/blob/main/Array%20Sequences/Array%20Sequences%20Interview%20Questions/Array%20Sequence%20Interview%20Questions%20-%20SOLUTIONS/arraysum.ipynb\" target=\"_parent\"><img src=\"https://colab.research.google.com/assets/colab-badge.svg\" alt=\"Open In Colab\"/></a>"
      ]
    },
    {
      "cell_type": "markdown",
      "metadata": {
        "id": "FLX8UJ0ZNmJ6"
      },
      "source": [
        "Given an array of integers and a number k, find the maximum sum of a subarray of size k. \n",
        "\n",
        "Examples: \n",
        "\n",
        "* Input  : arr[] = {100, 200, 300, 400}\n",
        "         k = 2\n",
        "Output : 700\n",
        "\n",
        "* Input  : arr[] = {1, 4, 2, 10, 23, 3, 1, 0, 20}\n",
        "         k = 4 \n",
        "         Output : 39\n",
        "\n",
        "We get maximum sum by adding subarray {4, 2, 10, 23}\n",
        "of size 4.\n",
        "\n",
        "* Input  : arr[] = {2, 3}\n",
        "         k = 3\n",
        "         Output : Invalid\n",
        "\n",
        "There is no subarray of size 3 as size of whole\n",
        "array is 2. \n",
        "\n",
        "A Simple Solution is to generate all subarrays of size k, compute their sums and finally return the maximum of all sums. The time complexity of this solution is O(n*k).\n",
        "\n",
        "An Efficient Solution is based on the fact that sum of a subarray (or window) of size k can be obtained in O(1) time using the sum of the previous subarray (or window) of size k. Except for the first subarray of size k, for other subarrays, we compute the sum by removing the first element of the last window and adding the last element of the current window.\n",
        "Below is the implementation of the above idea. "
      ]
    },
    {
      "cell_type": "code",
      "metadata": {
        "id": "yQKRQlUCNWfo"
      },
      "source": [
        "def max_sum(arr,k):\n",
        "    arr_sum=0\n",
        "    j=0\n",
        "    i=0\n",
        "    while j<k:\n",
        "        arr_sum+=arr[j]\n",
        "        j+=1\n",
        "    max_sum=0\n",
        "    for j in range(k,len(arr)):\n",
        "        arr_sum-=arr[i]\n",
        "        arr_sum+=arr[j]\n",
        "        i+=1\n",
        "        max_sum=max(arr_sum,max_sum)\n",
        "    return max_sum\n",
        "        \n",
        "        \n",
        "        "
      ],
      "execution_count": 1,
      "outputs": []
    },
    {
      "cell_type": "code",
      "metadata": {
        "colab": {
          "base_uri": "https://localhost:8080/"
        },
        "id": "FxaDf4xNNWf1",
        "outputId": "2ebc5821-5371-4ee0-feeb-90c1f23a28f4"
      },
      "source": [
        "max_sum([500,200,300,400],2)"
      ],
      "execution_count": 2,
      "outputs": [
        {
          "output_type": "execute_result",
          "data": {
            "text/plain": [
              "700"
            ]
          },
          "metadata": {},
          "execution_count": 2
        }
      ]
    },
    {
      "cell_type": "code",
      "metadata": {
        "colab": {
          "base_uri": "https://localhost:8080/"
        },
        "id": "HtBJ3ynnNWf5",
        "outputId": "071dd0c5-9abd-4ac8-d739-9d28691177cb"
      },
      "source": [
        "max_sum([1, 4, 2, 10, 23, 3, 1, 0, 20],4)"
      ],
      "execution_count": 3,
      "outputs": [
        {
          "output_type": "execute_result",
          "data": {
            "text/plain": [
              "39"
            ]
          },
          "metadata": {},
          "execution_count": 3
        }
      ]
    },
    {
      "cell_type": "code",
      "metadata": {
        "id": "u7lSSDGZObr7"
      },
      "source": [
        ""
      ],
      "execution_count": null,
      "outputs": []
    }
  ]
}