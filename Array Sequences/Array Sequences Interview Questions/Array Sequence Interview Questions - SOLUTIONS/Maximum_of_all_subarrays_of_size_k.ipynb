{
  "nbformat": 4,
  "nbformat_minor": 0,
  "metadata": {
    "colab": {
      "name": "Maximum_of_all_subarrays_of_size_k.ipynb",
      "provenance": [],
      "authorship_tag": "ABX9TyPDYAAvCVNDQzpnFzaVn4BK",
      "include_colab_link": true
    },
    "kernelspec": {
      "name": "python3",
      "display_name": "Python 3"
    },
    "language_info": {
      "name": "python"
    }
  },
  "cells": [
    {
      "cell_type": "markdown",
      "metadata": {
        "id": "view-in-github",
        "colab_type": "text"
      },
      "source": [
        "<a href=\"https://colab.research.google.com/github/shoaibakhtar1010/Data-Structures-and-Algorithms-with-Python/blob/main/Array%20Sequences/Array%20Sequences%20Interview%20Questions/Array%20Sequence%20Interview%20Questions%20-%20SOLUTIONS/Maximum_of_all_subarrays_of_size_k.ipynb\" target=\"_parent\"><img src=\"https://colab.research.google.com/assets/colab-badge.svg\" alt=\"Open In Colab\"/></a>"
      ]
    },
    {
      "cell_type": "markdown",
      "metadata": {
        "id": "-2k6BUA-dfP5"
      },
      "source": [
        "Sliding Window Maximum (Maximum of all subarrays of size k)\n",
        "Difficulty Level : Hard\n",
        "Last Updated : 09 Sep, 2021\n",
        "Given an array and an integer K, find the maximum for each and every contiguous subarray of size k.\n",
        "\n",
        "Examples : \n",
        "\n",
        "* Input: arr[] = {1, 2, 3, 1, 4, 5, 2, 3, 6}, K = 3 \n",
        "* Output: 3 3 4 5 5 5 6\n",
        "\n",
        "\n",
        "**Explanation**\n",
        "* Maximum of 1, 2, 3 is 3\n",
        "* Maximum of 2, 3, 1 is 3\n",
        "* Maximum of 3, 1, 4 is 4\n",
        "* Maximum of 1, 4, 5 is 5\n",
        "* Maximum of 4, 5, 2 is 5 \n",
        "* Maximum of 5, 2, 3 is 5\n",
        "* Maximum of 2, 3, 6 is 6\n",
        "\n",
        "Input: arr[] = {8, 5, 10, 7, 9, 4, 15, 12, 90, 13}, K = 4 \n",
        "\n",
        "Output: 10 10 10 15 15 90 90\n",
        "\n",
        "**Explanation:**\n",
        "\n",
        "Maximum of first 4 elements is 10, similarly for next 4 \n",
        "elements (i.e from index 1 to 4) is 10, So the sequence \n",
        "generated is 10 10 10 15 15 90 90"
      ]
    },
    {
      "cell_type": "code",
      "metadata": {
        "id": "RsycKpdINIMF"
      },
      "source": [
        "def solution(lis,k):\n",
        "  i,j=0,1\n",
        "  l=len(lis)\n",
        "  out_arr=[]\n",
        "  from collections import deque\n",
        "  max_arr=deque([lis[0]])\n",
        "  if len(lis)<k:\n",
        "    return 0\n",
        "  if len(lis)==1:\n",
        "    return lis\n",
        "  while j<l:\n",
        "    while len(max_arr)>0 and lis[j]>=max_arr[-1]:\n",
        "      max_arr.pop()\n",
        "    max_arr.append(lis[j])\n",
        "\n",
        "    if j-i+1<k:\n",
        "      j+=1\n",
        "    elif j-i+1==k:\n",
        "      out_arr.append(max_arr[0])\n",
        "      if lis[i]==max_arr[0]:\n",
        "        max_arr.popleft()\n",
        "      i+=1\n",
        "      j+=1\n",
        "  return out_arr\n",
        "\n"
      ],
      "execution_count": 1,
      "outputs": []
    },
    {
      "cell_type": "code",
      "metadata": {
        "colab": {
          "base_uri": "https://localhost:8080/"
        },
        "id": "fYlcrkT8ddTe",
        "outputId": "6adb5e3b-6c75-4812-f2a3-a796f63e016e"
      },
      "source": [
        "solution([1, 2, 3, 1, 4, 5, 2, 3, 6],3)"
      ],
      "execution_count": 2,
      "outputs": [
        {
          "output_type": "execute_result",
          "data": {
            "text/plain": [
              "[3, 3, 4, 5, 5, 5, 6]"
            ]
          },
          "metadata": {},
          "execution_count": 2
        }
      ]
    },
    {
      "cell_type": "code",
      "metadata": {
        "id": "ER6X5NXQKQMQ"
      },
      "source": [
        ""
      ],
      "execution_count": 4,
      "outputs": []
    },
    {
      "cell_type": "code",
      "metadata": {
        "id": "0KITq3r9MU90"
      },
      "source": [
        ""
      ],
      "execution_count": null,
      "outputs": []
    }
  ]
}