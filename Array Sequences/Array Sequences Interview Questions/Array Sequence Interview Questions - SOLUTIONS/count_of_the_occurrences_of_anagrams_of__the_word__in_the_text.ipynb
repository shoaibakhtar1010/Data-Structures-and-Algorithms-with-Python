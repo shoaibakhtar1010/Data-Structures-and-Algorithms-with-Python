{
  "nbformat": 4,
  "nbformat_minor": 0,
  "metadata": {
    "colab": {
      "name": "count_of_the_occurrences_of_anagrams_of _the_word _in_the_text.ipynb",
      "provenance": [],
      "authorship_tag": "ABX9TyPU/b8laabrCgqPoljQobXd",
      "include_colab_link": true
    },
    "kernelspec": {
      "name": "python3",
      "display_name": "Python 3"
    },
    "language_info": {
      "name": "python"
    }
  },
  "cells": [
    {
      "cell_type": "markdown",
      "metadata": {
        "id": "view-in-github",
        "colab_type": "text"
      },
      "source": [
        "<a href=\"https://colab.research.google.com/github/shoaibakhtar1010/Data-Structures-and-Algorithms-with-Python/blob/main/Array%20Sequences/Array%20Sequences%20Interview%20Questions/Array%20Sequence%20Interview%20Questions%20-%20SOLUTIONS/count_of_the_occurrences_of_anagrams_of__the_word__in_the_text.ipynb\" target=\"_parent\"><img src=\"https://colab.research.google.com/assets/colab-badge.svg\" alt=\"Open In Colab\"/></a>"
      ]
    },
    {
      "cell_type": "markdown",
      "metadata": {
        "id": "pnfmmlNZitm-"
      },
      "source": [
        "Given a word and a text, return the count of the occurrences of anagrams of the word in the text(For eg: anagrams of word for are for, ofr, rof etc.))\n",
        "\n",
        "Examples: \n",
        "\n",
        "Input : \n",
        "\n",
        "        word: forxxorfxdofr\n",
        "        text: for\n",
        "        Output : 3\n",
        "        Explanation : Anagrams of the word for - for, orf, ofr appear in the text and hence the count is 3.\n",
        "\n",
        "Input : \n",
        "\n",
        "        word: aabaabaa\n",
        "        text: aaba\n",
        "        Output : 4\n",
        "        Explanation : Anagrams of the word aaba - aaba, abaa each appear twice in the text and hence the count is 4."
      ]
    },
    {
      "cell_type": "code",
      "metadata": {
        "id": "gBP-z3jVioBP"
      },
      "source": [
        "def solution(word,text):\n",
        "  from collections import Counter\n",
        "  map=Counter(text)\n",
        "  count=len(map)\n",
        "  l=len(word)\n",
        "  k=len(text)\n",
        "  i,j=0,0\n",
        "  ans=0\n",
        "  while j<l:\n",
        "    if word[j] in map:\n",
        "        map[word[j]]-=1\n",
        "        if map[word[j]]==0:\n",
        "          count-=1\n",
        "    \n",
        "    if j-i+1==k:\n",
        "      if count==0:\n",
        "            ans+=1\n",
        "      if word[i] in map:\n",
        "        if map[word[i]]==0:\n",
        "          map[word[i]]+=1\n",
        "          count+=1\n",
        "        else:\n",
        "          map[word[i]]+=1\n",
        "      j+=1\n",
        "      i+=1\n",
        "    else:\n",
        "       j+=1\n",
        "   \n",
        "  return ans\n",
        "\n",
        "\n",
        "\n"
      ],
      "execution_count": 20,
      "outputs": []
    },
    {
      "cell_type": "code",
      "metadata": {
        "colab": {
          "base_uri": "https://localhost:8080/"
        },
        "id": "ElVV76fbu3RW",
        "outputId": "c2aa0d68-dad8-492a-bd93-f5a5c24db3e6"
      },
      "source": [
        "solution( \"cbaebabacd\", \"abc\")"
      ],
      "execution_count": 21,
      "outputs": [
        {
          "output_type": "execute_result",
          "data": {
            "text/plain": [
              "2"
            ]
          },
          "metadata": {},
          "execution_count": 21
        }
      ]
    },
    {
      "cell_type": "code",
      "metadata": {
        "id": "HZfrRbrxWgUt",
        "colab": {
          "base_uri": "https://localhost:8080/"
        },
        "outputId": "712510c9-3629-4c1f-d577-20db9946394d"
      },
      "source": [
        "solution(\"abab\",  \"ab\")"
      ],
      "execution_count": 22,
      "outputs": [
        {
          "output_type": "execute_result",
          "data": {
            "text/plain": [
              "3"
            ]
          },
          "metadata": {},
          "execution_count": 22
        }
      ]
    },
    {
      "cell_type": "code",
      "metadata": {
        "id": "aSiUtX_St_Pd"
      },
      "source": [
        ""
      ],
      "execution_count": null,
      "outputs": []
    }
  ]
}