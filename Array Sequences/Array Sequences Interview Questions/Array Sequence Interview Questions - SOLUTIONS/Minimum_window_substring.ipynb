{
  "nbformat": 4,
  "nbformat_minor": 0,
  "metadata": {
    "colab": {
      "name": "Minimum_window_substring.ipynb",
      "provenance": [],
      "authorship_tag": "ABX9TyNs72qSD7yXqrq3umW4n1Ou",
      "include_colab_link": true
    },
    "kernelspec": {
      "name": "python3",
      "display_name": "Python 3"
    },
    "language_info": {
      "name": "python"
    }
  },
  "cells": [
    {
      "cell_type": "markdown",
      "metadata": {
        "id": "view-in-github",
        "colab_type": "text"
      },
      "source": [
        "<a href=\"https://colab.research.google.com/github/shoaibakhtar1010/Data-Structures-and-Algorithms-with-Python/blob/main/Array%20Sequences/Array%20Sequences%20Interview%20Questions/Array%20Sequence%20Interview%20Questions%20-%20SOLUTIONS/Minimum_window_substring.ipynb\" target=\"_parent\"><img src=\"https://colab.research.google.com/assets/colab-badge.svg\" alt=\"Open In Colab\"/></a>"
      ]
    },
    {
      "cell_type": "code",
      "metadata": {
        "colab": {
          "base_uri": "https://localhost:8080/",
          "height": 35
        },
        "id": "MULhmM_eCZE8",
        "outputId": "52ae2321-2e96-46a5-b3ab-a33a46e09c86"
      },
      "source": [
        "'Minimum window substring'.replace(' ','_')"
      ],
      "execution_count": 1,
      "outputs": [
        {
          "output_type": "execute_result",
          "data": {
            "application/vnd.google.colaboratory.intrinsic+json": {
              "type": "string"
            },
            "text/plain": [
              "'Minimum_window_substring'"
            ]
          },
          "metadata": {},
          "execution_count": 1
        }
      ]
    },
    {
      "cell_type": "markdown",
      "metadata": {
        "id": "oowTKQ1iGgVb"
      },
      "source": [
        "Given two strings s and t of lengths m and n respectively, return the minimum window substring of s such that every character in t (including duplicates) is included in the window. If there is no such substring, return the empty string \"\".\n",
        "\n",
        "The testcases will be generated such that the answer is unique.\n",
        "\n",
        "A substring is a contiguous sequence of characters within the string.\n",
        "\n",
        "* Input: s = \"ADOBECODEBANC\", t = \"ABC\"\n",
        "\n",
        "  Output: \"BANC\"\n",
        "\n",
        "  Explanation: The minimum window substring \"BANC\" includes 'A', 'B', and 'C'  from string t.\n",
        "\n",
        "* Input: s = \"a\", t = \"a\"\n",
        "\n",
        "  Output: \"a\"\n",
        "\n",
        "  Explanation: The entire string s is the minimum window.\n",
        "\n",
        "\n",
        "* Input: s = \"a\", t = \"aa\"\n",
        "\n",
        "  Output: \"\"\n",
        "\n",
        "  Explanation: Both 'a's from t must be included in the window.\n",
        "Since the largest window of s only has one 'a', return empty string."
      ]
    },
    {
      "cell_type": "code",
      "metadata": {
        "id": "mIvLCIePCi2V"
      },
      "source": [
        "def solution(string,pattern):\n",
        "  from collections import Counter\n",
        "  map=Counter(pattern)\n",
        "  k=len(map)\n",
        "  i,j=0,0\n",
        "  minn=100000\n",
        "  if len(string)<len(pattern):\n",
        "    return \"\"\n",
        "  if len(string)==1:\n",
        "    return string\n",
        "  output_str=\"\"\n",
        "  while j<len(string):\n",
        "    if string[j] in map:\n",
        "      map[string[j]]-=1\n",
        "      if map[string[j]]==0:\n",
        "        k-=1\n",
        "    if k>0:\n",
        "      j+=1\n",
        "    elif k==0:\n",
        "      while k==0:\n",
        "        if string[i] in map:\n",
        "          if map[string[i]]<=0:\n",
        "            map[string[i]]+=1\n",
        "            if map[string[i]]>0:\n",
        "              k+=1\n",
        "        i+=1\n",
        "      if len(string[i:j])<minn:\n",
        "        output_str=string[i-1:j+1]\n",
        "      j+=1\n",
        "  return output_str"
      ],
      "execution_count": 29,
      "outputs": []
    },
    {
      "cell_type": "markdown",
      "metadata": {
        "id": "_bmvNJiQGe1a"
      },
      "source": [
        ""
      ]
    },
    {
      "cell_type": "code",
      "metadata": {
        "colab": {
          "base_uri": "https://localhost:8080/",
          "height": 35
        },
        "id": "qC95rG2GfQe6",
        "outputId": "f444613c-d998-4cb5-c225-4e9d6fff0914"
      },
      "source": [
        "solution(\"a\",\"a\")"
      ],
      "execution_count": 30,
      "outputs": [
        {
          "output_type": "execute_result",
          "data": {
            "application/vnd.google.colaboratory.intrinsic+json": {
              "type": "string"
            },
            "text/plain": [
              "'a'"
            ]
          },
          "metadata": {},
          "execution_count": 30
        }
      ]
    },
    {
      "cell_type": "code",
      "metadata": {
        "colab": {
          "base_uri": "https://localhost:8080/",
          "height": 35
        },
        "id": "A50GwsXlfQiW",
        "outputId": "0cd519c3-512e-4fc9-e8ed-5bb5eb00bd2f"
      },
      "source": [
        "solution(string = \"this is a test string\", pattern = \"tist\" )"
      ],
      "execution_count": 31,
      "outputs": [
        {
          "output_type": "execute_result",
          "data": {
            "application/vnd.google.colaboratory.intrinsic+json": {
              "type": "string"
            },
            "text/plain": [
              "'t stri'"
            ]
          },
          "metadata": {},
          "execution_count": 31
        }
      ]
    },
    {
      "cell_type": "code",
      "metadata": {
        "colab": {
          "base_uri": "https://localhost:8080/",
          "height": 35
        },
        "id": "WwdUVZNMfQmg",
        "outputId": "00e67057-46d3-47d1-bf32-6335ed480638"
      },
      "source": [
        "solution('ADOBECODEBANC','ABC')"
      ],
      "execution_count": 32,
      "outputs": [
        {
          "output_type": "execute_result",
          "data": {
            "application/vnd.google.colaboratory.intrinsic+json": {
              "type": "string"
            },
            "text/plain": [
              "'BANC'"
            ]
          },
          "metadata": {},
          "execution_count": 32
        }
      ]
    },
    {
      "cell_type": "code",
      "metadata": {
        "id": "lx7pnkHEfQrB"
      },
      "source": [
        ""
      ],
      "execution_count": null,
      "outputs": []
    }
  ]
}