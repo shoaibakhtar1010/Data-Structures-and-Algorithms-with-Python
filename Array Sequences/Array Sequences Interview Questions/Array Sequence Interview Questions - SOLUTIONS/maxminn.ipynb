{
  "nbformat": 4,
  "nbformat_minor": 0,
  "metadata": {
    "colab": {
      "name": "maxminn.ipynb",
      "provenance": [],
      "authorship_tag": "ABX9TyPi+NP9sq5HbrU/OGe55Env",
      "include_colab_link": true
    },
    "kernelspec": {
      "name": "python3",
      "display_name": "Python 3"
    },
    "language_info": {
      "name": "python"
    }
  },
  "cells": [
    {
      "cell_type": "markdown",
      "metadata": {
        "id": "view-in-github",
        "colab_type": "text"
      },
      "source": [
        "<a href=\"https://colab.research.google.com/github/shoaibakhtar1010/Data-Structures-and-Algorithms-with-Python/blob/main/Array%20Sequences/Array%20Sequences%20Interview%20Questions/Array%20Sequence%20Interview%20Questions%20-%20SOLUTIONS/maxminn.ipynb\" target=\"_parent\"><img src=\"https://colab.research.google.com/assets/colab-badge.svg\" alt=\"Open In Colab\"/></a>"
      ]
    },
    {
      "cell_type": "markdown",
      "source": [
        "\n",
        "\n",
        "```\n",
        "# This is formatted as code\n",
        "import sys\n",
        "maxSize = sys.maxsize\n",
        "minSize = -sys.maxsize - 1\n",
        "```\n",
        "\n"
      ],
      "metadata": {
        "id": "VvBOn9hNR422"
      }
    },
    {
      "cell_type": "markdown",
      "source": [
        "\n",
        "\n",
        "```\n",
        "Problem Description\n",
        "\n",
        "Given an array A of size N. You need to find the sum of Maximum and Minimum element in the given array.\n",
        "\n",
        "NOTE: You should make minimum number of comparisons.\n",
        "\n",
        "\n",
        "\n",
        "Problem Constraints\n",
        "1 <= N <= 105\n",
        "\n",
        "-109 <= A[i] <= 109\n",
        "\n",
        "\n",
        "\n",
        "Input Format\n",
        "First and only argument is an integer array A of size N.\n",
        "\n",
        "\n",
        "\n",
        "Output Format\n",
        "Return an integer denoting the sum Maximum and Minimum element in the given array.\n",
        "\n",
        "\n",
        "\n",
        "Example Input\n",
        "Input 1:\n",
        "\n",
        " A = [-2, 1, -4, 5, 3]\n",
        "Input 2:\n",
        "\n",
        " A = [1, 3, 4, 1]\n",
        "\n",
        "\n",
        "Example Output\n",
        "Output 1:\n",
        "\n",
        " 1\n",
        "Output 2:\n",
        "\n",
        " 5\n",
        "\n",
        "\n",
        "Example Explanation\n",
        "Explanation 1:\n",
        "\n",
        " Maximum Element is 5 and Minimum element is -4. (5 + (-4)) = 1. \n",
        "Explanation 2:\n",
        "\n",
        " Maximum Element is 4 and Minimum element is 1. (4 + 1) = 5.\n",
        "```\n",
        "\n"
      ],
      "metadata": {
        "id": "ypiPYh5ssvcp"
      }
    },
    {
      "cell_type": "code",
      "execution_count": 8,
      "metadata": {
        "id": "KS_h80O7RzGP"
      },
      "outputs": [],
      "source": [
        "def solve(A):\n",
        "        n=len(A)\n",
        "        import sys\n",
        "        maxx=-sys.maxsize-1\n",
        "        minn=sys.maxsize\n",
        "        for i in range(n):\n",
        "            if minn>A[i]:\n",
        "                minn=A[i]\n",
        "            if maxx<A[i]:\n",
        "                maxx=A[i]\n",
        "        return minn+maxx"
      ]
    },
    {
      "cell_type": "code",
      "source": [
        "solve([-2,1,-4,5,3])"
      ],
      "metadata": {
        "colab": {
          "base_uri": "https://localhost:8080/"
        },
        "id": "_MaPLTtVZD_4",
        "outputId": "4f313f40-8bac-4cd5-b2e4-5d6173cf2940"
      },
      "execution_count": 9,
      "outputs": [
        {
          "output_type": "execute_result",
          "data": {
            "text/plain": [
              "1"
            ]
          },
          "metadata": {},
          "execution_count": 9
        }
      ]
    },
    {
      "cell_type": "code",
      "source": [
        ""
      ],
      "metadata": {
        "id": "CHYuYAbzZRgG"
      },
      "execution_count": null,
      "outputs": []
    }
  ]
}