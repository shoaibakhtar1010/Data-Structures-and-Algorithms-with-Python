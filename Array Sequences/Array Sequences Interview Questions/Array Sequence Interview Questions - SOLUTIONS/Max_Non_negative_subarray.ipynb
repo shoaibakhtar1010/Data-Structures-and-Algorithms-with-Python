{
  "nbformat": 4,
  "nbformat_minor": 0,
  "metadata": {
    "colab": {
      "name": "Max_Non_negative_subarray.ipynb",
      "provenance": [],
      "authorship_tag": "ABX9TyO//Fcif/KoYiP43B20F9te",
      "include_colab_link": true
    },
    "kernelspec": {
      "name": "python3",
      "display_name": "Python 3"
    },
    "language_info": {
      "name": "python"
    }
  },
  "cells": [
    {
      "cell_type": "markdown",
      "metadata": {
        "id": "view-in-github",
        "colab_type": "text"
      },
      "source": [
        "<a href=\"https://colab.research.google.com/github/shoaibakhtar1010/Data-Structures-and-Algorithms-with-Python/blob/main/Array%20Sequences/Array%20Sequences%20Interview%20Questions/Array%20Sequence%20Interview%20Questions%20-%20SOLUTIONS/Max_Non_negative_subarray.ipynb\" target=\"_parent\"><img src=\"https://colab.research.google.com/assets/colab-badge.svg\" alt=\"Open In Colab\"/></a>"
      ]
    },
    {
      "cell_type": "markdown",
      "source": [
        "**Problem Description**\n",
        "\n",
        "Given an array of integers, A of length N, find out the maximum sum sub-array of non negative numbers from A.\n",
        "\n",
        "The sub-array should be contiguous i.e., a sub-array created by choosing the second and fourth element and skipping the third element is invalid.\n",
        "\n",
        "Maximum sub-array is defined in terms of the sum of the elements in the sub-array.\n",
        "\n",
        "Find and return the required subarray.\n",
        "\n",
        "**NOTE:**  \n",
        "\n",
        "If there is a tie, then compare with segment's length and return segment which has maximum length.\n",
        "If there is still a tie, then return the segment with minimum starting index.\n",
        "\n",
        "\n",
        "**Problem Constraints**\n",
        "\n",
        "1 <= N <= 105\n",
        "\n",
        "-109 <= A[i] <= 109\n",
        "\n",
        "\n",
        "\n",
        "**Input Format**\n",
        "\n",
        "The first and the only argument of input contains an integer array A, of length N.\n",
        "\n",
        "**Output Format**\n",
        "\n",
        "Return an array of integers, that is a subarray of A that satisfies the given conditions.\n",
        "\n",
        "\n",
        "~~~\n",
        "Example Input\n",
        "Input 1:\n",
        "\n",
        " A = [1, 2, 5, -7, 2, 3]\n",
        "Input 2:\n",
        "\n",
        " A = [10, -1, 2, 3, -4, 100]\n",
        "\n",
        "\n",
        "Example Output\n",
        "Output 1:\n",
        "\n",
        " [1, 2, 5]\n",
        "Output 2:\n",
        "\n",
        " [100]\n",
        "\n",
        "\n",
        "Example Explanation\n",
        "Explanation 1:\n",
        "\n",
        " The two sub-arrays are [1, 2, 5] [2, 3].\n",
        " The answer is [1, 2, 5] as its sum is larger than [2, 3].\n",
        "Explanation 2:\n",
        "\n",
        " The three sub-arrays are [10], [2, 3], [100].\n",
        " The answer is [100] as its sum is larger than the other two.\n",
        " ~~~"
      ],
      "metadata": {
        "id": "O78j3TuFrOsn"
      }
    },
    {
      "cell_type": "code",
      "execution_count": 12,
      "metadata": {
        "id": "LuiXyzUUynpt"
      },
      "outputs": [],
      "source": [
        "def maxset(A):\n",
        "        ms_lis=[]\n",
        "        cs_lis=[]\n",
        "        for i in A:\n",
        "            if i>=0:\n",
        "                cs_lis.append(i)\n",
        "            else:\n",
        "               if sum(ms_lis)<=sum(cs_lis):\n",
        "                   ms_lis=cs_lis\n",
        "               cs_lis=[]\n",
        "        if sum(ms_lis)<sum(cs_lis):\n",
        "          ms_lis=cs_lis\n",
        "        return ms_lis"
      ]
    },
    {
      "cell_type": "code",
      "source": [
        "maxset([0,0,-1,0])"
      ],
      "metadata": {
        "id": "GsZvKRZq-FjU",
        "colab": {
          "base_uri": "https://localhost:8080/"
        },
        "outputId": "4d5859fa-9e9e-4b29-ceac-6c2810c06cce"
      },
      "execution_count": 13,
      "outputs": [
        {
          "output_type": "execute_result",
          "data": {
            "text/plain": [
              "[0, 0]"
            ]
          },
          "metadata": {},
          "execution_count": 13
        }
      ]
    }
  ]
}