{
  "nbformat": 4,
  "nbformat_minor": 0,
  "metadata": {
    "colab": {
      "name": "set_matrix_zero.ipynb",
      "provenance": [],
      "authorship_tag": "ABX9TyMPI4ITsLIVj2l90XYrb7n8",
      "include_colab_link": true
    },
    "kernelspec": {
      "name": "python3",
      "display_name": "Python 3"
    },
    "language_info": {
      "name": "python"
    }
  },
  "cells": [
    {
      "cell_type": "markdown",
      "metadata": {
        "id": "view-in-github",
        "colab_type": "text"
      },
      "source": [
        "<a href=\"https://colab.research.google.com/github/shoaibakhtar1010/Data-Structures-and-Algorithms-with-Python/blob/main/Array%20Sequences/Array%20Sequences%20Interview%20Questions/Array%20Sequence%20Interview%20Questions%20-%20SOLUTIONS/set_matrix_zero.ipynb\" target=\"_parent\"><img src=\"https://colab.research.google.com/assets/colab-badge.svg\" alt=\"Open In Colab\"/></a>"
      ]
    },
    {
      "cell_type": "markdown",
      "source": [
        "Set Matrix Zero\n",
        "Problem Statement: Given a matrix if an element in the matrix is 0 then you will have to set its entire column and row to 0 and then return the matrix.\n",
        "~~~\n",
        "Examples:\n",
        "\n",
        "Examples 1:\n",
        "\n",
        "Input: matrix=[[1,1,1],[1,0,1],[1,1,1]]\n",
        "\n",
        "Output: [[1,0,1],[0,0,0],[1,0,1]]\n",
        "\n",
        "Explanation: Since matrix[2][2]=0.Therfore the 2nd column and 2nd row wil be set to 0.\n",
        " \n",
        "Input: matrix=[[0,1,2,0],[3,4,5,2],[1,3,1,5]]\n",
        "\n",
        "Output:[[0,0,0,0],[0,4,5,0],[0,3,1,0]]\n",
        "~~~\n",
        "Explanation:Since matrix[0][0]=0 and matrix[0][3]=0. Therefore 1st row, 1st column and 4th column will be set to "
      ],
      "metadata": {
        "id": "Qodk9vvEJAcG"
      }
    },
    {
      "cell_type": "code",
      "execution_count": 10,
      "metadata": {
        "id": "VcBa0JIAKY8p"
      },
      "outputs": [],
      "source": [
        "class Solution:\n",
        "    def setZeroes(self, matrix):\n",
        "        \"\"\"\n",
        "        Do not return anything, modify matrix in-place instead.\n",
        "        \"\"\"\n",
        "        m,n=len(matrix),len(matrix[0])\n",
        "        k=matrix\n",
        "        row=set()\n",
        "        col=set()\n",
        "        for i in range(m):\n",
        "            for j in range(n):\n",
        "                if matrix[i][j]==0:\n",
        "                    row.add(i)\n",
        "                    col.add(j)\n",
        "        for i in range(m):\n",
        "            for j in range(n):\n",
        "                if i in row:\n",
        "                    matrix[i][j]=0\n",
        "                if j in col:\n",
        "                    matrix[i][j]=0\n",
        "        return matrix"
      ]
    },
    {
      "cell_type": "code",
      "source": [
        "k=Solution()"
      ],
      "metadata": {
        "id": "hGytMbzZSZKA"
      },
      "execution_count": 11,
      "outputs": []
    },
    {
      "cell_type": "code",
      "source": [
        "k.setZeroes([[1,1,1],[1,0,1],[1,1,1]])"
      ],
      "metadata": {
        "colab": {
          "base_uri": "https://localhost:8080/"
        },
        "id": "jyStolr0Sc9K",
        "outputId": "e8db8a4d-52df-4b2f-fb47-61eb173d39a5"
      },
      "execution_count": 12,
      "outputs": [
        {
          "output_type": "execute_result",
          "data": {
            "text/plain": [
              "[[1, 0, 1], [0, 0, 0], [1, 0, 1]]"
            ]
          },
          "metadata": {},
          "execution_count": 12
        }
      ]
    },
    {
      "cell_type": "code",
      "source": [
        "a=[[1,1,1],[1,0,1],[1,1,1]]"
      ],
      "metadata": {
        "id": "qZ479aD7Sx7E"
      },
      "execution_count": 7,
      "outputs": []
    },
    {
      "cell_type": "code",
      "source": [
        "a[0,:]=0"
      ],
      "metadata": {
        "colab": {
          "base_uri": "https://localhost:8080/",
          "height": 165
        },
        "id": "P0t3UbtL8pOd",
        "outputId": "656a66a2-6c10-4d94-aaf4-fa79fd8edbc0"
      },
      "execution_count": 9,
      "outputs": [
        {
          "output_type": "error",
          "ename": "TypeError",
          "evalue": "ignored",
          "traceback": [
            "\u001b[0;31m---------------------------------------------------------------------------\u001b[0m",
            "\u001b[0;31mTypeError\u001b[0m                                 Traceback (most recent call last)",
            "\u001b[0;32m<ipython-input-9-289882cdc35c>\u001b[0m in \u001b[0;36m<module>\u001b[0;34m()\u001b[0m\n\u001b[0;32m----> 1\u001b[0;31m \u001b[0ma\u001b[0m\u001b[0;34m[\u001b[0m\u001b[0;36m0\u001b[0m\u001b[0;34m,\u001b[0m\u001b[0;34m:\u001b[0m\u001b[0;34m]\u001b[0m\u001b[0;34m=\u001b[0m\u001b[0;36m0\u001b[0m\u001b[0;34m\u001b[0m\u001b[0;34m\u001b[0m\u001b[0m\n\u001b[0m",
            "\u001b[0;31mTypeError\u001b[0m: list indices must be integers or slices, not tuple"
          ]
        }
      ]
    },
    {
      "cell_type": "code",
      "source": [
        "a"
      ],
      "metadata": {
        "colab": {
          "base_uri": "https://localhost:8080/"
        },
        "id": "T9ACr1W8HF85",
        "outputId": "17d1d7a2-9eb1-4fe7-8d9a-d8cc940217a3"
      },
      "execution_count": 5,
      "outputs": [
        {
          "output_type": "execute_result",
          "data": {
            "text/plain": [
              "[0, [1, 0, 1], [1, 1, 1]]"
            ]
          },
          "metadata": {},
          "execution_count": 5
        }
      ]
    },
    {
      "cell_type": "code",
      "source": [
        ""
      ],
      "metadata": {
        "id": "q388V5dvHJER"
      },
      "execution_count": null,
      "outputs": []
    }
  ]
}