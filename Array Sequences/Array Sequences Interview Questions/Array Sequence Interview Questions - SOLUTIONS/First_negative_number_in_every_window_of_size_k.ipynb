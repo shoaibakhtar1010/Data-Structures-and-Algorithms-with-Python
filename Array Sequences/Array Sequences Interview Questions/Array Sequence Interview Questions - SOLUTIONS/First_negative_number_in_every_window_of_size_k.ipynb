{
  "nbformat": 4,
  "nbformat_minor": 0,
  "metadata": {
    "colab": {
      "name": "First_negative_number_in_every_window_of_size_k.ipynb",
      "provenance": [],
      "authorship_tag": "ABX9TyPGO/emNvEc8wqCHa3pVZHc",
      "include_colab_link": true
    },
    "kernelspec": {
      "name": "python3",
      "display_name": "Python 3"
    },
    "language_info": {
      "name": "python"
    }
  },
  "cells": [
    {
      "cell_type": "markdown",
      "metadata": {
        "id": "view-in-github",
        "colab_type": "text"
      },
      "source": [
        "<a href=\"https://colab.research.google.com/github/shoaibakhtar1010/Data-Structures-and-Algorithms-with-Python/blob/main/Array%20Sequences/Array%20Sequences%20Interview%20Questions/Array%20Sequence%20Interview%20Questions%20-%20SOLUTIONS/First_negative_number_in_every_window_of_size_k.ipynb\" target=\"_parent\"><img src=\"https://colab.research.google.com/assets/colab-badge.svg\" alt=\"Open In Colab\"/></a>"
      ]
    },
    {
      "cell_type": "markdown",
      "metadata": {
        "id": "Sx3Z0jSlafR_"
      },
      "source": [
        "Given an array and a positive integer k, find the first negative integer for each window(contiguous subarray) of size k. If a window does not contain a negative integer, then print 0 for that window.\n",
        "\n",
        "Examples:  \n",
        "\n",
        "Input : arr[] = {-8, 2, 3, -6, 10}, k = 2\n",
        "Output : -8 0 -6 -6\n",
        "First negative integer for each window of size k\n",
        "{-8, 2} = -8\n",
        "{2, 3} = 0 (does not contain a negative integer)\n",
        "{3, -6} = -6\n",
        "{-6, 10} = -6\n",
        "\n",
        "Input : arr[] = {12, -1, -7, 8, -15, 30, 16, 28} , k = 3\n",
        "Output : -1 -1 -7 -15 -15 0"
      ]
    },
    {
      "cell_type": "code",
      "metadata": {
        "id": "B8qtw_v4Z6ct"
      },
      "source": [
        "def solution(arr,k):\n",
        "  i,j=0,0\n",
        "  output_array=[]\n",
        "  neg_array=[]\n",
        "  while j<len(arr):\n",
        "    if arr[j]<0:\n",
        "        neg_array.append(arr[j])\n",
        "    if j-i+1==k:\n",
        "      if len(neg_array)==0:\n",
        "        output_array.append(0)\n",
        "      else:\n",
        "        output_array.append(neg_array[0])\n",
        "        if arr[i]==neg_array[0]:\n",
        "          neg_array.pop(0)\n",
        "      i+=1\n",
        "      j+=1\n",
        "    else:\n",
        "      j+=1\n",
        "  return output_array\n",
        "    \n"
      ],
      "execution_count": 39,
      "outputs": []
    },
    {
      "cell_type": "code",
      "metadata": {
        "colab": {
          "base_uri": "https://localhost:8080/"
        },
        "id": "3lZUZpy0h9cp",
        "outputId": "1b8719a9-294c-4317-d3c5-0745dd1303fc"
      },
      "source": [
        "solution([-8, 2, 3, -6, 10],2)"
      ],
      "execution_count": 40,
      "outputs": [
        {
          "output_type": "execute_result",
          "data": {
            "text/plain": [
              "[-8, 0, -6, -6]"
            ]
          },
          "metadata": {},
          "execution_count": 40
        }
      ]
    },
    {
      "cell_type": "code",
      "metadata": {
        "colab": {
          "base_uri": "https://localhost:8080/"
        },
        "id": "PMPPc4KriAKU",
        "outputId": "ef63c698-c397-489e-b438-89bfc9ab4945"
      },
      "source": [
        "a.pop(0)"
      ],
      "execution_count": 3,
      "outputs": [
        {
          "output_type": "execute_result",
          "data": {
            "text/plain": [
              "1"
            ]
          },
          "metadata": {},
          "execution_count": 3
        }
      ]
    },
    {
      "cell_type": "code",
      "metadata": {
        "colab": {
          "base_uri": "https://localhost:8080/"
        },
        "id": "7iLAnPHaiEwg",
        "outputId": "3c365c1a-1972-4adf-f73f-0b91caf37885"
      },
      "source": [
        "a"
      ],
      "execution_count": 4,
      "outputs": [
        {
          "output_type": "execute_result",
          "data": {
            "text/plain": [
              "[2, 3, 4]"
            ]
          },
          "metadata": {},
          "execution_count": 4
        }
      ]
    },
    {
      "cell_type": "code",
      "metadata": {
        "id": "-seEyfVziI4l"
      },
      "source": [
        ""
      ],
      "execution_count": null,
      "outputs": []
    }
  ]
}