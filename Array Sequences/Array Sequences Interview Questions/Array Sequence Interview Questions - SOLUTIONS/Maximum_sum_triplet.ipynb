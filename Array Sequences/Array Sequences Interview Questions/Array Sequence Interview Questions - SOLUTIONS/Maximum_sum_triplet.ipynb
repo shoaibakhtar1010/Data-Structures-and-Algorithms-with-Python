{
  "nbformat": 4,
  "nbformat_minor": 0,
  "metadata": {
    "colab": {
      "name": "Maximum_sum_triplet.ipynb",
      "provenance": [],
      "authorship_tag": "ABX9TyMd0PGpY1l/QmUJ6OTiugI7",
      "include_colab_link": true
    },
    "kernelspec": {
      "name": "python3",
      "display_name": "Python 3"
    },
    "language_info": {
      "name": "python"
    }
  },
  "cells": [
    {
      "cell_type": "markdown",
      "metadata": {
        "id": "view-in-github",
        "colab_type": "text"
      },
      "source": [
        "<a href=\"https://colab.research.google.com/github/shoaibakhtar1010/Data-Structures-and-Algorithms-with-Python/blob/main/Array%20Sequences/Array%20Sequences%20Interview%20Questions/Array%20Sequence%20Interview%20Questions%20-%20SOLUTIONS/Maximum_sum_triplet.ipynb\" target=\"_parent\"><img src=\"https://colab.research.google.com/assets/colab-badge.svg\" alt=\"Open In Colab\"/></a>"
      ]
    },
    {
      "cell_type": "markdown",
      "source": [
        "**Maximum sum triplet**\n",
        "\n",
        "\n",
        "**Problem Description**\n",
        "\n",
        "Given an array A containing N integers.\n",
        "\n",
        "You need to find the maximum sum of triplet ( Ai + Aj + Ak ) such that 0 <= i < j < k < N and Ai < Aj < Ak.\n",
        "\n",
        "If no such triplet exist return 0.\n",
        "\n",
        "~~~\n",
        "\n",
        "Problem Constraints\n",
        "3 <= N <= 105.\n",
        "\n",
        "1 <= A[i] <= 108.\n",
        "\n",
        "\n",
        "\n",
        "Input Format\n",
        "First argument is an integer array A.\n",
        "\n",
        "\n",
        "\n",
        "Output Format\n",
        "Return a single integer denoting the maximum sum of triplet as described in the question.\n",
        "\n",
        "\n",
        "\n",
        "Example Input\n",
        "Input 1:\n",
        "\n",
        " A = [2, 5, 3, 1, 4, 9]\n",
        "Input 2:\n",
        "\n",
        " A = [1, 2, 3]\n",
        "\n",
        "\n",
        "Example Output\n",
        "Output 1:\n",
        "\n",
        " 16\n",
        "Output 2:\n",
        "\n",
        " 6\n",
        "\n",
        "\n",
        "Example Explanation\n",
        "Explanation 1:\n",
        "\n",
        " All possible triplets are:-\n",
        "    2 3 4 => sum = 9\n",
        "    2 5 9 => sum = 16\n",
        "    2 3 9 => sum = 14\n",
        "    3 4 9 => sum = 16\n",
        "    1 4 9 => sum = 14\n",
        "  Maximum sum = 16\n",
        "Explanation 2:\n",
        "\n",
        " All possible triplets are:-\n",
        "    1 2 3 => sum = 6\n",
        " Maximum sum = 6\n",
        " ~~~"
      ],
      "metadata": {
        "id": "RqnMfpXUzXpB"
      }
    },
    {
      "cell_type": "markdown",
      "source": [
        "**Simple Approach**is to traverse for every triplet with three nested ‘for loops’ and find update the sum of all triplets one by one. Time complexity of this approach is O(N3) which is not sufficient for larger value of ‘N’.\n",
        "\n",
        "\n",
        "**Better approach** is to make further optimization in above approach.\n",
        "Instead of traversing through every triplets with three nested loops, we can traverse through two nested loops.\n",
        "While traversing through each number(assume as middle element(Aj)), find maximum number(Ai) smaller than Aj preceding it and maximum number(Ak) greater than Aj beyond it.\n",
        "Now after that, update the maximum answer with calculated sum of Ai + Aj + Ak.\n",
        "\n",
        "Time complexity: O(N2)\n",
        "\n",
        "Auxiliary space: O(1)\n",
        "\n",
        "This approach is also that much efficient we are looking for.\n",
        "\n",
        "\n",
        "**Best Approach:**\n",
        "Best and efficient approach is use the concept of maximum suffix-array and binary search.\n",
        "\n",
        "For finding maximum number greater than given number beyond it, we can maintain a maximum suffix-array array such that for any number(suffix[i]) it would contain maximum number from index i, i+1, … N-1. Suffix array can be calculated in O(N) time.\n",
        "\n",
        "For finding maximum number smaller than the given number preceding it, we can maintain a sorted list of numbers before a given number such we can simply perform a binary search to find a number which is just smaller than the given number. In C++ language, we can perform this by using set associative container of STL library.\n",
        "\n",
        "Time complexity: O(NlogN)\n",
        "\n",
        "Auxiliary space: O(N)"
      ],
      "metadata": {
        "id": "M6oLxu_S0Yq3"
      }
    },
    {
      "cell_type": "code",
      "source": [
        "from bisect import bisect_left \n",
        "  \n",
        "def BinarySearch(a, x): \n",
        "    i = bisect_left(a, x) \n",
        "    if i: \n",
        "        return (i-1) \n",
        "    else: \n",
        "        return -1\n",
        "def solve(self, A):\n",
        "    l = A\n",
        "    n = len(l)\n",
        "    s = [0] * n\n",
        "    s[n - 1] = l[n - 1]\n",
        "    for i in range(n - 2, -1, -1):\n",
        "        s[i] = max(s[i + 1], l[i])\n",
        "    p = []\n",
        "    me = 0\n",
        "    p.append(l[0])\n",
        "    for i in range(1, n - 1):\n",
        "        res = BinarySearch(p, l[i])\n",
        "        if res != -1 and l[i]<s[i+1]:\n",
        "            ans = p[res] + l[i] + s[i + 1]\n",
        "            me = max(me, ans)\n",
        "        p.insert(res + 1, l[i])\n",
        "    return me"
      ],
      "metadata": {
        "id": "by4lejiYQqu3"
      },
      "execution_count": null,
      "outputs": []
    }
  ]
}