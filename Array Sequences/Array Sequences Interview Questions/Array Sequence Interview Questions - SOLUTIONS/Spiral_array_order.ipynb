{
  "nbformat": 4,
  "nbformat_minor": 0,
  "metadata": {
    "colab": {
      "name": "Spiral_array_order.ipynb",
      "provenance": [],
      "collapsed_sections": [],
      "authorship_tag": "ABX9TyM8AhUaqFoAq9bRCxMvL05n",
      "include_colab_link": true
    },
    "kernelspec": {
      "name": "python3",
      "display_name": "Python 3"
    },
    "language_info": {
      "name": "python"
    }
  },
  "cells": [
    {
      "cell_type": "markdown",
      "metadata": {
        "id": "view-in-github",
        "colab_type": "text"
      },
      "source": [
        "<a href=\"https://colab.research.google.com/github/shoaibakhtar1010/Data-Structures-and-Algorithms-with-Python/blob/main/Array%20Sequences/Array%20Sequences%20Interview%20Questions/Array%20Sequence%20Interview%20Questions%20-%20SOLUTIONS/Spiral_array_order.ipynb\" target=\"_parent\"><img src=\"https://colab.research.google.com/assets/colab-badge.svg\" alt=\"Open In Colab\"/></a>"
      ]
    },
    {
      "cell_type": "markdown",
      "source": [
        "Given a matrix of m * n elements (m rows, n columns), return all elements of the matrix in spiral order.\n",
        "\n",
        "Example:\n",
        "\n",
        "Given the following matrix:\n",
        "~~~\n",
        "[\n",
        "    [ 1, 2, 3 ],\n",
        "    [ 4, 5, 6 ],\n",
        "    [ 7, 8, 9 ]\n",
        "]\n",
        "~~~"
      ],
      "metadata": {
        "id": "EaSIfL2toRYM"
      }
    },
    {
      "cell_type": "code",
      "source": [
        " def spiralOrder(A):\n",
        "        m,n=len(A),len(A[0])\n",
        "        direc=0\n",
        "        top=0\n",
        "        bottom=m\n",
        "        left=0\n",
        "        right=n\n",
        "        lis=[]\n",
        "        while (top<bottom and left<right):\n",
        "            if direc==0:\n",
        "                for i in range(left,right):\n",
        "                    lis.append(A[top][i])\n",
        "                top+=1\n",
        "            elif direc==1:\n",
        "                for i in range(top,bottom):\n",
        "                    lis.append(A[i][right-1])\n",
        "                right-=1\n",
        "            elif direc==2:\n",
        "                for i in range(right-1,left-1,-1):\n",
        "                    lis.append(A[bottom-1][i])\n",
        "                bottom-=1\n",
        "            elif direc==3:\n",
        "                for i in range(bottom-1,top-1,-1):\n",
        "                    lis.append(A[i][left])\n",
        "                left+=1\n",
        "            direc=(direc+1)%4\n",
        "        return lis\n"
      ],
      "metadata": {
        "id": "-wcZt8trXZkz"
      },
      "execution_count": null,
      "outputs": []
    },
    {
      "cell_type": "code",
      "source": [
        "spiralOrder([[1,2,3,4],\n",
        "             [5,6,7,8],\n",
        "             [9,10,11,12]])"
      ],
      "metadata": {
        "colab": {
          "base_uri": "https://localhost:8080/"
        },
        "id": "njNuW5n3XZnS",
        "outputId": "c4e78225-5f36-46e1-bcc6-a23a94e12b35"
      },
      "execution_count": null,
      "outputs": [
        {
          "output_type": "execute_result",
          "data": {
            "text/plain": [
              "[1, 2, 3, 4, 8, 12, 11, 10, 9, 5, 6, 7]"
            ]
          },
          "metadata": {},
          "execution_count": 23
        }
      ]
    },
    {
      "cell_type": "code",
      "source": [
        " def spiralOrder(A):\n",
        "        m,n=len(A),len(A[0])\n",
        "        direc=0\n",
        "        top=0\n",
        "        bottom=m-1\n",
        "        left=0\n",
        "        right=n-1\n",
        "        lis=[]\n",
        "        while (top<=bottom and left<=right):\n",
        "            if direc==0:\n",
        "                for i in range(left,right+1):\n",
        "                    lis.append(A[top][i])\n",
        "                top+=1\n",
        "            elif direc==1:\n",
        "                for i in range(top,bottom+1):\n",
        "                    lis.append(A[i][right])\n",
        "                right-=1\n",
        "            elif direc==2:\n",
        "                for i in range(right,left-1,-1):\n",
        "                    lis.append(A[bottom][i])\n",
        "                bottom-=1\n",
        "            elif direc==3:\n",
        "                for i in range(bottom,top-1,-1):\n",
        "                    lis.append(A[i][left])\n",
        "                left+=1\n",
        "            direc=(direc+1)%4\n",
        "        return lis\n"
      ],
      "metadata": {
        "id": "CVin68oMXZvT"
      },
      "execution_count": 8,
      "outputs": []
    },
    {
      "cell_type": "code",
      "source": [
        "spiralOrder([[1,2,3,4],\n",
        "             [5,6,7,8],\n",
        "             [9,10,11,12],\n",
        "             [13,14,15,16]])"
      ],
      "metadata": {
        "colab": {
          "base_uri": "https://localhost:8080/"
        },
        "id": "M2VIrOMHv3Hj",
        "outputId": "513e78af-160f-4c5c-ae4d-620a0144d2de"
      },
      "execution_count": 9,
      "outputs": [
        {
          "output_type": "execute_result",
          "data": {
            "text/plain": [
              "[1, 2, 3, 4, 8, 12, 16, 15, 14, 13, 9, 5, 6, 7, 11, 10]"
            ]
          },
          "metadata": {},
          "execution_count": 9
        }
      ]
    },
    {
      "cell_type": "code",
      "source": [
        ""
      ],
      "metadata": {
        "id": "zoMjU_LOv8Zl"
      },
      "execution_count": null,
      "outputs": []
    }
  ]
}