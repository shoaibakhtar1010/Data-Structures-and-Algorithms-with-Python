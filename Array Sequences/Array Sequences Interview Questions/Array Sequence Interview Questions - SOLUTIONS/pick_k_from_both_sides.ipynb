{
  "nbformat": 4,
  "nbformat_minor": 0,
  "metadata": {
    "colab": {
      "name": "pick_k_from_both_sides.ipynb",
      "provenance": [],
      "authorship_tag": "ABX9TyO+Oft6dyNSbMzP5GkO7P4+",
      "include_colab_link": true
    },
    "kernelspec": {
      "name": "python3",
      "display_name": "Python 3"
    },
    "language_info": {
      "name": "python"
    }
  },
  "cells": [
    {
      "cell_type": "markdown",
      "metadata": {
        "id": "view-in-github",
        "colab_type": "text"
      },
      "source": [
        "<a href=\"https://colab.research.google.com/github/shoaibakhtar1010/Data-Structures-and-Algorithms-with-Python/blob/main/Array%20Sequences/Array%20Sequences%20Interview%20Questions/Array%20Sequence%20Interview%20Questions%20-%20SOLUTIONS/pick_k_from_both_sides.ipynb\" target=\"_parent\"><img src=\"https://colab.research.google.com/assets/colab-badge.svg\" alt=\"Open In Colab\"/></a>"
      ]
    },
    {
      "cell_type": "markdown",
      "source": [
        "Problem Description\n",
        "\n",
        "Given an integer array A of size N.\n",
        "\n",
        "You can pick B elements from either left or right end of the array A to get maximum sum.\n",
        "\n",
        "Find and return this maximum possible sum.\n",
        "\n",
        "NOTE: Suppose B = 4 and array A contains 10 elements then\n",
        "\n",
        "You can pick first four elements or can pick last four elements or can pick 1 from front and 3 from back etc . you need to return the maximum possible sum of elements you can pick.\n",
        "\n",
        "~~~\n",
        "Problem Constraints\n",
        "1 <= N <= 105\n",
        "\n",
        "1 <= B <= N\n",
        "\n",
        "-103 <= A[i] <= 103\n",
        "\n",
        "\n",
        "\n",
        "Input Format\n",
        "First argument is an integer array A.\n",
        "\n",
        "Second argument is an integer B.\n",
        "\n",
        "\n",
        "\n",
        "Output Format\n",
        "Return an integer denoting the maximum possible sum of elements you picked.\n",
        "\n",
        "\n",
        "\n",
        "Example Input\n",
        "Input 1:\n",
        "\n",
        " A = [5, -2, 3 , 1, 2]\n",
        " B = 3\n",
        "Input 2:\n",
        "\n",
        " A = [1, 2]\n",
        " B = 1\n",
        "\n",
        "\n",
        "Example Output\n",
        "Output 1:\n",
        "\n",
        " 8\n",
        "Output 2:\n",
        "\n",
        " 2\n",
        "~~~\n",
        "\n",
        "Example Explanation\n",
        "\n",
        "Explanation 1:\n",
        "\n",
        "Pick element 5 from front and element (1, 2) from back so we get 5 + 1 + 2 = 8\n",
        "\n",
        "Explanation 2:\n",
        "\n",
        " Pick element 2 from end as this is the maximum we can get"
      ],
      "metadata": {
        "id": "D99uAd9p0aDj"
      }
    },
    {
      "cell_type": "code",
      "source": [
        "def pick(A,B):\n",
        "  import sys\n",
        "  maxx_sum=-sys.maxsize\n",
        "  for i in range(0,B+1):\n",
        "    maxx_sum=max(maxx_sum,sum(A[:i]+A[:-B-1+i:-1]))\n",
        "  return maxx_sum\n",
        "  \n"
      ],
      "metadata": {
        "id": "n0sGdPJc5yTM"
      },
      "execution_count": 2,
      "outputs": []
    },
    {
      "cell_type": "code",
      "source": [
        "pick([5,-2,3,1,2],3)"
      ],
      "metadata": {
        "colab": {
          "base_uri": "https://localhost:8080/"
        },
        "id": "WW94NwpVASfd",
        "outputId": "b700f308-8bce-4f09-fba0-877efe02de0b"
      },
      "execution_count": 3,
      "outputs": [
        {
          "output_type": "execute_result",
          "data": {
            "text/plain": [
              "8"
            ]
          },
          "metadata": {},
          "execution_count": 3
        }
      ]
    },
    {
      "cell_type": "code",
      "source": [
        "A=[5,-2,3,1,2]\n",
        "print(A[:-1])\n",
        "print(sum(A[:3]))"
      ],
      "metadata": {
        "id": "m-FI9gztAVUL",
        "colab": {
          "base_uri": "https://localhost:8080/"
        },
        "outputId": "4f62c6da-a12d-428e-8327-48ec9799a339"
      },
      "execution_count": 2,
      "outputs": [
        {
          "output_type": "stream",
          "name": "stdout",
          "text": [
            "[5, -2, 3]\n",
            "6\n"
          ]
        }
      ]
    },
    {
      "cell_type": "code",
      "source": [
        "def solve(A, B):\n",
        "        ad=0\n",
        "        de=0\n",
        "        maxx=cs=sum(A[:B])\n",
        "        for i in range(0,B):\n",
        "            ad=A[-i-1]\n",
        "            de=A[B-i-1]\n",
        "            cs=cs+ad-de\n",
        "            maxx=max(maxx,cs)\n",
        "        return maxx"
      ],
      "metadata": {
        "id": "BMif6Riy2yov"
      },
      "execution_count": null,
      "outputs": []
    }
  ]
}