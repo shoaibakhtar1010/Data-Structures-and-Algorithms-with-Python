{
  "nbformat": 4,
  "nbformat_minor": 0,
  "metadata": {
    "colab": {
      "name": "Minimize the heights.ipynb",
      "provenance": [],
      "authorship_tag": "ABX9TyNBCOcS2Z0BMDIpT8wJbTrk",
      "include_colab_link": true
    },
    "kernelspec": {
      "name": "python3",
      "display_name": "Python 3"
    },
    "language_info": {
      "name": "python"
    }
  },
  "cells": [
    {
      "cell_type": "markdown",
      "metadata": {
        "id": "view-in-github",
        "colab_type": "text"
      },
      "source": [
        "<a href=\"https://colab.research.google.com/github/shoaibakhtar1010/Data-Structures-and-Algorithms-with-Python/blob/main/Array%20Sequences/Array%20Sequences%20Interview%20Questions/Array%20Sequence%20Interview%20Questions%20-%20SOLUTIONS/Minimize_the_heights.ipynb\" target=\"_parent\"><img src=\"https://colab.research.google.com/assets/colab-badge.svg\" alt=\"Open In Colab\"/></a>"
      ]
    },
    {
      "cell_type": "markdown",
      "source": [
        "Given an array arr[] denoting heights of N towers and a positive integer K, you have to modify the height of each tower either by increasing or decreasing them by K only once. After modifying, height should be a non-negative integer. \n",
        "Find out the minimum possible difference of the height of shortest and longest towers after you have modified each tower.\n",
        "\n",
        "You can find a slight modification of the problem here.\n",
        "Note: It is compulsory to increase or decrease by K to each tower.\n",
        "~~~\n",
        "\n",
        "Example 1:\n",
        "\n",
        "Input:\n",
        "K = 2, N = 4\n",
        "Arr[] = {1, 5, 8, 10}\n",
        "Output:\n",
        "5\n",
        "Explanation:\n",
        "The array can be modified as \n",
        "{3, 3, 6, 8}. The difference between \n",
        "the largest and the smallest is 8-3 = 5.\n",
        "Example 2:\n",
        "\n",
        "Input:\n",
        "K = 3, N = 5\n",
        "Arr[] = {3, 9, 12, 16, 20}\n",
        "Output:\n",
        "11\n",
        "Explanation:\n",
        "The array can be modified as\n",
        "{6, 12, 9, 13, 17}. The difference between \n",
        "the largest and the smallest is 17-6 = 11. \n",
        "~~~\n",
        "Your Task:\n",
        "You don't need to read input or print anything. Your task is to complete the function getMinDiff() which takes the arr[], n and k as input parameters and returns an integer denoting the minimum difference.\n",
        "\n",
        "~~~\n",
        "Expected Time Complexity: O(N*logN)\n",
        "Expected Auxiliary Space: O(N)\n",
        "\n",
        "Constraints\n",
        "1 ≤ K ≤ 104\n",
        "1 ≤ N ≤ 105\n",
        "1 ≤ Arr[i] ≤ 105\n",
        "~~~"
      ],
      "metadata": {
        "id": "li15WdU8b_tM"
      }
    },
    {
      "cell_type": "code",
      "execution_count": 2,
      "metadata": {
        "id": "7b9pFBgdbsi8"
      },
      "outputs": [],
      "source": [
        "class Solution:\n",
        "    def getMinDiff(self, arr, n, k):\n",
        "        arr.sort()\n",
        "        ans = arr[n - 1] - arr[0]\n",
        "        tempmin = arr[0]\n",
        "        tempmax = arr[n - 1]\n",
        "        for i in range(1, n):\n",
        "            if arr[i]-k<0:\n",
        "                continue\n",
        "            tempmin = min(arr[0] + k, arr[i] - k) \n",
        "            tempmax = max(arr[i - 1] + k, arr[n - 1] - k)\n",
        "            ans = min(ans, tempmax - tempmin)\n",
        "        return ans\n",
        "        "
      ]
    },
    {
      "cell_type": "code",
      "source": [
        ""
      ],
      "metadata": {
        "id": "J8GrEb7chTTB"
      },
      "execution_count": null,
      "outputs": []
    }
  ]
}