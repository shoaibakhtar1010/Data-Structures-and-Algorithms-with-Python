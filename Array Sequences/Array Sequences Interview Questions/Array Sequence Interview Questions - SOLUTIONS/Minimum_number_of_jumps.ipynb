{
  "nbformat": 4,
  "nbformat_minor": 0,
  "metadata": {
    "colab": {
      "name": "Minimum number of jumps.ipynb",
      "provenance": [],
      "authorship_tag": "ABX9TyOJvUfuhHdSyxgtuRrOjf8Y",
      "include_colab_link": true
    },
    "kernelspec": {
      "name": "python3",
      "display_name": "Python 3"
    },
    "language_info": {
      "name": "python"
    }
  },
  "cells": [
    {
      "cell_type": "markdown",
      "metadata": {
        "id": "view-in-github",
        "colab_type": "text"
      },
      "source": [
        "<a href=\"https://colab.research.google.com/github/shoaibakhtar1010/Data-Structures-and-Algorithms-with-Python/blob/main/Array%20Sequences/Array%20Sequences%20Interview%20Questions/Array%20Sequence%20Interview%20Questions%20-%20SOLUTIONS/Minimum_number_of_jumps.ipynb\" target=\"_parent\"><img src=\"https://colab.research.google.com/assets/colab-badge.svg\" alt=\"Open In Colab\"/></a>"
      ]
    },
    {
      "cell_type": "markdown",
      "source": [
        "Given an array of N integers arr[] where each element represents the max number of steps that can be made forward from that element. Find the minimum number of jumps to reach the end of the array (starting from the first element). If an element is 0, then you cannot move through that element.\n",
        "\n",
        "Note: Return -1 if you can't reach the end of the array.\n",
        "\n",
        "~~~\n",
        "Example 1:\n",
        "\n",
        "Input:\n",
        "N = 11 \n",
        "arr[] = {1, 3, 5, 8, 9, 2, 6, 7, 6, 8, 9} \n",
        "Output: 3 \n",
        "Explanation: \n",
        "First jump from 1st element to 2nd \n",
        "element with value 3. Now, from here \n",
        "we jump to 5th element with value 9, \n",
        "and from here we will jump to last. \n",
        "Example 2:\n",
        "\n",
        "Input :\n",
        "N = 6\n",
        "arr = {1, 4, 3, 2, 6, 7}\n",
        "Output: 2 \n",
        "Explanation: \n",
        "First we jump from the 1st to 2nd element \n",
        "and then jump to the last element.\n",
        "~~~\n",
        "Your task:\n",
        "You don't need to read input or print anything. Your task is to complete function minJumps() which takes the array arr and it's size N as input parameters and returns the minimum number of jumps. If not possible returns -1.\n",
        "\n",
        "~~~\n",
        "Expected Time Complexity: O(N)\n",
        "Expected Space Complexity: O(1)\n",
        "\n",
        "\n",
        "Constraints:\n",
        "1 ≤ N ≤ 107\n",
        "0 ≤ arri ≤ 107\n",
        "~~~"
      ],
      "metadata": {
        "id": "9sYjOdouCS6l"
      }
    },
    {
      "cell_type": "code",
      "execution_count": 13,
      "metadata": {
        "id": "7BRCNbaSCHkw"
      },
      "outputs": [],
      "source": [
        "# Returns minimum number of jumps to reach arr[n-1] from arr[0]\n",
        "def minJumps(arr, n):\n",
        "  # The number of jumps needed to reach the starting index is 0\n",
        "  if (n <= 1):\n",
        "    return 0\n",
        "  \n",
        "  # Return -1 if not possible to jump\n",
        "  if (arr[0] == 0):\n",
        "    return -1\n",
        "  \n",
        "  # initialization\n",
        "  # stores all time the maximal reachable index in the array\n",
        "  maxReach = arr[0] \n",
        "  # stores the amount of steps we can still take\n",
        "  step = arr[0]\n",
        "  # stores the amount of jumps necessary to reach that maximal reachable position\n",
        "  jump = 1\n",
        "  \n",
        "  # Start traversing array\n",
        "  \n",
        "  for i in range(1, n):\n",
        "    # Check if we have reached the end of the array\n",
        "    if (i == n-1):\n",
        "      return jump\n",
        "  \n",
        "    # updating maxReach\n",
        "    maxReach = max(maxReach, i + arr[i])\n",
        "  \n",
        "    # we use a step to get to the current index\n",
        "    step -= 1;\n",
        "  \n",
        "    # If no further steps left\n",
        "    if (step == 0):\n",
        "      # we must have used a jump\n",
        "      jump += 1\n",
        "       \n",
        "      # Check if the current index / position or lesser index\n",
        "      # is the maximum reach point from the previous indexes\n",
        "      if(i >= maxReach):\n",
        "        return -1"
      ]
    },
    {
      "cell_type": "code",
      "source": [
        ""
      ],
      "metadata": {
        "id": "tyeAVwsjHPk9"
      },
      "execution_count": null,
      "outputs": []
    }
  ]
}