{
  "nbformat": 4,
  "nbformat_minor": 0,
  "metadata": {
    "colab": {
      "name": "plusone.ipynb",
      "provenance": [],
      "authorship_tag": "ABX9TyN1tb92te4DCNabUCjrnsR2",
      "include_colab_link": true
    },
    "kernelspec": {
      "name": "python3",
      "display_name": "Python 3"
    },
    "language_info": {
      "name": "python"
    }
  },
  "cells": [
    {
      "cell_type": "markdown",
      "metadata": {
        "id": "view-in-github",
        "colab_type": "text"
      },
      "source": [
        "<a href=\"https://colab.research.google.com/github/shoaibakhtar1010/Data-Structures-and-Algorithms-with-Python/blob/main/Array%20Sequences/Array%20Sequences%20Interview%20Questions/Array%20Sequence%20Interview%20Questions%20-%20SOLUTIONS/plusone.ipynb\" target=\"_parent\"><img src=\"https://colab.research.google.com/assets/colab-badge.svg\" alt=\"Open In Colab\"/></a>"
      ]
    },
    {
      "cell_type": "code",
      "metadata": {
        "id": "4h--gOFpK5EH"
      },
      "source": [
        ""
      ],
      "execution_count": null,
      "outputs": []
    },
    {
      "cell_type": "markdown",
      "metadata": {
        "id": "yrX7gNr1K-4f"
      },
      "source": [
        "Problem Description\n",
        "\n",
        "Given a non-negative number represented as an array of digits, add 1 to the number ( increment the number represented by the digits ).\n",
        "\n",
        "The digits are stored such that the most significant digit is at the head of the list.\n",
        "\n",
        "NOTE: Certain things are intentionally left unclear in this question which you should practice asking the interviewer. For example: \n",
        "for this problem, following are some good questions to ask :\n",
        "\n",
        "Q : Can the input have 0's before the most significant digit. Or in other words, is 0 1 2 3 a valid input?\n",
        "A : For the purpose of this question, YES\n",
        "Q : Can the output have 0's before the most significant digit? Or in other words, is 0 1 2 4 a valid output?\n",
        "A : For the purpose of this question, NO. Even if the input has zeroes before the most significant digit.\n",
        "\n",
        "\n",
        "Input Format\n",
        "First argument is an array of digits.\n",
        "\n",
        "\n",
        "\n",
        "Output Format\n",
        "Return the array of digits after adding one.\n",
        "\n",
        "\n",
        "\n",
        "Example Input\n",
        "Input 1:\n",
        "\n",
        "[1, 2, 3]\n",
        "\n",
        "\n",
        "Example Output\n",
        "Output 1:\n",
        "\n",
        "[1, 2, 4]\n",
        "\n",
        "\n",
        "Example Explanation\n",
        "Explanation 1:\n",
        "\n",
        "Given vector is [1, 2, 3].\n",
        "The returned vector should be [1, 2, 4] as 123 + 1 = 124."
      ]
    },
    {
      "cell_type": "code",
      "metadata": {
        "id": "8Vdh2liMK__e"
      },
      "source": [
        "def plusOne(self, A):\n",
        "        summ=''\n",
        "        for elements in A:\n",
        "            summ+=str(elements)\n",
        "        summ2=int(summ)+1\n",
        "        arr=[]\n",
        "        for ele in str(summ2):\n",
        "            arr.append(int(ele))\n",
        "        return arr"
      ],
      "execution_count": null,
      "outputs": []
    }
  ]
}