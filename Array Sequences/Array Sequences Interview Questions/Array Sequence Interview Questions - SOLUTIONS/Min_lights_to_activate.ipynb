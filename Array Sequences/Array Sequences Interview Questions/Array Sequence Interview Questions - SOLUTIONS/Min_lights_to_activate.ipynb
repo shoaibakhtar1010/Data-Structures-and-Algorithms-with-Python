{
  "nbformat": 4,
  "nbformat_minor": 0,
  "metadata": {
    "colab": {
      "name": "Min_lights_to_activate.ipynb",
      "provenance": [],
      "authorship_tag": "ABX9TyNcRJ/WXfmEzaxaX/DI8JrA",
      "include_colab_link": true
    },
    "kernelspec": {
      "name": "python3",
      "display_name": "Python 3"
    },
    "language_info": {
      "name": "python"
    }
  },
  "cells": [
    {
      "cell_type": "markdown",
      "metadata": {
        "id": "view-in-github",
        "colab_type": "text"
      },
      "source": [
        "<a href=\"https://colab.research.google.com/github/shoaibakhtar1010/Data-Structures-and-Algorithms-with-Python/blob/main/Array%20Sequences/Array%20Sequences%20Interview%20Questions/Array%20Sequence%20Interview%20Questions%20-%20SOLUTIONS/Min_lights_to_activate.ipynb\" target=\"_parent\"><img src=\"https://colab.research.google.com/assets/colab-badge.svg\" alt=\"Open In Colab\"/></a>"
      ]
    },
    {
      "cell_type": "markdown",
      "source": [
        "**Minimum lights to activate**\n",
        "\n",
        "**Problem Description**\n",
        "\n",
        "There is a corridor in a Jail which is N units long. Given an array A of size N. The ith index of this array is 0 if the light at ith position is faulty otherwise it is 1.\n",
        "\n",
        "All the lights are of specific power B which if is placed at position X, it can light the corridor from [ X-B+1, X+B-1].\n",
        "\n",
        "Initially all lights are off.\n",
        "\n",
        "Return the minimum number of lights to be turned ON to light the whole corridor or -1 if the whole corridor cannot be lighted.\n",
        "\n",
        "\n",
        "**Problem Constraints**\n",
        "\n",
        "1 <= N <= 1000\n",
        "\n",
        "1 <= B <= 1000\n",
        "\n",
        "\n",
        "\n",
        "**Input Format**\n",
        "\n",
        "First argument is an integer array A where A[i] is either 0 or 1.\n",
        "\n",
        "Second argument is an integer B.\n",
        "\n",
        "**Output Format**\n",
        "\n",
        "Return the minimum number of lights to be turned ON to light the whole corridor or -1 if the whole corridor cannot be lighted.\n",
        "~~~\n",
        "\n",
        "Example Input\n",
        "Input 1:\n",
        "\n",
        "A = [ 0, 0, 1, 1, 1, 0, 0, 1].\n",
        "B = 3\n",
        "Input 2:\n",
        "\n",
        "A = [ 0, 0, 0, 1, 0].\n",
        "B = 3\n",
        "\n",
        "\n",
        "Example Output\n",
        "Output 1:\n",
        "\n",
        "2\n",
        "Output 2:\n",
        "\n",
        "-1\n",
        "\n",
        "\n",
        "Example Explanation\n",
        "Explanation 1:\n",
        "\n",
        "In the first configuration, Turn on the lights at 3rd and 8th index.\n",
        "Light at 3rd index covers from [ 1, 5] and light at 8th index covers [ 6, 8].\n",
        "Explanation 2:\n",
        "\n",
        "In the second configuration, there is no light which can light the first corridor.\n",
        "\n",
        "~~~"
      ],
      "metadata": {
        "id": "d14zK992WZiw"
      }
    },
    {
      "cell_type": "code",
      "source": [
        "class Solution:\n",
        "    # @param A : list of integers\n",
        "    # @param B : integer\n",
        "    # @return an integer\n",
        "    def solve(self, A, B):\n",
        "        i=0\n",
        "        cnt=0\n",
        "        N=len(A)\n",
        "        while i<N:\n",
        "            left=max(0,i-B+1)\n",
        "            right=min(N-1,i+B-1)\n",
        "            poss=False\n",
        "            while right>=left:\n",
        "                if A[right]==1:\n",
        "                    poss=True\n",
        "                    break\n",
        "                else:\n",
        "                    right-=1\n",
        "            if not poss:\n",
        "                return -1\n",
        "            cnt+=1\n",
        "            i=right+B\n",
        "        return cnt\n",
        "            "
      ],
      "metadata": {
        "id": "e14uRRHfW6F9"
      },
      "execution_count": null,
      "outputs": []
    }
  ]
}