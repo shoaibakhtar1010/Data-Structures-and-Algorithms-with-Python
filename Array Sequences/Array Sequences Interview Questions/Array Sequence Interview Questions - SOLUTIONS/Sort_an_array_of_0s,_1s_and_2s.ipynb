{
  "nbformat": 4,
  "nbformat_minor": 0,
  "metadata": {
    "colab": {
      "name": "Sort an array of 0s, 1s and 2s.ipynb",
      "provenance": [],
      "authorship_tag": "ABX9TyMhM7bl/BM01NLxpEjIHZj0",
      "include_colab_link": true
    },
    "kernelspec": {
      "name": "python3",
      "display_name": "Python 3"
    },
    "language_info": {
      "name": "python"
    }
  },
  "cells": [
    {
      "cell_type": "markdown",
      "metadata": {
        "id": "view-in-github",
        "colab_type": "text"
      },
      "source": [
        "<a href=\"https://colab.research.google.com/github/shoaibakhtar1010/Data-Structures-and-Algorithms-with-Python/blob/main/Array%20Sequences/Array%20Sequences%20Interview%20Questions/Array%20Sequence%20Interview%20Questions%20-%20SOLUTIONS/Sort_an_array_of_0s%2C_1s_and_2s.ipynb\" target=\"_parent\"><img src=\"https://colab.research.google.com/assets/colab-badge.svg\" alt=\"Open In Colab\"/></a>"
      ]
    },
    {
      "cell_type": "markdown",
      "source": [
        "**Sort an array of 0s, 1s and 2s** \n",
        "\n",
        "Given an array of size N containing only 0s, 1s, and 2s; sort the array in ascending order.\n",
        "~~~\n",
        "Example 1:\n",
        "\n",
        "Input: \n",
        "N = 5\n",
        "arr[]= {0 2 1 2 0}\n",
        "Output:\n",
        "0 0 1 2 2\n",
        "Explanation:\n",
        "0s 1s and 2s are segregated \n",
        "into ascending order.\n",
        "Example 2:\n",
        "\n",
        "Input: \n",
        "N = 3\n",
        "arr[] = {0 1 0}\n",
        "Output:\n",
        "0 0 1\n",
        "Explanation:\n",
        "0s 1s and 2s are segregated \n",
        "into ascending order.\n",
        "~~~\n",
        "Your Task:\n",
        "You don't need to read input or print anything. Your task is to complete the function sort012() that takes an array arr and N as input parameters and sorts the array in-place.\n",
        "~~~\n",
        "\n",
        "Expected Time Complexity: O(N)\n",
        "Expected Auxiliary Space: O(1)\n",
        "\n",
        "\n",
        "Constraints:\n",
        "1 <= N <= 10^6\n",
        "0 <= A[i] <= 2\n",
        "\n",
        "~~~"
      ],
      "metadata": {
        "id": "Zl9n0v8e4D2l"
      }
    },
    {
      "cell_type": "code",
      "source": [
        "class Solution:\n",
        "    def sort012(self,arr,n):\n",
        "        # code here\n",
        "        cnt0=0\n",
        "        cnt1=0\n",
        "        cnt2=0\n",
        "        for i in range(len(arr)):\n",
        "            if arr[i]==0:\n",
        "                cnt0+=1\n",
        "            if arr[i]==1:\n",
        "                cnt1+=1\n",
        "            if arr[i]==2:\n",
        "                cnt2+=1\n",
        "        i=0\n",
        "        while cnt0>0:\n",
        "            arr[i]=0\n",
        "            i+=1\n",
        "            cnt0-=1\n",
        "        while cnt1>0:\n",
        "            arr[i]=1\n",
        "            i+=1\n",
        "            cnt1-=1\n",
        "        while cnt2>0:\n",
        "            arr[i]=2\n",
        "            i+=1\n",
        "            cnt2-=1\n",
        "        return arr"
      ],
      "metadata": {
        "id": "Bn8yI2Xp4W9D"
      },
      "execution_count": 36,
      "outputs": []
    },
    {
      "cell_type": "code",
      "source": [
        ""
      ],
      "metadata": {
        "id": "_zSACMi54lBG"
      },
      "execution_count": null,
      "outputs": []
    }
  ]
}