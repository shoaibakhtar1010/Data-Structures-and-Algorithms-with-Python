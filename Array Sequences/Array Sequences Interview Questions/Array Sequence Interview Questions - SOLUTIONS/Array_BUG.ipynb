{
  "nbformat": 4,
  "nbformat_minor": 0,
  "metadata": {
    "colab": {
      "name": "Array_BUG.ipynb",
      "provenance": [],
      "authorship_tag": "ABX9TyMkbFxpwEkbldsPICXvexIh",
      "include_colab_link": true
    },
    "kernelspec": {
      "name": "python3",
      "display_name": "Python 3"
    },
    "language_info": {
      "name": "python"
    }
  },
  "cells": [
    {
      "cell_type": "markdown",
      "metadata": {
        "id": "view-in-github",
        "colab_type": "text"
      },
      "source": [
        "<a href=\"https://colab.research.google.com/github/shoaibakhtar1010/Data-Structures-and-Algorithms-with-Python/blob/main/Array%20Sequences/Array%20Sequences%20Interview%20Questions/Array%20Sequence%20Interview%20Questions%20-%20SOLUTIONS/Array_BUG.ipynb\" target=\"_parent\"><img src=\"https://colab.research.google.com/assets/colab-badge.svg\" alt=\"Open In Colab\"/></a>"
      ]
    },
    {
      "cell_type": "markdown",
      "source": [
        "The following code is supposed to rotate the array A by B positions.\n",
        "\n",
        "So, for example,\n",
        "~~~\n",
        "\n",
        "A : [1 2 3 4 5 6]\n",
        "B : 1\n",
        "\n",
        "The output :\n",
        "\n",
        "[2 3 4 5 6 1]\n",
        "~~~"
      ],
      "metadata": {
        "id": "crGm4G6sLpYE"
      }
    },
    {
      "cell_type": "code",
      "execution_count": 3,
      "metadata": {
        "id": "HjWAbeF5Lhxi"
      },
      "outputs": [],
      "source": [
        "def rotateArray(a, b):\n",
        "        ret = []\n",
        "        for i in range(0,b%len(a)):\n",
        "            lst=a.pop(0)\n",
        "            a.append(lst)\n",
        "        return a"
      ]
    },
    {
      "cell_type": "code",
      "source": [
        "rotateArray([1,2,3,4,5,6],3)"
      ],
      "metadata": {
        "colab": {
          "base_uri": "https://localhost:8080/"
        },
        "id": "LR9ZM-5zL84c",
        "outputId": "e59b478a-9f50-4009-9017-a8953c28f484"
      },
      "execution_count": 4,
      "outputs": [
        {
          "output_type": "execute_result",
          "data": {
            "text/plain": [
              "[4, 5, 6, 1, 2, 3]"
            ]
          },
          "metadata": {},
          "execution_count": 4
        }
      ]
    },
    {
      "cell_type": "code",
      "source": [
        ""
      ],
      "metadata": {
        "id": "GUZRTnlkMZMf"
      },
      "execution_count": null,
      "outputs": []
    }
  ]
}