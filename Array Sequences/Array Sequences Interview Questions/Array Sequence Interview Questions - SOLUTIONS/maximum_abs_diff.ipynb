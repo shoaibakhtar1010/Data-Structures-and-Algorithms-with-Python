{
  "nbformat": 4,
  "nbformat_minor": 0,
  "metadata": {
    "colab": {
      "name": "maximum_abs_diff.ipynb",
      "provenance": [],
      "authorship_tag": "ABX9TyM0L/aaIG9/HO0oOUQfJr3H",
      "include_colab_link": true
    },
    "kernelspec": {
      "name": "python3",
      "display_name": "Python 3"
    },
    "language_info": {
      "name": "python"
    }
  },
  "cells": [
    {
      "cell_type": "markdown",
      "metadata": {
        "id": "view-in-github",
        "colab_type": "text"
      },
      "source": [
        "<a href=\"https://colab.research.google.com/github/shoaibakhtar1010/Data-Structures-and-Algorithms-with-Python/blob/main/Array%20Sequences/Array%20Sequences%20Interview%20Questions/Array%20Sequence%20Interview%20Questions%20-%20SOLUTIONS/maximum_abs_diff.ipynb\" target=\"_parent\"><img src=\"https://colab.research.google.com/assets/colab-badge.svg\" alt=\"Open In Colab\"/></a>"
      ]
    },
    {
      "cell_type": "markdown",
      "source": [
        "**Maximum Absolute difference**\n",
        "~~~\n",
        "Problem Description\n",
        "\n",
        "You are given an array of N integers, A1, A2, …. AN.\n",
        "\n",
        "Return the maximum value of f(i, j) for all 1 ≤ i, j ≤ N. f(i, j) is defined as |A[i] - A[j]| + |i - j|, where |x| denotes absolute value of x.\n",
        "\n",
        "\n",
        "\n",
        "Problem Constraints\n",
        "\n",
        "1 <= N <= 100000\n",
        "\n",
        "-109 <= A[i] <= 109\n",
        "\n",
        "\n",
        "\n",
        "Input Format\n",
        "\n",
        "First argument is an integer array A of size N.\n",
        "\n",
        "\n",
        "\n",
        "Output Format\n",
        "\n",
        "Return an integer denoting the maximum value of f(i, j).\n",
        "\n",
        "\n",
        "\n",
        "Example Input\n",
        "\n",
        "Input 1:\n",
        "\n",
        "A = [1, 3, -1]\n",
        "Input 2:\n",
        "\n",
        " \n",
        "A = [2]\n",
        "\n",
        "\n",
        "Example Output\n",
        "\n",
        "Output 1:\n",
        "\n",
        "5\n",
        "Output 2:\n",
        "\n",
        "0\n",
        "\n",
        "\n",
        "Example Explanation\n",
        "\n",
        "Explanation 1:\n",
        "\n",
        "f(1, 1) = f(2, 2) = f(3, 3) = 0\n",
        "f(1, 2) = f(2, 1) = |1 - 3| + |1 - 2| = 3\n",
        "f(1, 3) = f(3, 1) = |1 - (-1)| + |1 - 3| = 4\n",
        "f(2, 3) = f(3, 2) = |3 - (-1)| + |2 - 3| = 5\n",
        "\n",
        "So, we return 5.\n",
        "Explanation 2:\n",
        "\n",
        "Only possibility is i = 1 and j = 1. That gives answer = 0.\n",
        "~~~"
      ],
      "metadata": {
        "id": "fwtL3JgkS6cz"
      }
    },
    {
      "cell_type": "markdown",
      "source": [
        "f(i, j) = |A[i] - A[j]| + |i - j| can be written in 4 ways (Since we are looking at max value, we don’t even care if the value becomes negative as long as we are also covering the max value in some way).\n",
        "~~~\n",
        "(A[i] + i) - (A[j] + j)\n",
        "-(A[i] - i) + (A[j] - j) \n",
        "(A[i] - i) - (A[j] - j) \n",
        "(-A[i] - i) + (A[j] + j) = -(A[i] + i) + (A[j] + j)\n",
        "Note that case 1 and 4 are equivalent and so are case 2 and 3.\n",
        "~~~\n",
        "We can construct two arrays with values: A[i] + i and A[i] - i. Then, for above 2 cases, we find the maximum value possible. For that, we just have to store minimum and maximum values of expressions A[i] + i and A[i] - i for all i."
      ],
      "metadata": {
        "id": "okL4WieDXFDt"
      }
    },
    {
      "cell_type": "code",
      "execution_count": null,
      "metadata": {
        "id": "KIzsKXgoS1AL"
      },
      "outputs": [],
      "source": [
        "class Solution:\n",
        "    def maxArr(self, A):\n",
        "        import sys\n",
        "        n=len(A)\n",
        "        max1=-sys.maxsize\n",
        "        max2=-sys.maxsize\n",
        "        min1=sys.maxsize\n",
        "        min2=sys.maxsize\n",
        "        for i in range(n):\n",
        "            max1=max(max1,A[i]+i)\n",
        "            max2=max(max2,A[i]-i)\n",
        "            min1=min(min1,A[i]+i)\n",
        "            min2=min(min2,A[i]-i)\n",
        "        return max(max1-min1,max2-min2)"
      ]
    }
  ]
}