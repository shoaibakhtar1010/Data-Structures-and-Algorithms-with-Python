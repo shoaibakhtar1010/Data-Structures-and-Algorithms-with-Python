{
  "nbformat": 4,
  "nbformat_minor": 0,
  "metadata": {
    "colab": {
      "name": "stack2.ipynb",
      "provenance": [],
      "authorship_tag": "ABX9TyMxA0ZiX7ZbCf8jtt4a2C2y",
      "include_colab_link": true
    },
    "kernelspec": {
      "name": "python3",
      "display_name": "Python 3"
    },
    "language_info": {
      "name": "python"
    }
  },
  "cells": [
    {
      "cell_type": "markdown",
      "metadata": {
        "id": "view-in-github",
        "colab_type": "text"
      },
      "source": [
        "<a href=\"https://colab.research.google.com/github/shoaibakhtar1010/Data-Structures-and-Algorithms-with-Python/blob/main/Data-Structures-and-Algorithms-with-Python/Stacks%2C%20Queues%20and%20Deques/stack2.ipynb\" target=\"_parent\"><img src=\"https://colab.research.google.com/assets/colab-badge.svg\" alt=\"Open In Colab\"/></a>"
      ]
    },
    {
      "cell_type": "code",
      "metadata": {
        "id": "a0QrVJPLlUAy"
      },
      "source": [
        "class Stack:\n",
        "    \n",
        "    \n",
        "    def __init__(self):\n",
        "        self.items = []\n",
        "\n",
        "    def isEmpty(self):\n",
        "        return self.items == []\n",
        "\n",
        "    def push(self, item):\n",
        "        self.items.append(item)\n",
        "\n",
        "    def pop(self):\n",
        "        return self.items.pop()\n",
        "\n",
        "    def peek(self):\n",
        "        return self.items[len(self.items)-1]\n",
        "\n",
        "    def size(self):\n",
        "        return len(self.items)"
      ],
      "execution_count": 1,
      "outputs": []
    },
    {
      "cell_type": "code",
      "metadata": {
        "id": "LJ3yJHAV7cR4"
      },
      "source": [
        "\n",
        "# Python program to\n",
        "# demonstrate stack implementation\n",
        "# using list\n",
        " \n",
        " \n",
        "stack = []\n",
        " \n",
        "# append() function to push\n",
        "# element in the stack\n",
        "stack.append('a')\n",
        "stack.append('b')\n",
        "stack.append('c')\n",
        " \n",
        "print('Initial stack')\n",
        "print(stack)\n",
        " \n",
        "# pop() function to pop\n",
        "# element from stack in\n",
        "# LIFO order\n",
        "print('\\nElements popped from stack:')\n",
        "print(stack.pop())\n",
        "print(stack.pop())\n",
        "print(stack.pop())\n",
        " \n",
        "print('\\nStack after elements are popped:')\n",
        "print(stack)"
      ],
      "execution_count": null,
      "outputs": []
    },
    {
      "cell_type": "code",
      "metadata": {
        "colab": {
          "base_uri": "https://localhost:8080/"
        },
        "id": "MuNcq9v994vA",
        "outputId": "1b4822e9-3452-49b8-b11e-7c6beaee1d72"
      },
      "source": [
        "# Python program to\n",
        "# demonstrate stack implementation\n",
        "# using collections.deque\n",
        " \n",
        " \n",
        "from collections import deque\n",
        " \n",
        "stack = deque()\n",
        " \n",
        "# append() function to push\n",
        "# element in the stack\n",
        "stack.append('a')\n",
        "stack.append('b')\n",
        "stack.append('c')\n",
        " \n",
        "print('Initial stack:')\n",
        "print(stack)\n",
        " \n",
        "# pop() function to pop\n",
        "# element from stack in\n",
        "# LIFO order\n",
        "print('\\nElements popped from stack:')\n",
        "print(stack.pop())\n",
        "print(stack.pop())\n",
        "print(stack.pop())\n",
        " \n",
        "print('\\nStack after elements are popped:')\n",
        "print(stack)"
      ],
      "execution_count": 3,
      "outputs": [
        {
          "output_type": "stream",
          "name": "stdout",
          "text": [
            "Initial stack:\n",
            "deque(['a', 'b', 'c'])\n",
            "\n",
            "Elements popped from stack:\n",
            "c\n",
            "b\n",
            "a\n",
            "\n",
            "Stack after elements are popped:\n",
            "deque([])\n"
          ]
        }
      ]
    },
    {
      "cell_type": "code",
      "metadata": {
        "id": "Lime7Aoy99aA"
      },
      "source": [
        ""
      ],
      "execution_count": null,
      "outputs": []
    }
  ]
}