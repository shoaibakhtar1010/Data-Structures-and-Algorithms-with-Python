{
  "nbformat": 4,
  "nbformat_minor": 0,
  "metadata": {
    "colab": {
      "name": "The_stock_span.ipynb",
      "provenance": [],
      "authorship_tag": "ABX9TyPBWhsguSJBGo7sTR7Y3Ri8",
      "include_colab_link": true
    },
    "kernelspec": {
      "name": "python3",
      "display_name": "Python 3"
    },
    "language_info": {
      "name": "python"
    }
  },
  "cells": [
    {
      "cell_type": "markdown",
      "metadata": {
        "id": "view-in-github",
        "colab_type": "text"
      },
      "source": [
        "<a href=\"https://colab.research.google.com/github/shoaibakhtar1010/Data-Structures-and-Algorithms-with-Python/blob/main/Stacks%2C%20Queues%20and%20Deques/Stacks%2C%20Queues%2C%20and%20Deques%20Interview%20Problems/Stacks%2C%20Queues%2C%20Deques%20Interview%20Questions%20-SOLUTIONS/The_stock_span.ipynb\" target=\"_parent\"><img src=\"https://colab.research.google.com/assets/colab-badge.svg\" alt=\"Open In Colab\"/></a>"
      ]
    },
    {
      "cell_type": "code",
      "metadata": {
        "colab": {
          "base_uri": "https://localhost:8080/",
          "height": 35
        },
        "id": "6l_NYbPEMBo5",
        "outputId": "83704cbb-566a-4b82-bcfd-a2b43d9d3807"
      },
      "source": [
        "'The stock span'.replace(\" \",\"_\")"
      ],
      "execution_count": 1,
      "outputs": [
        {
          "output_type": "execute_result",
          "data": {
            "application/vnd.google.colaboratory.intrinsic+json": {
              "type": "string"
            },
            "text/plain": [
              "'The_stock_span'"
            ]
          },
          "metadata": {},
          "execution_count": 1
        }
      ]
    },
    {
      "cell_type": "markdown",
      "metadata": {
        "id": "13vfrZEOMEJh"
      },
      "source": [
        "The stock span problem is a financial problem where we have a series of n daily price quotes for a stock and we need to calculate span of stock’s price for all n days. \n",
        "\n",
        "The span Si of the stock’s price on a given day i is defined as the maximum number of consecutive days just before the given day, for which the price of the stock on the current day is less than or equal to its price on the given day. \n",
        "\n",
        "For example, if an array of 7 days prices is given as \n",
        "{100, 80, 60, 70, 60, 75, 85}, then the span values for corresponding 7 days are {1, 1, 1, 2, 1, 4, 6} "
      ]
    },
    {
      "cell_type": "code",
      "metadata": {
        "id": "seE7531lMY6g"
      },
      "source": [
        "def solution(arr):\n",
        "  from collections import deque\n",
        "  stack=deque()\n",
        "  N=len(arr)\n",
        "  output_arr=[]\n",
        "  for i in range(0,N):\n",
        "    if len(stack)==0:\n",
        "      output_arr.append(i+1)\n",
        "    elif arr[stack[-1]]>arr[i]:\n",
        "      output_arr.append(i-stack[-1])\n",
        "    else:\n",
        "      while len(stack)>0 and arr[stack[-1]]<=arr[i]:\n",
        "        stack.pop()\n",
        "      if len(stack)==0:\n",
        "        output_arr.append(i+1)\n",
        "      else:\n",
        "        output_arr.append(i-stack[-1])\n",
        "    stack.append(i)\n",
        "  return output_arr"
      ],
      "execution_count": 10,
      "outputs": []
    },
    {
      "cell_type": "code",
      "metadata": {
        "colab": {
          "base_uri": "https://localhost:8080/"
        },
        "id": "R2F2lUhkOqGu",
        "outputId": "ff046870-0b8f-4fe5-85d7-e76eefa4470e"
      },
      "source": [
        "solution([100,80,60,70,60,75,85])"
      ],
      "execution_count": 11,
      "outputs": [
        {
          "output_type": "execute_result",
          "data": {
            "text/plain": [
              "[1, 1, 1, 2, 1, 4, 6]"
            ]
          },
          "metadata": {},
          "execution_count": 11
        }
      ]
    },
    {
      "cell_type": "code",
      "metadata": {
        "id": "-1ah5E9JOwyt"
      },
      "source": [
        ""
      ],
      "execution_count": null,
      "outputs": []
    }
  ]
}