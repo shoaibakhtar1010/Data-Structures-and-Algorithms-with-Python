{
  "nbformat": 4,
  "nbformat_minor": 0,
  "metadata": {
    "colab": {
      "name": "NGL.ipynb",
      "provenance": [],
      "authorship_tag": "ABX9TyMuawYNKh7OnnodJp3HaIC8",
      "include_colab_link": true
    },
    "kernelspec": {
      "name": "python3",
      "display_name": "Python 3"
    },
    "language_info": {
      "name": "python"
    }
  },
  "cells": [
    {
      "cell_type": "markdown",
      "metadata": {
        "id": "view-in-github",
        "colab_type": "text"
      },
      "source": [
        "<a href=\"https://colab.research.google.com/github/shoaibakhtar1010/Data-Structures-and-Algorithms-with-Python/blob/main/Stacks%2C%20Queues%20and%20Deques/Stacks%2C%20Queues%2C%20and%20Deques%20Interview%20Problems/Stacks%2C%20Queues%2C%20Deques%20Interview%20Questions%20-SOLUTIONS/NGL.ipynb\" target=\"_parent\"><img src=\"https://colab.research.google.com/assets/colab-badge.svg\" alt=\"Open In Colab\"/></a>"
      ]
    },
    {
      "cell_type": "code",
      "metadata": {
        "id": "qC9ZhAspZeTc"
      },
      "source": [
        ""
      ],
      "execution_count": null,
      "outputs": []
    },
    {
      "cell_type": "markdown",
      "metadata": {
        "id": "fBDkiAdw9NB2"
      },
      "source": [
        "Given an array of integers, find the closest (not considering the distance, but value) greater or the same value on the left of every element. If an element has no greater or same value on the left side, print -1.\n",
        "\n",
        "Examples:  \n",
        "\n",
        "Input : arr[] = {10, 5, 11, 6, 20, 12} \n",
        "\n",
        "Output : -1, 10, -1, 11, -1, 20 \n",
        "\n",
        "The first element has nothing on the left side, so the answer for first is -1. \n",
        "Second, element 5 has 10 on the left, so the answer is 10. \n",
        "Third element 11 has nothing greater or the same, so the answer is -1. \n",
        "Fourth element 6 has 10 as value wise closes, so the answer is 10 \n",
        "Similarly, we get values for the fifth and sixth elements."
      ]
    },
    {
      "cell_type": "code",
      "metadata": {
        "id": "dtL-9DFA-jt5"
      },
      "source": [
        "def solution(arr):\n",
        "  from collections import deque\n",
        "  stack=deque()\n",
        "  N=len(arr)\n",
        "  output_arr=[]\n",
        "  for i in range(0,N):\n",
        "    if len(stack)==0:\n",
        "      output_arr.append(-1)\n",
        "    elif stack[-1]>arr[i]:\n",
        "      output_arr.append(stack[-1])\n",
        "    else:\n",
        "      while len(stack)>0 and stack[-1]<=arr[i]:\n",
        "        stack.pop()\n",
        "      if len(stack)==0:\n",
        "        output_arr.append(-1)\n",
        "      else:\n",
        "        output_arr.append(stack[-1])\n",
        "    stack.append(arr[i])\n",
        "  return output_arr"
      ],
      "execution_count": 3,
      "outputs": []
    },
    {
      "cell_type": "code",
      "metadata": {
        "colab": {
          "base_uri": "https://localhost:8080/"
        },
        "id": "Cw2HuJFrIqrL",
        "outputId": "0a39fb24-885b-4c64-c71e-5de36cb758d8"
      },
      "source": [
        "solution([10,5,11,6,20,12])"
      ],
      "execution_count": 4,
      "outputs": [
        {
          "output_type": "execute_result",
          "data": {
            "text/plain": [
              "[-1, 10, -1, 11, -1, 20]"
            ]
          },
          "metadata": {},
          "execution_count": 4
        }
      ]
    },
    {
      "cell_type": "code",
      "metadata": {
        "id": "lnjLF6EOI40-"
      },
      "source": [
        ""
      ],
      "execution_count": null,
      "outputs": []
    }
  ]
}