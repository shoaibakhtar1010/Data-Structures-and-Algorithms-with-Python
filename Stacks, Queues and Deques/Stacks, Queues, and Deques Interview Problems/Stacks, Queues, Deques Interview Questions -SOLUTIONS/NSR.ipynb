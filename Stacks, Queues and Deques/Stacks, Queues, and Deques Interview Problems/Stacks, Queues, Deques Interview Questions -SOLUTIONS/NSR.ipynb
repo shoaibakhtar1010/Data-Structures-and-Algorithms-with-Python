{
  "nbformat": 4,
  "nbformat_minor": 0,
  "metadata": {
    "colab": {
      "name": "NSR.ipynb",
      "provenance": [],
      "authorship_tag": "ABX9TyOzVrIPF+kosqckO/6S8BwW",
      "include_colab_link": true
    },
    "kernelspec": {
      "name": "python3",
      "display_name": "Python 3"
    },
    "language_info": {
      "name": "python"
    }
  },
  "cells": [
    {
      "cell_type": "markdown",
      "metadata": {
        "id": "view-in-github",
        "colab_type": "text"
      },
      "source": [
        "<a href=\"https://colab.research.google.com/github/shoaibakhtar1010/Data-Structures-and-Algorithms-with-Python/blob/main/Stacks%2C%20Queues%20and%20Deques/Stacks%2C%20Queues%2C%20and%20Deques%20Interview%20Problems/Stacks%2C%20Queues%2C%20Deques%20Interview%20Questions%20-SOLUTIONS/NSR.ipynb\" target=\"_parent\"><img src=\"https://colab.research.google.com/assets/colab-badge.svg\" alt=\"Open In Colab\"/></a>"
      ]
    },
    {
      "cell_type": "code",
      "metadata": {
        "id": "6SMyd5F_JXUV"
      },
      "source": [
        ""
      ],
      "execution_count": null,
      "outputs": []
    },
    {
      "cell_type": "markdown",
      "metadata": {
        "id": "_2QaUewqJhOP"
      },
      "source": [
        "Given an array, print the Next Smaller Element (NSE) for every element. The Smaller smaller Element for an element x is the first smaller element on the right side of x in array. Elements for which no smaller element exist (on right side), consider next smaller element as -1. \n",
        "Examples: \n",
        "a) For any array, rightmost element always has next smaller element as -1. \n",
        "\n",
        "b) For an array which is sorted in increasing order, all elements have next smaller element as -1.\n",
        "\n",
        "c) For the input array [4, 8, 5, 2, 25}, the next smaller elements for each element are as follows.\n",
        "\n",
        "Element       NSE\n",
        "   4      -->   2\n",
        "   8      -->   5\n",
        "   5      -->   2\n",
        "   2      -->   -1\n",
        "   25     -->   -1\n",
        "d) For the input array [13, 7, 6, 12}, the next smaller elements for each element are as follows.  \n",
        "\n",
        "  Element        NSE\n",
        "   13      -->    7\n",
        "   7       -->    6\n",
        "   6       -->    -1\n",
        "   12     -->     -1"
      ]
    },
    {
      "cell_type": "code",
      "metadata": {
        "id": "0lg_ueLKJsOI"
      },
      "source": [
        "def solution(arr):\n",
        "  N=len(arr)\n",
        "  output_arr=[]\n",
        "  from collections import deque\n",
        "  stack=deque()\n",
        "  for i in range(N-1,-1,-1):\n",
        "    if len(stack)==0:\n",
        "      output_arr.insert(0,-1)\n",
        "    elif stack[-1]<arr[i]:\n",
        "      output_arr.insert(0,stack[-1])\n",
        "    else:\n",
        "      while (len(stack)>0 and stack[-1]>=arr[i]):\n",
        "        stack.pop()\n",
        "      if len(stack)==0:\n",
        "        output_arr.insert(0,-1)\n",
        "      else:\n",
        "        output_arr.insert(0,stack[-1])\n",
        "    stack.append(arr[i])\n",
        "  return output_arr"
      ],
      "execution_count": 1,
      "outputs": []
    },
    {
      "cell_type": "code",
      "metadata": {
        "colab": {
          "base_uri": "https://localhost:8080/"
        },
        "id": "vDo_oqafLZYk",
        "outputId": "e4a98756-12d0-499e-8b5f-d37415bdee15"
      },
      "source": [
        "solution([4,5,2,10,8])"
      ],
      "execution_count": 3,
      "outputs": [
        {
          "output_type": "execute_result",
          "data": {
            "text/plain": [
              "[2, 2, -1, 8, -1]"
            ]
          },
          "metadata": {},
          "execution_count": 3
        }
      ]
    },
    {
      "cell_type": "code",
      "metadata": {
        "id": "f0BAZvDaLfft"
      },
      "source": [
        ""
      ],
      "execution_count": null,
      "outputs": []
    }
  ]
}