{
  "nbformat": 4,
  "nbformat_minor": 0,
  "metadata": {
    "colab": {
      "name": "Maximum_area_rectangle_binary_matrix.ipynb",
      "provenance": [],
      "collapsed_sections": [],
      "authorship_tag": "ABX9TyOdgt6WoQe9lTtnVAXl52Gm",
      "include_colab_link": true
    },
    "kernelspec": {
      "name": "python3",
      "display_name": "Python 3"
    },
    "language_info": {
      "name": "python"
    }
  },
  "cells": [
    {
      "cell_type": "markdown",
      "metadata": {
        "id": "view-in-github",
        "colab_type": "text"
      },
      "source": [
        "<a href=\"https://colab.research.google.com/github/shoaibakhtar1010/Data-Structures-and-Algorithms-with-Python/blob/main/Stacks%2C%20Queues%20and%20Deques/Stacks%2C%20Queues%2C%20and%20Deques%20Interview%20Problems/Stacks%2C%20Queues%2C%20Deques%20Interview%20Questions%20-SOLUTIONS/Maximum_area_rectangle_binary_matrix.ipynb\" target=\"_parent\"><img src=\"https://colab.research.google.com/assets/colab-badge.svg\" alt=\"Open In Colab\"/></a>"
      ]
    },
    {
      "cell_type": "code",
      "metadata": {
        "id": "niiAp_nwIOmc"
      },
      "source": [
        ""
      ],
      "execution_count": null,
      "outputs": []
    },
    {
      "cell_type": "markdown",
      "metadata": {
        "id": "iPpN3QMGIavY"
      },
      "source": [
        "Given a binary matrix, find the maximum size rectangle binary-sub-matrix with all 1’s. \n",
        "\n",
        "Input:\n",
        "\n",
        "0 1 1 0\n",
        "\n",
        "1 1 1 1\n",
        "\n",
        "1 1 1 1\n",
        "\n",
        "1 1 0 0\n",
        "\n",
        "Output :\n",
        "\n",
        "8\n",
        "\n",
        "Explanation : \n",
        "The largest rectangle with only 1's is from \n",
        "(1, 0) to (2, 3) which is\n",
        "\n",
        "1 1 1 1\n",
        "\n",
        "1 1 1 1 \n",
        "\n",
        "Input:\n",
        "\n",
        "0 1 1\n",
        "\n",
        "1 1 1\n",
        "\n",
        "0 1 1      \n",
        "\n",
        "Output:\n",
        "\n",
        "6\n",
        "\n",
        "Explanation : \n",
        "The largest rectangle with only 1's is from \n",
        "(0, 1) to (2, 2) which is\n",
        "1 1\n",
        "1 1\n",
        "1 1"
      ]
    },
    {
      "cell_type": "code",
      "metadata": {
        "id": "ZYrhPWUrI7Vu"
      },
      "source": [
        "def MAH(arr):\n",
        "  N=len(arr)\n",
        "  NSRI=[N]*N\n",
        "  NSLI=[-1]*N\n",
        "  from collections import deque\n",
        "  stack1=deque()\n",
        "  stack2=deque()\n",
        "  for i in range(N-1,-1,-1):\n",
        "    if len(stack1)==0:\n",
        "      NSRI[i]=N\n",
        "    elif arr[stack1[-1]]<arr[i]:\n",
        "      NSRI[i]=stack1[-1]\n",
        "    else:\n",
        "      while (len(stack1)>0 and arr[stack1[-1]]>=arr[i]):\n",
        "        stack1.pop()\n",
        "      if len(stack1)>0:\n",
        "        NSRI[i]=stack1[-1]\n",
        "    stack1.append(i)\n",
        "  for i in range(0,N):\n",
        "    if len(stack2)==0:\n",
        "      NSLI[i]=-1\n",
        "    elif arr[stack2[-1]]<arr[i]:\n",
        "      NSLI[i]=stack2[-1]\n",
        "    else:\n",
        "      while (len(stack2)>0 and arr[stack2[-1]]>=arr[i]):\n",
        "        stack2.pop()\n",
        "      if len(stack2)>0:\n",
        "        NSLI[i]=stack2[-1]\n",
        "    stack2.append(i)\n",
        "  maxx=0\n",
        "  for i in range(0,N):\n",
        "    maxx=max((NSRI[i]-NSLI[i]-1)*arr[i],maxx)\n",
        "  return maxx\n",
        "def solution(arr):\n",
        "  arr1=arr[0]\n",
        "  mx=MAH(arr1)\n",
        "  m,n=len(arr),len(arr1)\n",
        "  for i in range(1,m):\n",
        "    for j in range(0,n):\n",
        "      if arr[i][j]==0:\n",
        "        arr1[j]=0\n",
        "      else:\n",
        "        arr1[j]=arr[i][j]+arr1[j]\n",
        "    mx=max(mx,MAH(arr1))\n",
        "  return mx\n"
      ],
      "execution_count": 35,
      "outputs": []
    },
    {
      "cell_type": "code",
      "metadata": {
        "colab": {
          "base_uri": "https://localhost:8080/"
        },
        "id": "kn8Y_XTZw0BO",
        "outputId": "db358095-19ca-4601-cf95-a28087baabfb"
      },
      "source": [
        "A = [[0, 1, 1, 0], \n",
        "         [1, 1, 1, 1],  \n",
        "         [1, 1, 1, 1],  \n",
        "         [1, 1, 0, 0]] \n",
        "solution(A)"
      ],
      "execution_count": 36,
      "outputs": [
        {
          "output_type": "execute_result",
          "data": {
            "text/plain": [
              "8"
            ]
          },
          "metadata": {},
          "execution_count": 36
        }
      ]
    },
    {
      "cell_type": "code",
      "metadata": {
        "colab": {
          "base_uri": "https://localhost:8080/"
        },
        "id": "Vif79yiAw39g",
        "outputId": "56015c67-b353-44db-80ae-30f038ea8ca8"
      },
      "source": [
        "a[1][0]"
      ],
      "execution_count": 13,
      "outputs": [
        {
          "output_type": "execute_result",
          "data": {
            "text/plain": [
              "5"
            ]
          },
          "metadata": {},
          "execution_count": 13
        }
      ]
    },
    {
      "cell_type": "code",
      "metadata": {
        "id": "1dcbZA_Iw7LK"
      },
      "source": [
        "a=[[0, 1, 1, 0],[1, 1 ,1 ,1],[1, 1, 1, 1],[1 ,1 ,0, 0]]"
      ],
      "execution_count": 25,
      "outputs": []
    },
    {
      "cell_type": "code",
      "metadata": {
        "colab": {
          "base_uri": "https://localhost:8080/"
        },
        "id": "A-bmJuwjK3NX",
        "outputId": "c7537099-c8b6-4cc4-f9df-5d89bf894ddf"
      },
      "source": [
        "a[:][0]"
      ],
      "execution_count": 26,
      "outputs": [
        {
          "output_type": "execute_result",
          "data": {
            "text/plain": [
              "[0, 1, 1, 0]"
            ]
          },
          "metadata": {},
          "execution_count": 26
        }
      ]
    },
    {
      "cell_type": "code",
      "metadata": {
        "id": "CGeq6OyxK6ok"
      },
      "source": [
        ""
      ],
      "execution_count": null,
      "outputs": []
    }
  ]
}