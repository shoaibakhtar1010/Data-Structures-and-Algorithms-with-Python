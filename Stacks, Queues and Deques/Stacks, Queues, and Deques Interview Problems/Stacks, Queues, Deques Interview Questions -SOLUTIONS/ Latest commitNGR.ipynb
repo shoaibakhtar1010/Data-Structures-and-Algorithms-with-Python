{
  "nbformat": 4,
  "nbformat_minor": 0,
  "metadata": {
    "colab": {
      "name": "NGR.ipynb",
      "provenance": [],
      "authorship_tag": "ABX9TyOPRychxksrsCv5/LWr7WZn",
      "include_colab_link": true
    },
    "kernelspec": {
      "name": "python3",
      "display_name": "Python 3"
    },
    "language_info": {
      "name": "python"
    }
  },
  "cells": [
    {
      "cell_type": "markdown",
      "metadata": {
        "id": "view-in-github",
        "colab_type": "text"
      },
      "source": [
        "<a href=\"https://colab.research.google.com/github/shoaibakhtar1010/Data-Structures-and-Algorithms-with-Python/blob/main/Stacks%2C%20Queues%20and%20Deques/Stacks%2C%20Queues%2C%20and%20Deques%20Interview%20Problems/Stacks%2C%20Queues%2C%20Deques%20Interview%20Questions%20-SOLUTIONS/%20Latest%20commitNGR.ipynb\" target=\"_parent\"><img src=\"https://colab.research.google.com/assets/colab-badge.svg\" alt=\"Open In Colab\"/></a>"
      ]
    },
    {
      "cell_type": "code",
      "metadata": {
        "id": "iJ0QvCfI65xP"
      },
      "source": [
        ""
      ],
      "execution_count": null,
      "outputs": []
    },
    {
      "cell_type": "markdown",
      "metadata": {
        "id": "HzPfEHIb7Ccf"
      },
      "source": [
        "Given an array, print the Next Greater Element (NGE) for every element. The Next greater Element for an element x is the first greater element on the right side of x in the array. Elements for which no greater element exist, consider the next greater element as -1.\n",
        "\n",
        "Examples:\n",
        "1. For an array, the rightmost element always has the next greater element as -1.\n",
        "2. For an array that is sorted in decreasing order, all elements have the next greater element as -1.\n",
        "3. For the input array [4, 5, 2, 25], the next greater elements for each element are as follows.\n",
        "\n",
        "* Element           NGE\n",
        "*  4              -->   5\n",
        "*    5             -->   25\n",
        "*  2             -->   25\n",
        "*  25     -->   -1\n",
        "4.  For the input array [13, 7, 6, 12}, the next greater elements for each element are as follows.\n",
        " *  Element        NGE\n",
        " *  13      -->    -1\n",
        " *  7       -->     12\n",
        " * 6       -->     12\n",
        " *  12      -->     -1\n",
        " \n",
        "A naive solution is to use two loops: The outer loop picks all the elements one by one. The inner loop looks for the first greater element for the element picked by the outer loop. If a greater element is found then that element is printed as next, otherwise, -1 is printed.\n",
        "\n",
        "A better solution is to use the stack."
      ]
    },
    {
      "cell_type": "code",
      "metadata": {
        "id": "B_WPTRPY7lpA"
      },
      "source": [
        "def solution(arr):\n",
        "  N=len(arr)\n",
        "  output_arr=[]\n",
        "  from collections import deque\n",
        "  stack=deque()\n",
        "  for i in range(N-1,-1,-1):\n",
        "    if len(stack)==0:\n",
        "      output_arr.insert(0,-1)\n",
        "    elif stack[-1]>arr[i]:\n",
        "      output_arr.insert(0,stack[-1])\n",
        "    else:\n",
        "      while (len(stack)>0 and stack[-1]<=arr[i]):\n",
        "        stack.pop()\n",
        "      if len(stack)==0:\n",
        "        output_arr.insert(0,-1)\n",
        "      else:\n",
        "        output_arr.insert(0,stack[-1])\n",
        "    stack.append(arr[i])\n",
        "  return output_arr\n",
        "    \n"
      ],
      "execution_count": 78,
      "outputs": []
    },
    {
      "cell_type": "code",
      "metadata": {
        "colab": {
          "base_uri": "https://localhost:8080/"
        },
        "id": "WmPE15ID9tTV",
        "outputId": "494e2e6d-afc3-4747-ccb9-572ae1c909e5"
      },
      "source": [
        "solution([13,7,6,12])"
      ],
      "execution_count": 79,
      "outputs": [
        {
          "output_type": "execute_result",
          "data": {
            "text/plain": [
              "[-1, 12, 12, -1]"
            ]
          },
          "metadata": {},
          "execution_count": 79
        }
      ]
    },
    {
      "cell_type": "code",
      "metadata": {
        "colab": {
          "base_uri": "https://localhost:8080/"
        },
        "id": "kjDzmv3OS1nT",
        "outputId": "cd76d60d-5c71-4bf4-9723-c9c5bbcc5c5d"
      },
      "source": [
        "solution([1,3,2,4])"
      ],
      "execution_count": 80,
      "outputs": [
        {
          "output_type": "execute_result",
          "data": {
            "text/plain": [
              "[3, 4, 4, -1]"
            ]
          },
          "metadata": {},
          "execution_count": 80
        }
      ]
    },
    {
      "cell_type": "code",
      "metadata": {
        "id": "2RR8-jF5S1qi"
      },
      "source": [
        ""
      ],
      "execution_count": null,
      "outputs": []
    },
    {
      "cell_type": "code",
      "metadata": {
        "colab": {
          "base_uri": "https://localhost:8080/"
        },
        "id": "3APzH6gt9zKJ",
        "outputId": "ca56fcbe-bc6d-4d39-9cf7-3be3b217a70f"
      },
      "source": [
        "for i in range(4,-1,-1):\n",
        "  print(i)"
      ],
      "execution_count": 22,
      "outputs": [
        {
          "output_type": "stream",
          "name": "stdout",
          "text": [
            "4\n",
            "3\n",
            "2\n",
            "1\n",
            "0\n"
          ]
        }
      ]
    },
    {
      "cell_type": "code",
      "metadata": {
        "id": "LxwxVkZcDYqW"
      },
      "source": [
        "from collections import deque\n",
        "d=deque()"
      ],
      "execution_count": 44,
      "outputs": []
    },
    {
      "cell_type": "code",
      "metadata": {
        "id": "5PfnDMFbL8NB"
      },
      "source": [
        "d.append(1)"
      ],
      "execution_count": 45,
      "outputs": []
    },
    {
      "cell_type": "code",
      "metadata": {
        "id": "Vb_yMkxeMEaW"
      },
      "source": [
        "d.append(2)"
      ],
      "execution_count": 46,
      "outputs": []
    },
    {
      "cell_type": "code",
      "metadata": {
        "id": "nddKO5unMGuQ"
      },
      "source": [
        "d.append(3)"
      ],
      "execution_count": 47,
      "outputs": []
    },
    {
      "cell_type": "code",
      "metadata": {
        "colab": {
          "base_uri": "https://localhost:8080/"
        },
        "id": "ki2IrlPXMJHV",
        "outputId": "3433e284-0fd6-43a0-904c-05781d268959"
      },
      "source": [
        "d.pop()"
      ],
      "execution_count": 49,
      "outputs": [
        {
          "output_type": "execute_result",
          "data": {
            "text/plain": [
              "3"
            ]
          },
          "metadata": {},
          "execution_count": 49
        }
      ]
    },
    {
      "cell_type": "code",
      "metadata": {
        "colab": {
          "base_uri": "https://localhost:8080/"
        },
        "id": "4Pr6sZGHMJ2b",
        "outputId": "d2b980f7-c6ae-4102-8189-1a50b7d95c6b"
      },
      "source": [
        "d[-1]"
      ],
      "execution_count": 50,
      "outputs": [
        {
          "output_type": "execute_result",
          "data": {
            "text/plain": [
              "2"
            ]
          },
          "metadata": {},
          "execution_count": 50
        }
      ]
    },
    {
      "cell_type": "code",
      "metadata": {
        "colab": {
          "base_uri": "https://localhost:8080/"
        },
        "id": "r145CeauMP7O",
        "outputId": "6b7db8d6-f5e5-44a7-f307-973f10b54692"
      },
      "source": [
        "d[0]"
      ],
      "execution_count": 60,
      "outputs": [
        {
          "output_type": "execute_result",
          "data": {
            "text/plain": [
              "1"
            ]
          },
          "metadata": {},
          "execution_count": 60
        }
      ]
    },
    {
      "cell_type": "code",
      "metadata": {
        "id": "ozmnT_PgQXkK"
      },
      "source": [
        ""
      ],
      "execution_count": null,
      "outputs": []
    }
  ]
}