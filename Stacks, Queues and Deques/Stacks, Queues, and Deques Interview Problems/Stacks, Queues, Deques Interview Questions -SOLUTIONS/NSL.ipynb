{
  "nbformat": 4,
  "nbformat_minor": 0,
  "metadata": {
    "colab": {
      "name": "NSL.ipynb",
      "provenance": [],
      "authorship_tag": "ABX9TyOmSE3W0DS9dZ7mnp6Ri53k",
      "include_colab_link": true
    },
    "kernelspec": {
      "name": "python3",
      "display_name": "Python 3"
    },
    "language_info": {
      "name": "python"
    }
  },
  "cells": [
    {
      "cell_type": "markdown",
      "metadata": {
        "id": "view-in-github",
        "colab_type": "text"
      },
      "source": [
        "<a href=\"https://colab.research.google.com/github/shoaibakhtar1010/Data-Structures-and-Algorithms-with-Python/blob/main/Stacks%2C%20Queues%20and%20Deques/Stacks%2C%20Queues%2C%20and%20Deques%20Interview%20Problems/Stacks%2C%20Queues%2C%20Deques%20Interview%20Questions%20-SOLUTIONS/NSL.ipynb\" target=\"_parent\"><img src=\"https://colab.research.google.com/assets/colab-badge.svg\" alt=\"Open In Colab\"/></a>"
      ]
    },
    {
      "cell_type": "code",
      "metadata": {
        "id": "3lGhvO16MBf2"
      },
      "source": [
        ""
      ],
      "execution_count": null,
      "outputs": []
    },
    {
      "cell_type": "markdown",
      "metadata": {
        "id": "Nb6NlFscMNb1"
      },
      "source": [
        "Given an array of integers, find the nearest smaller number for every element such that the smaller element is on left side.\n",
        "\n",
        "Examples: \n",
        "\n",
        "Input:  arr[] = {1, 6, 4, 10, 2, 5}\n",
        "\n",
        "Output:         {-1, 1, 1,  4, 1, 2}\n",
        "\n",
        "First element ('1') has no element on left side. For 6, \n",
        "there is only one smaller element on left side '1'. \n",
        "For 10, there are three smaller elements on left side (1,\n",
        "6 and 4), nearest among the three elements is 4.\n",
        "\n",
        "Input: arr[] = {1, 3, 0, 2, 5}\n",
        "\n",
        "Output:        {-1, 1, -1, 0, 2}"
      ]
    },
    {
      "cell_type": "code",
      "metadata": {
        "id": "-pfY_tsyMUF_"
      },
      "source": [
        "def solution(arr):\n",
        "  from collections import deque\n",
        "  stack=deque()\n",
        "  N=len(arr)\n",
        "  output_arr=[]\n",
        "  for i in range(0,N):\n",
        "    if len(stack)==0:\n",
        "      output_arr.append(-1)\n",
        "    elif stack[-1]<arr[i]:\n",
        "      output_arr.append(stack[-1])\n",
        "    else:\n",
        "      while len(stack)>0 and stack[-1]>=arr[i]:\n",
        "        stack.pop()\n",
        "      if len(stack)==0:\n",
        "        output_arr.append(-1)\n",
        "      else:\n",
        "        output_arr.append(stack[-1])\n",
        "    stack.append(arr[i])\n",
        "  return output_arr"
      ],
      "execution_count": 1,
      "outputs": []
    },
    {
      "cell_type": "code",
      "metadata": {
        "colab": {
          "base_uri": "https://localhost:8080/"
        },
        "id": "5wfE3ArjMwjW",
        "outputId": "0596bbc4-db88-4750-8a94-5ca9d664b64e"
      },
      "source": [
        "solution([1,3,0,2,5])"
      ],
      "execution_count": 2,
      "outputs": [
        {
          "output_type": "execute_result",
          "data": {
            "text/plain": [
              "[-1, 1, -1, 0, 2]"
            ]
          },
          "metadata": {},
          "execution_count": 2
        }
      ]
    },
    {
      "cell_type": "code",
      "metadata": {
        "colab": {
          "base_uri": "https://localhost:8080/"
        },
        "id": "mIQ5K4gaM3NA",
        "outputId": "26f40e49-dbc1-4a12-c8ad-8a2b919475f7"
      },
      "source": [
        "solution([1,6,4,10,2,5])"
      ],
      "execution_count": 3,
      "outputs": [
        {
          "output_type": "execute_result",
          "data": {
            "text/plain": [
              "[-1, 1, 1, 4, 1, 2]"
            ]
          },
          "metadata": {},
          "execution_count": 3
        }
      ]
    },
    {
      "cell_type": "code",
      "metadata": {
        "id": "_qVmNv6zNBBY"
      },
      "source": [
        ""
      ],
      "execution_count": null,
      "outputs": []
    }
  ]
}