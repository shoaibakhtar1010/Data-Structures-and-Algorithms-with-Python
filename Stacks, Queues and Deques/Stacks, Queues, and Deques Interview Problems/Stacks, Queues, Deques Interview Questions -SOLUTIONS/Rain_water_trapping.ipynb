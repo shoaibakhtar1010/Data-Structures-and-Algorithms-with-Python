{
  "nbformat": 4,
  "nbformat_minor": 0,
  "metadata": {
    "colab": {
      "name": "Rain_water_trapping.ipynb",
      "provenance": [],
      "collapsed_sections": [],
      "authorship_tag": "ABX9TyM6Zivzu5xwl+Io79XDiy9L",
      "include_colab_link": true
    },
    "kernelspec": {
      "name": "python3",
      "display_name": "Python 3"
    },
    "language_info": {
      "name": "python"
    }
  },
  "cells": [
    {
      "cell_type": "markdown",
      "metadata": {
        "id": "view-in-github",
        "colab_type": "text"
      },
      "source": [
        "<a href=\"https://colab.research.google.com/github/shoaibakhtar1010/Data-Structures-and-Algorithms-with-Python/blob/main/Stacks%2C%20Queues%20and%20Deques/Stacks%2C%20Queues%2C%20and%20Deques%20Interview%20Problems/Stacks%2C%20Queues%2C%20Deques%20Interview%20Questions%20-SOLUTIONS/Rain_water_trapping.ipynb\" target=\"_parent\"><img src=\"https://colab.research.google.com/assets/colab-badge.svg\" alt=\"Open In Colab\"/></a>"
      ]
    },
    {
      "cell_type": "markdown",
      "metadata": {
        "id": "HbcDbONlgGM5"
      },
      "source": [
        "Given n non-negative integers representing an elevation map where the width of each bar is 1, compute how much water it can trap after raining.\n",
        "[Problem statement](https://leetcode.com/problems/trapping-rain-water/)"
      ]
    },
    {
      "cell_type": "code",
      "metadata": {
        "id": "ljvVm96Xca_F"
      },
      "source": [
        "def solution(arr):\n",
        "  N=len(arr)\n",
        "  mxl=[-1]*N\n",
        "  mxr=[-1]*N\n",
        "  summ=[-1]*N\n",
        "  mxl[0]=arr[0]\n",
        "  mxr[N-1]=arr[N-1]\n",
        "  for i in range(1,N):\n",
        "    mxl[i]=max(mxl[i-1],arr[i])\n",
        "  for i in range(N-2,-1,-1):\n",
        "    mxr[i]=max(mxr[i+1],arr[i])\n",
        "  for i in range(N):\n",
        "    summ[i]=min(mxr[i],mxl[i])-arr[i]\n",
        "  return sum(summ)\n",
        "\n"
      ],
      "execution_count": 3,
      "outputs": []
    },
    {
      "cell_type": "code",
      "metadata": {
        "colab": {
          "base_uri": "https://localhost:8080/"
        },
        "id": "EibXeszpfV2u",
        "outputId": "ee74f611-24c3-43af-859c-fdbd08fdec6f"
      },
      "source": [
        "solution([3,0,0,2,0,4])"
      ],
      "execution_count": 4,
      "outputs": [
        {
          "output_type": "execute_result",
          "data": {
            "text/plain": [
              "10"
            ]
          },
          "metadata": {},
          "execution_count": 4
        }
      ]
    },
    {
      "cell_type": "code",
      "metadata": {
        "id": "DfHcZ53JfbZV"
      },
      "source": [
        ""
      ],
      "execution_count": null,
      "outputs": []
    }
  ]
}