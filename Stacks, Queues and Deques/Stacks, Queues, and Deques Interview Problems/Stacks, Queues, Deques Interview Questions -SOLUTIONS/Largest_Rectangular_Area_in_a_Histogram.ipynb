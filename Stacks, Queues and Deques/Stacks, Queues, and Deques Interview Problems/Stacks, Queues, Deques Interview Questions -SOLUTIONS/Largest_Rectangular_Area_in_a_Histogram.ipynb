{
  "nbformat": 4,
  "nbformat_minor": 0,
  "metadata": {
    "colab": {
      "name": "Largest_Rectangular_Area_in_a_Histogram.ipynb",
      "provenance": [],
      "collapsed_sections": [],
      "authorship_tag": "ABX9TyO8ViySE5KK+3Ez4fFYNu5E",
      "include_colab_link": true
    },
    "kernelspec": {
      "name": "python3",
      "display_name": "Python 3"
    },
    "language_info": {
      "name": "python"
    }
  },
  "cells": [
    {
      "cell_type": "markdown",
      "metadata": {
        "id": "view-in-github",
        "colab_type": "text"
      },
      "source": [
        "<a href=\"https://colab.research.google.com/github/shoaibakhtar1010/Data-Structures-and-Algorithms-with-Python/blob/main/Stacks%2C%20Queues%20and%20Deques/Stacks%2C%20Queues%2C%20and%20Deques%20Interview%20Problems/Stacks%2C%20Queues%2C%20Deques%20Interview%20Questions%20-SOLUTIONS/Largest_Rectangular_Area_in_a_Histogram.ipynb\" target=\"_parent\"><img src=\"https://colab.research.google.com/assets/colab-badge.svg\" alt=\"Open In Colab\"/></a>"
      ]
    },
    {
      "cell_type": "code",
      "metadata": {
        "id": "JDE92JAFa5DV",
        "colab": {
          "base_uri": "https://localhost:8080/",
          "height": 35
        },
        "outputId": "73a85bb1-3abf-4dbc-c728-32bc60a9c0a8"
      },
      "source": [
        "'Largest Rectangular Area in a Histogram'.replace(' ','_')"
      ],
      "execution_count": 46,
      "outputs": [
        {
          "output_type": "execute_result",
          "data": {
            "application/vnd.google.colaboratory.intrinsic+json": {
              "type": "string"
            },
            "text/plain": [
              "'Largest_Rectangular_Area_in_a_Histogram'"
            ]
          },
          "metadata": {},
          "execution_count": 46
        }
      ]
    },
    {
      "cell_type": "markdown",
      "metadata": {
        "id": "wWqtmZeBbvC5"
      },
      "source": [
        "Find the largest rectangular area possible in a given histogram where the largest rectangle can be made of a number of contiguous bars. For simplicity, assume that all bars have same width and the width is 1 unit. \n",
        "For example, consider the following histogram with 7 bars of heights {6, 2, 5, 4, 5, 1, 6}. The largest possible rectangle possible is 12 (see the below figure, the max area rectangle is highlighted in red)"
      ]
    },
    {
      "cell_type": "code",
      "metadata": {
        "id": "FZk9Uu-obwiu"
      },
      "source": [
        "def solution(arr):\n",
        "  N=len(arr)\n",
        "  NSRI=[N]*N\n",
        "  NSLI=[-1]*N\n",
        "  from collections import deque\n",
        "  stack1=deque()\n",
        "  stack2=deque()\n",
        "  for i in range(N-1,-1,-1):\n",
        "    if len(stack1)==0:\n",
        "      NSRI[i]=N\n",
        "    elif arr[stack1[-1]]<arr[i]:\n",
        "      NSRI[i]=stack1[-1]\n",
        "    else:\n",
        "      while (len(stack1)>0 and arr[stack1[-1]]>=arr[i]):\n",
        "        stack1.pop()\n",
        "      if len(stack1)>0:\n",
        "        NSRI[i]=stack1[-1]\n",
        "    stack1.append(i)\n",
        "  for i in range(0,N):\n",
        "    if len(stack2)==0:\n",
        "      NSLI[i]=-1\n",
        "    elif arr[stack2[-1]]<arr[i]:\n",
        "      NSLI[i]=stack2[-1]\n",
        "    else:\n",
        "      while (len(stack2)>0 and arr[stack2[-1]]>=arr[i]):\n",
        "        stack2.pop()\n",
        "      if len(stack2)>0:\n",
        "        NSLI[i]=stack2[-1]\n",
        "    stack2.append(i)\n",
        "  maxx=0\n",
        "  for i in range(0,N):\n",
        "    maxx=max((NSRI[i]-NSLI[i]-1)*arr[i],maxx)\n",
        "  return maxx\n"
      ],
      "execution_count": 44,
      "outputs": []
    },
    {
      "cell_type": "code",
      "metadata": {
        "colab": {
          "base_uri": "https://localhost:8080/"
        },
        "id": "_HrPzX3lpKMf",
        "outputId": "aa5304a0-7d4b-472f-b30e-e8d316a32e90"
      },
      "source": [
        "solution([6,2,6,5,6,5,1,7])"
      ],
      "execution_count": 45,
      "outputs": [
        {
          "output_type": "execute_result",
          "data": {
            "text/plain": [
              "20"
            ]
          },
          "metadata": {},
          "execution_count": 45
        }
      ]
    },
    {
      "cell_type": "code",
      "metadata": {
        "colab": {
          "base_uri": "https://localhost:8080/",
          "height": 163
        },
        "id": "CyyVrcxPpRHg",
        "outputId": "4e46a2ff-aacd-4be5-a551-323fb80148bf"
      },
      "source": [
        ""
      ],
      "execution_count": 39,
      "outputs": [
        {
          "output_type": "error",
          "ename": "TypeError",
          "evalue": "ignored",
          "traceback": [
            "\u001b[0;31m---------------------------------------------------------------------------\u001b[0m",
            "\u001b[0;31mTypeError\u001b[0m                                 Traceback (most recent call last)",
            "\u001b[0;32m<ipython-input-39-5165e5358af2>\u001b[0m in \u001b[0;36m<module>\u001b[0;34m()\u001b[0m\n\u001b[0;32m----> 1\u001b[0;31m \u001b[0;34m[\u001b[0m\u001b[0;36m1\u001b[0m\u001b[0;34m,\u001b[0m\u001b[0;36m2\u001b[0m\u001b[0;34m,\u001b[0m\u001b[0;36m3\u001b[0m\u001b[0;34m,\u001b[0m\u001b[0;36m4\u001b[0m\u001b[0;34m]\u001b[0m\u001b[0;34m-\u001b[0m\u001b[0;34m[\u001b[0m\u001b[0;36m1\u001b[0m\u001b[0;34m,\u001b[0m\u001b[0;36m2\u001b[0m\u001b[0;34m,\u001b[0m\u001b[0;36m3\u001b[0m\u001b[0;34m,\u001b[0m\u001b[0;36m4\u001b[0m\u001b[0;34m]\u001b[0m\u001b[0;34m\u001b[0m\u001b[0;34m\u001b[0m\u001b[0m\n\u001b[0m",
            "\u001b[0;31mTypeError\u001b[0m: unsupported operand type(s) for -: 'list' and 'list'"
          ]
        }
      ]
    },
    {
      "cell_type": "code",
      "metadata": {
        "id": "llGhSfUuvQlw"
      },
      "source": [
        ""
      ],
      "execution_count": null,
      "outputs": []
    }
  ]
}