{
  "nbformat": 4,
  "nbformat_minor": 0,
  "metadata": {
    "kernelspec": {
      "display_name": "Python 2",
      "language": "python",
      "name": "python2"
    },
    "language_info": {
      "codemirror_mode": {
        "name": "ipython",
        "version": 2
      },
      "file_extension": ".py",
      "mimetype": "text/x-python",
      "name": "python",
      "nbconvert_exporter": "python",
      "pygments_lexer": "ipython2",
      "version": "2.7.10"
    },
    "colab": {
      "name": "Balanced Parentheses Check .ipynb",
      "provenance": [],
      "include_colab_link": true
    }
  },
  "cells": [
    {
      "cell_type": "markdown",
      "metadata": {
        "id": "view-in-github",
        "colab_type": "text"
      },
      "source": [
        "<a href=\"https://colab.research.google.com/github/shoaibakhtar1010/Data-Structures-and-Algorithms-with-Python/blob/main/Stacks%2C%20Queues%20and%20Deques/Stacks%2C%20Queues%2C%20and%20Deques%20Interview%20Problems/Balanced_Parentheses_Check_.ipynb\" target=\"_parent\"><img src=\"https://colab.research.google.com/assets/colab-badge.svg\" alt=\"Open In Colab\"/></a>"
      ]
    },
    {
      "cell_type": "markdown",
      "metadata": {
        "id": "tlZU0zFvcZJU"
      },
      "source": [
        "# Balanced Parentheses Check \n",
        "\n",
        "## Problem Statement\n",
        "\n",
        "Given a string of opening and closing parentheses, check whether it’s balanced. We have 3 types of parentheses: round brackets: (), square brackets: [], and curly brackets: {}. Assume that the string doesn’t contain any other character than these, no spaces words or numbers. As a reminder, balanced parentheses require every opening parenthesis to be closed in the reverse order opened. For example ‘([])’ is balanced but ‘([)]’ is not. \n",
        "\n",
        "\n",
        "You can assume the input string has no spaces.\n",
        "\n",
        "## Solution\n",
        "\n",
        "Fill out your solution below:"
      ]
    },
    {
      "cell_type": "code",
      "metadata": {
        "collapsed": true,
        "id": "thm6TxkHcZJi"
      },
      "source": [
        "def balance_check(s):\n",
        "  closing=[']',')','}']\n",
        "  balance=['[]','()','{}']\n",
        "  if len(s)==0:\n",
        "    return True\n",
        "  if len(s)==1:\n",
        "    return False\n",
        "  stack=[]\n",
        "  for i in range(len(s)):\n",
        "    if s[i] in closing:\n",
        "      if stack.pop()+s[i] not in balance:\n",
        "        return False\n",
        "    else:\n",
        "      stack.append(s[i])\n",
        "\n",
        "  return True if len(stack)==0 else False\n"
      ],
      "execution_count": 23,
      "outputs": []
    },
    {
      "cell_type": "code",
      "metadata": {
        "colab": {
          "base_uri": "https://localhost:8080/"
        },
        "id": "ta37n6iJcZJl",
        "outputId": "9ef9f03b-4456-4203-966b-8d8b0e2d9ae8"
      },
      "source": [
        "balance_check('[]')"
      ],
      "execution_count": 24,
      "outputs": [
        {
          "output_type": "execute_result",
          "data": {
            "text/plain": [
              "True"
            ]
          },
          "metadata": {},
          "execution_count": 24
        }
      ]
    },
    {
      "cell_type": "code",
      "metadata": {
        "colab": {
          "base_uri": "https://localhost:8080/"
        },
        "id": "sMBfuBLgcZJo",
        "outputId": "b4c7d416-de3b-4309-fa82-17df2c065302"
      },
      "source": [
        "balance_check('[](){([[[]]])}')"
      ],
      "execution_count": 25,
      "outputs": [
        {
          "output_type": "execute_result",
          "data": {
            "text/plain": [
              "True"
            ]
          },
          "metadata": {},
          "execution_count": 25
        }
      ]
    },
    {
      "cell_type": "code",
      "metadata": {
        "colab": {
          "base_uri": "https://localhost:8080/"
        },
        "id": "9xzKhxo7cZJp",
        "outputId": "f9be0f2e-33d1-4d9e-9b50-eaf7a67b76c5"
      },
      "source": [
        "balance_check('()(){]}')"
      ],
      "execution_count": 26,
      "outputs": [
        {
          "output_type": "execute_result",
          "data": {
            "text/plain": [
              "False"
            ]
          },
          "metadata": {},
          "execution_count": 26
        }
      ]
    },
    {
      "cell_type": "markdown",
      "metadata": {
        "id": "d--a6mu8cZJq"
      },
      "source": [
        "# Test Your Solution"
      ]
    },
    {
      "cell_type": "code",
      "metadata": {
        "colab": {
          "base_uri": "https://localhost:8080/"
        },
        "id": "A8BxWSd-cZJr",
        "outputId": "dfa4320b-5e24-4c12-d915-2024fea42561"
      },
      "source": [
        "\"\"\"\n",
        "RUN THIS CELL TO TEST YOUR SOLUTION\n",
        "\"\"\"\n",
        "!pip install nose\n",
        "from nose.tools import assert_equal\n",
        "\n",
        "class TestBalanceCheck(object):\n",
        "    \n",
        "    def test(self,sol):\n",
        "        assert_equal(sol('[](){([[[]]])}('),False)\n",
        "        assert_equal(sol('[{{{(())}}}]((()))'),True)\n",
        "        assert_equal(sol('[[[]])]'),False)\n",
        "        print('ALL TEST CASES PASSED')\n",
        "        \n",
        "# Run Tests\n",
        "\n",
        "t = TestBalanceCheck()\n",
        "t.test(balance_check)"
      ],
      "execution_count": 27,
      "outputs": [
        {
          "output_type": "stream",
          "name": "stdout",
          "text": [
            "Requirement already satisfied: nose in /usr/local/lib/python3.7/dist-packages (1.3.7)\n",
            "ALL TEST CASES PASSED\n"
          ]
        }
      ]
    },
    {
      "cell_type": "markdown",
      "metadata": {
        "id": "RJVbJ7EgcZJu"
      },
      "source": [
        "## Good Job!"
      ]
    },
    {
      "cell_type": "code",
      "metadata": {
        "id": "OhUQ8n_uwJzL"
      },
      "source": [
        ""
      ],
      "execution_count": null,
      "outputs": []
    }
  ]
}