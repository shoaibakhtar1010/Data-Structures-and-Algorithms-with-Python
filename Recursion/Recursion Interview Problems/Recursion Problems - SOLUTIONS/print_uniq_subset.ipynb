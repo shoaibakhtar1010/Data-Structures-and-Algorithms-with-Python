{
  "nbformat": 4,
  "nbformat_minor": 0,
  "metadata": {
    "colab": {
      "name": "print_uniq_subset.ipynb",
      "provenance": [],
      "authorship_tag": "ABX9TyPX3Je4msymVr0iuY+ltILf",
      "include_colab_link": true
    },
    "kernelspec": {
      "name": "python3",
      "display_name": "Python 3"
    },
    "language_info": {
      "name": "python"
    }
  },
  "cells": [
    {
      "cell_type": "markdown",
      "metadata": {
        "id": "view-in-github",
        "colab_type": "text"
      },
      "source": [
        "<a href=\"https://colab.research.google.com/github/shoaibakhtar1010/Data-Structures-and-Algorithms-with-Python/blob/main/Recursion/Recursion%20Interview%20Problems/Recursion%20Problems%20-%20SOLUTIONS/print_uniq_subset.ipynb\" target=\"_parent\"><img src=\"https://colab.research.google.com/assets/colab-badge.svg\" alt=\"Open In Colab\"/></a>"
      ]
    },
    {
      "cell_type": "markdown",
      "source": [
        "Subset – II | Print all the Unique Subsets\n",
        "Problem Statement: Given an array of integers that may contain duplicates the task is to return all possible subsets. Return only unique subsets and they can be in any order."
      ],
      "metadata": {
        "id": "xqyj9cbIAg1-"
      }
    },
    {
      "cell_type": "code",
      "execution_count": 3,
      "metadata": {
        "colab": {
          "base_uri": "https://localhost:8080/"
        },
        "id": "xSwqwS5EASyB",
        "outputId": "1997d447-ef14-447e-d6e8-b70f03ebd3f9"
      },
      "outputs": [
        {
          "output_type": "stream",
          "name": "stdout",
          "text": [
            "Enter the sting: aabbc\n",
            "['', 'aabc', 'a', 'aa', 'b', 'aac', 'ab', 'abbc', 'aabbc', 'aab', 'bb', 'aabb', 'abc', 'abb', 'ac', 'bc', 'c', 'bbc']\n"
          ]
        }
      ],
      "source": [
        "def main():\n",
        "    string=input(\"Enter the sting: \")\n",
        "    op=\"\"\n",
        "    arr=[]\n",
        "    print(list(set(solve(string,op,arr))))\n",
        "    #print(solve(string,op,arr))\n",
        "\n",
        "def solve(string,op,arr):\n",
        "    if len(string)==0:\n",
        "        arr.append(op)\n",
        "        return\n",
        "    op1=op\n",
        "    op2=op+string[0]\n",
        "    solve(string[1:],op1,arr)\n",
        "    solve(string[1:],op2,arr)\n",
        "    return arr\n",
        "main()\n"
      ]
    },
    {
      "cell_type": "code",
      "source": [
        "def main():\n",
        "    string=input(\"Enter the sting: \")\n",
        "    op=\"\"\n",
        "    arr=[]\n",
        "    out=solve(string,op,arr)\n",
        "    dict={}\n",
        "    for ele in out:\n",
        "        dict[ele]=1\n",
        "    lis=[]\n",
        "    for ele in dict:\n",
        "        lis.append(ele)\n",
        "    print(lis)\n",
        "        \n",
        "\n",
        "def solve(string,op,arr):\n",
        "    if len(string)==0:\n",
        "        arr.append(op)\n",
        "        return\n",
        "    op1=op\n",
        "    op2=op+string[0]\n",
        "    solve(string[1:],op1,arr)\n",
        "    solve(string[1:],op2,arr)\n",
        "    return arr\n",
        "main()\n"
      ],
      "metadata": {
        "colab": {
          "base_uri": "https://localhost:8080/"
        },
        "id": "TVdTkG7cB3ZG",
        "outputId": "9dba146b-bfab-4b05-e509-1499d8fee78b"
      },
      "execution_count": 4,
      "outputs": [
        {
          "output_type": "stream",
          "name": "stdout",
          "text": [
            "Enter the sting: aabbc\n",
            "['', 'c', 'b', 'bc', 'bb', 'bbc', 'a', 'ac', 'ab', 'abc', 'abb', 'abbc', 'aa', 'aac', 'aab', 'aabc', 'aabb', 'aabbc']\n"
          ]
        }
      ]
    },
    {
      "cell_type": "code",
      "source": [
        ""
      ],
      "metadata": {
        "id": "NFG0DsFJC7YF"
      },
      "execution_count": null,
      "outputs": []
    }
  ]
}