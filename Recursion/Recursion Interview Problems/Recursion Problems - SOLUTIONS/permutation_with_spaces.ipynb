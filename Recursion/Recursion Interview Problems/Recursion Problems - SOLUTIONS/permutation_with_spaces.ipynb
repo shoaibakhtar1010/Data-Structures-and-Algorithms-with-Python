{
  "nbformat": 4,
  "nbformat_minor": 0,
  "metadata": {
    "colab": {
      "name": "permutation with spaces.ipynb",
      "provenance": [],
      "authorship_tag": "ABX9TyMxRd6OGUfziob5b0l7MQKL",
      "include_colab_link": true
    },
    "kernelspec": {
      "name": "python3",
      "display_name": "Python 3"
    },
    "language_info": {
      "name": "python"
    }
  },
  "cells": [
    {
      "cell_type": "markdown",
      "metadata": {
        "id": "view-in-github",
        "colab_type": "text"
      },
      "source": [
        "<a href=\"https://colab.research.google.com/github/shoaibakhtar1010/Data-Structures-and-Algorithms-with-Python/blob/main/Recursion/Recursion%20Interview%20Problems/Recursion%20Problems%20-%20SOLUTIONS/permutation_with_spaces.ipynb\" target=\"_parent\"><img src=\"https://colab.research.google.com/assets/colab-badge.svg\" alt=\"Open In Colab\"/></a>"
      ]
    },
    {
      "cell_type": "markdown",
      "source": [
        "Given a string you need to print all possible strings that can be made by placing spaces (zero or one) in between them. The output should be printed in sorted increasing order of strings\n",
        "~~~\n",
        "Example 1:\n",
        "\n",
        "Input:\n",
        "S = \"ABC\"\n",
        "Output: (A B C)(A BC)(AB C)(ABC)\n",
        "Explanation:\n",
        "ABC\n",
        "AB C\n",
        "A BC\n",
        "A B C\n",
        "These are the possible combination of \"ABC\".\n",
        " ~~~"
      ],
      "metadata": {
        "id": "QmRiRS9XDj_9"
      }
    },
    {
      "cell_type": "code",
      "execution_count": 5,
      "metadata": {
        "colab": {
          "base_uri": "https://localhost:8080/"
        },
        "id": "HkyI1zcKDNfb",
        "outputId": "40acbe63-755b-45b7-c0bf-29ee810d2a0f"
      },
      "outputs": [
        {
          "output_type": "stream",
          "name": "stdout",
          "text": [
            "Enter the string: ABC\n",
            "['ABC', 'AB C', 'A BC', 'A B C']\n"
          ]
        }
      ],
      "source": [
        "def main():\n",
        "    string=input('Enter the string: ')\n",
        "    op=string[0]\n",
        "    arr=[]\n",
        "    print(solve(string[1:],op,arr))\n",
        "def solve(string,op,arr):\n",
        "    if len(string)==0:\n",
        "        arr.append(op)\n",
        "        return\n",
        "    op1=op+string[0]\n",
        "    op2=op+\" \"+string[0]\n",
        "    solve(string[1:],op1,arr)\n",
        "    solve(string[1:],op2,arr)\n",
        "    return arr\n",
        "main()\n"
      ]
    },
    {
      "cell_type": "code",
      "source": [
        ""
      ],
      "metadata": {
        "id": "c8t3gS-UE3WS"
      },
      "execution_count": null,
      "outputs": []
    }
  ]
}