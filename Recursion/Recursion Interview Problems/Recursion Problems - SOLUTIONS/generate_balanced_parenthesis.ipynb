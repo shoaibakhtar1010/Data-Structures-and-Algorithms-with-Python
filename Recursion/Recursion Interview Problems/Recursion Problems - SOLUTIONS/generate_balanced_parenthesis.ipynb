{
  "nbformat": 4,
  "nbformat_minor": 0,
  "metadata": {
    "colab": {
      "name": "generate balanced parenthesis.ipynb",
      "provenance": [],
      "authorship_tag": "ABX9TyMONkGpHAyDAQYWIfHya4fQ",
      "include_colab_link": true
    },
    "kernelspec": {
      "name": "python3",
      "display_name": "Python 3"
    },
    "language_info": {
      "name": "python"
    }
  },
  "cells": [
    {
      "cell_type": "markdown",
      "metadata": {
        "id": "view-in-github",
        "colab_type": "text"
      },
      "source": [
        "<a href=\"https://colab.research.google.com/github/shoaibakhtar1010/Data-Structures-and-Algorithms-with-Python/blob/main/Recursion/Recursion%20Interview%20Problems/Recursion%20Problems%20-%20SOLUTIONS/generate_balanced_parenthesis.ipynb\" target=\"_parent\"><img src=\"https://colab.research.google.com/assets/colab-badge.svg\" alt=\"Open In Colab\"/></a>"
      ]
    },
    {
      "cell_type": "markdown",
      "source": [
        "Write a function to generate all possible n pairs of balanced parentheses. \n",
        "~~~\n",
        "Examples: \n",
        "\n",
        "Input: n=1\n",
        "Output: {}\n",
        "Explanation: This the only sequence of balanced \n",
        "parenthesis formed using 1 pair of balanced parenthesis. \n",
        "\n",
        "Input : n=2\n",
        "Output: \n",
        "{}{}\n",
        "{{}}\n",
        "Explanation: This the only two sequences of balanced \n",
        "parenthesis formed using 2 pair of balanced parenthesis. \n",
        "~~~"
      ],
      "metadata": {
        "id": "hSbu3dNbQJZU"
      }
    },
    {
      "cell_type": "code",
      "execution_count": 10,
      "metadata": {
        "colab": {
          "base_uri": "https://localhost:8080/"
        },
        "id": "cuce36_LQDxr",
        "outputId": "e7ead5cb-0d90-4739-91bf-48ff1cf3781f"
      },
      "outputs": [
        {
          "output_type": "stream",
          "name": "stdout",
          "text": [
            "Enter the number: 3\n",
            "['((()))', '(()())', '(())()', '()(())', '()()()']\n"
          ]
        }
      ],
      "source": [
        "def main():\n",
        "    inp=int(input(\"Enter the number: \"))\n",
        "    open=close=inp\n",
        "    op=\"\"\n",
        "    arr=[]\n",
        "    print(solve(open,close,op,arr))\n",
        "def solve(open,close,op,arr):\n",
        "    if open==0 and close==0:\n",
        "        arr.append(op)\n",
        "        return\n",
        "    if open!=0:\n",
        "        op1=op+\"(\"\n",
        "        solve(open-1,close,op1,arr)\n",
        "    if close>open:\n",
        "        op2=op+\")\"\n",
        "        solve(open,close-1,op2,arr)\n",
        "    return arr\n",
        "main()"
      ]
    },
    {
      "cell_type": "code",
      "source": [
        ""
      ],
      "metadata": {
        "id": "Sic6MRfWUpW2"
      },
      "execution_count": null,
      "outputs": []
    }
  ]
}