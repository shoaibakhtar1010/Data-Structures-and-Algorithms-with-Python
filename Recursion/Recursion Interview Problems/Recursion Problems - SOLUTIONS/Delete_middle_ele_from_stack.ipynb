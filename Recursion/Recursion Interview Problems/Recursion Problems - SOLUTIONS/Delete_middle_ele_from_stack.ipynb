{
  "nbformat": 4,
  "nbformat_minor": 0,
  "metadata": {
    "colab": {
      "name": "Delete_middle_ele_from_stack.ipynb",
      "provenance": [],
      "authorship_tag": "ABX9TyN4C3o9PhQjjeOejwZ75e51",
      "include_colab_link": true
    },
    "kernelspec": {
      "name": "python3",
      "display_name": "Python 3"
    },
    "language_info": {
      "name": "python"
    }
  },
  "cells": [
    {
      "cell_type": "markdown",
      "metadata": {
        "id": "view-in-github",
        "colab_type": "text"
      },
      "source": [
        "<a href=\"https://colab.research.google.com/github/shoaibakhtar1010/Data-Structures-and-Algorithms-with-Python/blob/main/Recursion/Recursion%20Interview%20Problems/Recursion%20Problems%20-%20SOLUTIONS/Delete_middle_ele_from_stack.ipynb\" target=\"_parent\"><img src=\"https://colab.research.google.com/assets/colab-badge.svg\" alt=\"Open In Colab\"/></a>"
      ]
    },
    {
      "cell_type": "code",
      "execution_count": 7,
      "metadata": {
        "colab": {
          "base_uri": "https://localhost:8080/"
        },
        "id": "wbsDM9bO7m3r",
        "outputId": "530bd9d8-65e7-430f-e3ad-28bc7be2eaf3"
      },
      "outputs": [
        {
          "output_type": "stream",
          "name": "stdout",
          "text": [
            "1 2 3 4 5\n",
            "3\n",
            "[1, 2, 4, 5]\n"
          ]
        }
      ],
      "source": [
        "def main():\n",
        "    inp=[int(inp) for inp in input().split()]\n",
        "    midd=len(inp)//2+1\n",
        "    print(midd)\n",
        "    print(solve(inp,midd))\n",
        "def solve(inp,midd):\n",
        "    if len(inp)==midd:\n",
        "        inp.pop()\n",
        "        return\n",
        "    tmp=inp.pop()\n",
        "    solve(inp,midd)\n",
        "    inp.append(tmp)\n",
        "    return inp\n",
        "\n",
        "main()"
      ]
    },
    {
      "cell_type": "code",
      "source": [
        ""
      ],
      "metadata": {
        "id": "y25HoVOy8ab1"
      },
      "execution_count": null,
      "outputs": []
    }
  ]
}