{
  "nbformat": 4,
  "nbformat_minor": 0,
  "metadata": {
    "colab": {
      "name": "pemutation with case change.ipynb",
      "provenance": [],
      "authorship_tag": "ABX9TyMhXZeN3QbyAW3jAf590aaT",
      "include_colab_link": true
    },
    "kernelspec": {
      "name": "python3",
      "display_name": "Python 3"
    },
    "language_info": {
      "name": "python"
    }
  },
  "cells": [
    {
      "cell_type": "markdown",
      "metadata": {
        "id": "view-in-github",
        "colab_type": "text"
      },
      "source": [
        "<a href=\"https://colab.research.google.com/github/shoaibakhtar1010/Data-Structures-and-Algorithms-with-Python/blob/main/Recursion/Recursion%20Interview%20Problems/Recursion%20Problems%20-%20SOLUTIONS/pemutation_with_case_change.ipynb\" target=\"_parent\"><img src=\"https://colab.research.google.com/assets/colab-badge.svg\" alt=\"Open In Colab\"/></a>"
      ]
    },
    {
      "cell_type": "markdown",
      "source": [
        "Print all permutations of a string keeping the sequence but changing cases.\n",
        "~~~\n",
        "Examples: \n",
        " \n",
        "\n",
        "Input : ab\n",
        "Output : AB Ab ab aB\n",
        "\n",
        "Input : ABC\n",
        "Output : abc Abc aBc ABc abC AbC aBC ABC\n",
        "~~~"
      ],
      "metadata": {
        "id": "NvC3kQrbHI1P"
      }
    },
    {
      "cell_type": "code",
      "execution_count": 5,
      "metadata": {
        "colab": {
          "base_uri": "https://localhost:8080/"
        },
        "id": "iSMT4ZTHGgUW",
        "outputId": "eab25f19-59db-47d7-ab93-633c44a795d2"
      },
      "outputs": [
        {
          "output_type": "stream",
          "name": "stdout",
          "text": [
            "Enter string: ABC\n",
            "['abc', 'abC', 'aBc', 'aBC', 'Abc', 'AbC', 'ABc', 'ABC']\n"
          ]
        }
      ],
      "source": [
        "def main():\n",
        "    inp=input(\"Enter string: \")\n",
        "    op=\"\"\n",
        "    arr=[]\n",
        "    print(solve(inp,op,arr))\n",
        "def solve(inp,op,arr):\n",
        "    if len(inp)==0:\n",
        "        arr.append(op)\n",
        "        return arr\n",
        "    op1=op+inp[0].lower()\n",
        "    op2=op+inp[0].upper()\n",
        "    solve(inp[1:],op1,arr)\n",
        "    solve(inp[1:],op2,arr)\n",
        "    return arr\n",
        "main()"
      ]
    },
    {
      "cell_type": "code",
      "source": [
        ""
      ],
      "metadata": {
        "id": "yURiGKexIJB1"
      },
      "execution_count": 4,
      "outputs": []
    }
  ]
}