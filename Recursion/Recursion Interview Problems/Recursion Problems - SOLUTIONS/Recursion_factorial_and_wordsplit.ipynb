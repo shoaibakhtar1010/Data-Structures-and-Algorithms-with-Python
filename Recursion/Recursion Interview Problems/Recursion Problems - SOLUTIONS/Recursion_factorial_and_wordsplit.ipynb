{
  "cells": [
    {
      "cell_type": "markdown",
      "metadata": {
        "id": "view-in-github",
        "colab_type": "text"
      },
      "source": [
        "<a href=\"https://colab.research.google.com/github/shoaibakhtar1010/Data-Structures-and-Algorithms-with-Python/blob/main/Recursion/Recursion%20Interview%20Problems/Recursion%20Problems%20-%20SOLUTIONS/Recursion_factorial_and_wordsplit.ipynb\" target=\"_parent\"><img src=\"https://colab.research.google.com/assets/colab-badge.svg\" alt=\"Open In Colab\"/></a>"
      ]
    },
    {
      "cell_type": "markdown",
      "metadata": {
        "id": "rMcQ-211GAUu"
      },
      "source": [
        "# Recursion Homework Problems \n",
        "\n",
        "This assignment is a variety of small problems to begin you getting used to the idea of recursion. They are not full-blown interview questions, but do serve as a great start for getting your mind \"in the zone\" for recursion problems.\n",
        "\n",
        "\n",
        "______\n",
        "### Problem 1\n",
        "\n",
        "**Write a recursive function which takes an integer and computes the cumulative sum of 0 to that integer**\n",
        "\n",
        "**For example, if n=4 , return 4+3+2+1+0, which is 10.**\n",
        "\n",
        "This problem is very similar to the factorial problem presented during the introduction to recursion. Remember, always think of what the base case will look like. In this case, we have a base case of n =0 (Note, you could have also designed the cut off to be 1).\n",
        "\n",
        "In this case, we have:\n",
        "   n + (n-1) + (n-2) + .... + 0\n",
        "\n",
        "Fill out a sample solution:"
      ]
    },
    {
      "cell_type": "code",
      "execution_count": 1,
      "metadata": {
        "collapsed": true,
        "id": "-W5ZZp_dGAU0"
      },
      "outputs": [],
      "source": [
        "def rec_sum(n):\n",
        "    \n",
        "    if n==0:\n",
        "        return 0\n",
        "    return n+rec_sum(n-1)"
      ]
    },
    {
      "cell_type": "code",
      "execution_count": 2,
      "metadata": {
        "colab": {
          "base_uri": "https://localhost:8080/"
        },
        "id": "lCWXinnTGAU3",
        "outputId": "94a81d46-8214-4d68-aa6c-d06d14b2fbda"
      },
      "outputs": [
        {
          "output_type": "execute_result",
          "data": {
            "text/plain": [
              "10"
            ]
          },
          "metadata": {},
          "execution_count": 2
        }
      ],
      "source": [
        "rec_sum(4)"
      ]
    },
    {
      "cell_type": "markdown",
      "metadata": {
        "id": "uQ0ikn08GAU5"
      },
      "source": [
        "______\n",
        "### Problem 2\n",
        "\n",
        "**Given an integer, create a function which returns the sum of all the individual digits in that integer. For example:\n",
        "if n = 4321, return 4+3+2+1**"
      ]
    },
    {
      "cell_type": "code",
      "execution_count": 3,
      "metadata": {
        "collapsed": true,
        "id": "l-vNKp1vGAU6"
      },
      "outputs": [],
      "source": [
        "def sum_func(n):\n",
        "    if n==0:\n",
        "        return 0\n",
        "    return n%10+sum_func(n//10)"
      ]
    },
    {
      "cell_type": "code",
      "execution_count": 4,
      "metadata": {
        "colab": {
          "base_uri": "https://localhost:8080/"
        },
        "id": "3kSo38XvGAU7",
        "outputId": "4fe42cf4-be9c-4716-8753-6855662a537b"
      },
      "outputs": [
        {
          "output_type": "execute_result",
          "data": {
            "text/plain": [
              "10"
            ]
          },
          "metadata": {},
          "execution_count": 4
        }
      ],
      "source": [
        "sum_func(4321)"
      ]
    },
    {
      "cell_type": "markdown",
      "metadata": {
        "id": "uDs7t9MIGAU9"
      },
      "source": [
        "*Hints:*"
      ]
    },
    {
      "cell_type": "code",
      "execution_count": null,
      "metadata": {
        "id": "2RTOBwB2GAU-",
        "outputId": "a0658da5-62c8-4bff-a6f1-a8f57b6b0419"
      },
      "outputs": [
        {
          "data": {
            "text/plain": [
              "1"
            ]
          },
          "execution_count": 13,
          "metadata": {},
          "output_type": "execute_result"
        }
      ],
      "source": [
        "# You'll neeed to use modulo\n",
        "4321%10"
      ]
    },
    {
      "cell_type": "code",
      "execution_count": 8,
      "metadata": {
        "colab": {
          "base_uri": "https://localhost:8080/"
        },
        "id": "w-IRDroGGAU_",
        "outputId": "c2e6aca4-5a4a-4557-b3b2-68103834cade"
      },
      "outputs": [
        {
          "output_type": "execute_result",
          "data": {
            "text/plain": [
              "33"
            ]
          },
          "metadata": {},
          "execution_count": 8
        }
      ],
      "source": [
        "339 // 10"
      ]
    },
    {
      "cell_type": "markdown",
      "metadata": {
        "collapsed": true,
        "id": "EEUzfzhdGAVA"
      },
      "source": [
        "We'll need to think of this function recursively by knowing that:\n",
        "4502 % 10 + sum_func(4502/10)"
      ]
    },
    {
      "cell_type": "markdown",
      "metadata": {
        "id": "BTQa_sMNGAVB"
      },
      "source": [
        "________\n",
        "### Problem 3\n",
        "*Note, this is a more advanced problem than the previous two! It aso has a lot of variation possibilities and we're ignoring strict requirements here.*\n",
        "\n",
        "Create a function called word_split() which takes in a string **phrase** and a set **list_of_words**. The function will then determine if it is possible to split the string in a way in which words can be made from the list of words. You can assume the phrase will only contain words found in the dictionary if it is completely splittable.\n",
        "\n",
        "For example:"
      ]
    },
    {
      "cell_type": "code",
      "execution_count": 29,
      "metadata": {
        "colab": {
          "base_uri": "https://localhost:8080/"
        },
        "id": "vDMrlzMbGAVD",
        "outputId": "bb31d1cf-2f3d-4927-ce9c-026caf5db9ef"
      },
      "outputs": [
        {
          "output_type": "execute_result",
          "data": {
            "text/plain": [
              "['i', 'love', 'dogs', 'John']"
            ]
          },
          "metadata": {},
          "execution_count": 29
        }
      ],
      "source": [
        "word_split('ilovedogsJohn',['i','am','a','dogs','lover','love','John'])"
      ]
    },
    {
      "cell_type": "code",
      "execution_count": 33,
      "metadata": {
        "colab": {
          "base_uri": "https://localhost:8080/"
        },
        "id": "fPk9dCvmGAVE",
        "outputId": "d75e270c-07a8-4c79-bb46-722bf5aaca63"
      },
      "outputs": [
        {
          "output_type": "execute_result",
          "data": {
            "text/plain": [
              "['the', 'man']"
            ]
          },
          "metadata": {},
          "execution_count": 33
        }
      ],
      "source": [
        "word_split('themanran',['the','clown','man'])"
      ]
    },
    {
      "cell_type": "code",
      "execution_count": 27,
      "metadata": {
        "id": "I9SffjygGAVF"
      },
      "outputs": [],
      "source": [
        "def word_split(phrase,list_of_words, output = None):\n",
        "    if output==None:\n",
        "        output=[]\n",
        "    for word in list_of_words:\n",
        "        if phrase.startswith(word):\n",
        "            output.append(word)\n",
        "            return word_split(phrase[len(word):],list_of_words,output)\n",
        "    return output   "
      ]
    },
    {
      "cell_type": "code",
      "source": [
        "word_split('themanran',['the','ran','man'])"
      ],
      "metadata": {
        "colab": {
          "base_uri": "https://localhost:8080/"
        },
        "id": "3N6zsKcfNFw9",
        "outputId": "ae3effb5-fd1c-454c-b5f4-23bf40747654"
      },
      "execution_count": 28,
      "outputs": [
        {
          "output_type": "execute_result",
          "data": {
            "text/plain": [
              "['the', 'man', 'ran']"
            ]
          },
          "metadata": {},
          "execution_count": 28
        }
      ]
    },
    {
      "cell_type": "markdown",
      "source": [
        "\n",
        "\n",
        "1.   We have additional argument output that stores the result of the output received from prev arguments\n",
        "2.   Now the base case is when output==None. In this case we return output as an empty list\n",
        "3. In this case base condition is just filling the initial value with an empty list that's the reason we are not returning anything in the bc we are just assigning output to an empty list in this condition. The for loop is the one where loop breaks\n",
        "4. In the for loop we check if the word in the list of words present in the phrase or not and if it's present we append the output with that wordand recursively call the function on the rest of the phrase(excluding word which has matched) with the same list_of_words and updated output list.  \n",
        "\n"
      ],
      "metadata": {
        "id": "ggBS0WlcOPoZ"
      }
    },
    {
      "cell_type": "code",
      "source": [
        ""
      ],
      "metadata": {
        "id": "heUvB1SOMa7p"
      },
      "execution_count": null,
      "outputs": []
    },
    {
      "cell_type": "markdown",
      "metadata": {
        "id": "vbZapmeQGAVG"
      },
      "source": [
        "## Good Luck!\n",
        "\n",
        "Check out the Solutions Notebook once you're done!"
      ]
    }
  ],
  "metadata": {
    "kernelspec": {
      "display_name": "Python 2",
      "language": "python",
      "name": "python2"
    },
    "language_info": {
      "codemirror_mode": {
        "name": "ipython",
        "version": 2
      },
      "file_extension": ".py",
      "mimetype": "text/x-python",
      "name": "python",
      "nbconvert_exporter": "python",
      "pygments_lexer": "ipython2",
      "version": "2.7.10"
    },
    "colab": {
      "name": "Recursion factorial and wordsplit.ipynb",
      "provenance": [],
      "include_colab_link": true
    }
  },
  "nbformat": 4,
  "nbformat_minor": 0
}