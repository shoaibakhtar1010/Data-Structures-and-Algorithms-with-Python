{
  "nbformat": 4,
  "nbformat_minor": 0,
  "metadata": {
    "colab": {
      "name": "print_subset_print_powerset.ipynb",
      "provenance": [],
      "authorship_tag": "ABX9TyMT8K/yY5hgogKAHCCQKr7d",
      "include_colab_link": true
    },
    "kernelspec": {
      "name": "python3",
      "display_name": "Python 3"
    },
    "language_info": {
      "name": "python"
    }
  },
  "cells": [
    {
      "cell_type": "markdown",
      "metadata": {
        "id": "view-in-github",
        "colab_type": "text"
      },
      "source": [
        "<a href=\"https://colab.research.google.com/github/shoaibakhtar1010/Data-Structures-and-Algorithms-with-Python/blob/main/Recursion/Recursion%20Interview%20Problems/Recursion%20Problems%20-%20SOLUTIONS/print_subset_print_powerset.ipynb\" target=\"_parent\"><img src=\"https://colab.research.google.com/assets/colab-badge.svg\" alt=\"Open In Colab\"/></a>"
      ]
    },
    {
      "cell_type": "markdown",
      "source": [
        "Given a set represented as a string, write a recursive code to print all subsets of it. The subsets can be printed in any order. \n",
        "~~~\n",
        "Examples:  \n",
        "\n",
        "Input :  set = \"abc\"\n",
        "Output : \"\", \"a\", \"b\", \"c\", \"ab\", \"ac\", \"bc\", \"abc\"\n",
        "\n",
        "Input : set = \"abcd\"\n",
        "Output : \"\" \"a\" \"ab\" \"abc\" \"abcd\" \"abd\" \"ac\" \"acd\"\n",
        "         \"ad\" \"b\" \"bc\" \"bcd\" \"bd\" \"c\" \"cd\" \"d\" \n",
        "~~~"
      ],
      "metadata": {
        "id": "cjDcOCvBuIln"
      }
    },
    {
      "cell_type": "code",
      "execution_count": 3,
      "metadata": {
        "colab": {
          "base_uri": "https://localhost:8080/"
        },
        "id": "iDfsTWXJtbPG",
        "outputId": "db581bd5-949e-456b-b6b2-d6a39c388647"
      },
      "outputs": [
        {
          "output_type": "stream",
          "name": "stdout",
          "text": [
            "Enter the sting: abc\n",
            "['', 'c', 'b', 'bc', 'a', 'ac', 'ab', 'abc']\n"
          ]
        }
      ],
      "source": [
        "def main():\n",
        "    string=input(\"Enter the sting: \")\n",
        "    op=\"\"\n",
        "    arr=[]\n",
        "    print(solve(string,op,arr))\n",
        "def solve(string,op,arr):\n",
        "    if len(string)==0:\n",
        "        arr.append(op)\n",
        "        return\n",
        "    op1=op\n",
        "    op2=op+string[0]\n",
        "    solve(string[1:],op1,arr)\n",
        "    solve(string[1:],op2,arr)\n",
        "    return arr\n",
        "main()\n",
        "\n",
        "    \n"
      ]
    },
    {
      "cell_type": "code",
      "source": [
        ""
      ],
      "metadata": {
        "id": "1--d_tXfwHcy"
      },
      "execution_count": null,
      "outputs": []
    }
  ]
}