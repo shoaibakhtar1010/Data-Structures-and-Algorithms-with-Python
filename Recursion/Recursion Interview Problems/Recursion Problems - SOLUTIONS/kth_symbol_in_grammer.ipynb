{
  "nbformat": 4,
  "nbformat_minor": 0,
  "metadata": {
    "colab": {
      "name": "kth_symbol_in_grammer.ipynb",
      "provenance": [],
      "authorship_tag": "ABX9TyN6s4PaywveZStch46DElv3",
      "include_colab_link": true
    },
    "kernelspec": {
      "name": "python3",
      "display_name": "Python 3"
    },
    "language_info": {
      "name": "python"
    }
  },
  "cells": [
    {
      "cell_type": "markdown",
      "metadata": {
        "id": "view-in-github",
        "colab_type": "text"
      },
      "source": [
        "<a href=\"https://colab.research.google.com/github/shoaibakhtar1010/Data-Structures-and-Algorithms-with-Python/blob/main/Recursion/Recursion%20Interview%20Problems/Recursion%20Problems%20-%20SOLUTIONS/kth_symbol_in_grammer.ipynb\" target=\"_parent\"><img src=\"https://colab.research.google.com/assets/colab-badge.svg\" alt=\"Open In Colab\"/></a>"
      ]
    },
    {
      "cell_type": "markdown",
      "source": [
        "We build a table of n rows (1-indexed). We start by writing 0 in the 1st row. Now in every subsequent row, we look at the previous row and replace each occurrence of 0 with 01, and each occurrence of 1 with 10.\n",
        "\n",
        "For example, for n = 3, the 1st row is 0, the 2nd row is 01, and the 3rd row is 0110.\n",
        "Given two integer n and k, return the kth (1-indexed) symbol in the nth row of a table of n rows.\n",
        "\n",
        " ~~~\n",
        "\n",
        "Example 1:\n",
        "\n",
        "Input: n = 1, k = 1\n",
        "Output: 0\n",
        "Explanation: row 1: 0\n",
        "Example 2:\n",
        "\n",
        "Input: n = 2, k = 1\n",
        "Output: 0\n",
        "Explanation: \n",
        "row 1: 0\n",
        "row 2: 01\n",
        "Example 3:\n",
        "\n",
        "Input: n = 2, k = 2\n",
        "Output: 1\n",
        "Explanation: \n",
        "row 1: 0\n",
        "row 2: 01\n",
        " \n",
        "\n",
        "Constraints:\n",
        "\n",
        "1 <= n <= 30\n",
        "1 <= k <= 2n - 1\n",
        "~~~"
      ],
      "metadata": {
        "id": "TQ8Bcyc1EMGx"
      }
    },
    {
      "cell_type": "code",
      "execution_count": 7,
      "metadata": {
        "colab": {
          "base_uri": "https://localhost:8080/"
        },
        "id": "ZE8Zab1fD8SW",
        "outputId": "fa943b7f-4e4d-452b-eb11-8e1bcad0c5d6"
      },
      "outputs": [
        {
          "output_type": "stream",
          "name": "stdout",
          "text": [
            "4\n",
            "5\n",
            "1\n"
          ]
        }
      ],
      "source": [
        "def main():\n",
        "    n,k=int(input()),int(input())\n",
        "    print(kth_symbol(n,k))\n",
        "def kth_symbol(n,k):\n",
        "    if n==1 and k==1 or k>2**(n-1):\n",
        "        return 0\n",
        "    midd=2**(n-1)//2\n",
        "    if k<=midd:\n",
        "        return kth_symbol(n-1,k)\n",
        "    else:\n",
        "        return int(not kth_symbol(n-1,k-midd))\n",
        "main()"
      ]
    },
    {
      "cell_type": "code",
      "source": [
        ""
      ],
      "metadata": {
        "id": "9LLxpxHjG8x-"
      },
      "execution_count": null,
      "outputs": []
    }
  ]
}