{
  "nbformat": 4,
  "nbformat_minor": 0,
  "metadata": {
    "colab": {
      "name": "letter  case permutation.ipynb",
      "provenance": [],
      "authorship_tag": "ABX9TyM6keXkzWv+BZ3O+ahLfhBE",
      "include_colab_link": true
    },
    "kernelspec": {
      "name": "python3",
      "display_name": "Python 3"
    },
    "language_info": {
      "name": "python"
    }
  },
  "cells": [
    {
      "cell_type": "markdown",
      "metadata": {
        "id": "view-in-github",
        "colab_type": "text"
      },
      "source": [
        "<a href=\"https://colab.research.google.com/github/shoaibakhtar1010/Data-Structures-and-Algorithms-with-Python/blob/main/Recursion/Recursion%20Interview%20Problems/Recursion%20Problems%20-%20SOLUTIONS/letter_case_permutation.ipynb\" target=\"_parent\"><img src=\"https://colab.research.google.com/assets/colab-badge.svg\" alt=\"Open In Colab\"/></a>"
      ]
    },
    {
      "cell_type": "markdown",
      "source": [
        "Given a string s, you can transform every letter individually to be lowercase or uppercase to create another string.\n",
        "\n",
        "Return a list of all possible strings we could create. Return the output in any order.\n",
        "\n",
        " \n",
        "~~~\n",
        "Example 1:\n",
        "\n",
        "Input: s = \"a1b2\"\n",
        "Output: [\"a1b2\",\"a1B2\",\"A1b2\",\"A1B2\"]\n",
        "Example 2:\n",
        "\n",
        "Input: s = \"3z4\"\n",
        "Output: [\"3z4\",\"3Z4\"]\n",
        "~~~"
      ],
      "metadata": {
        "id": "85-bgsVEJqDy"
      }
    },
    {
      "cell_type": "code",
      "execution_count": 6,
      "metadata": {
        "colab": {
          "base_uri": "https://localhost:8080/"
        },
        "id": "CNMn982sJd6Y",
        "outputId": "05e6b48e-a44a-4712-d681-d503f56912a9"
      },
      "outputs": [
        {
          "output_type": "stream",
          "name": "stdout",
          "text": [
            "Enter sting: a1b2\n",
            "['a1b2', 'a1B2', 'A1b2', 'A1B2']\n"
          ]
        }
      ],
      "source": [
        "def main():\n",
        "    inp=input(\"Enter sting: \")\n",
        "    op=\"\"\n",
        "    arr=[]\n",
        "    print(solve(inp,op,arr))\n",
        "def solve(inp,op,arr):\n",
        "    if len(inp)==0:\n",
        "        arr.append(op)\n",
        "        return\n",
        "    if inp[0].isalpha():\n",
        "        op1=op+inp[0].lower()\n",
        "        op2=op+inp[0].upper()\n",
        "        solve(inp[1:],op1,arr)\n",
        "        solve(inp[1:],op2,arr)\n",
        "    else:\n",
        "        op3=op+inp[0]\n",
        "        solve(inp[1:],op3,arr)\n",
        "    return arr\n",
        "main()"
      ]
    },
    {
      "cell_type": "code",
      "source": [
        ""
      ],
      "metadata": {
        "id": "f10AsmoeOmxs"
      },
      "execution_count": null,
      "outputs": []
    },
    {
      "cell_type": "code",
      "source": [
        ""
      ],
      "metadata": {
        "id": "2s3ZXqS_OJQ7"
      },
      "execution_count": null,
      "outputs": []
    }
  ]
}