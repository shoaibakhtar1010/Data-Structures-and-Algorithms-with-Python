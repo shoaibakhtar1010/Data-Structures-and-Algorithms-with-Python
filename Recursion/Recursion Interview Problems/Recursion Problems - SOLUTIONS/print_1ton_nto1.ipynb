{
  "nbformat": 4,
  "nbformat_minor": 0,
  "metadata": {
    "colab": {
      "name": "print_1ton_nto1.ipynb",
      "provenance": [],
      "authorship_tag": "ABX9TyN4Ww0Y1PQ/TyUI+OfBCl23",
      "include_colab_link": true
    },
    "kernelspec": {
      "name": "python3",
      "display_name": "Python 3"
    },
    "language_info": {
      "name": "python"
    }
  },
  "cells": [
    {
      "cell_type": "markdown",
      "metadata": {
        "id": "view-in-github",
        "colab_type": "text"
      },
      "source": [
        "<a href=\"https://colab.research.google.com/github/shoaibakhtar1010/Data-Structures-and-Algorithms-with-Python/blob/main/Recursion/Recursion%20Interview%20Problems/Recursion%20Problems%20-%20SOLUTIONS/print_1ton_nto1.ipynb\" target=\"_parent\"><img src=\"https://colab.research.google.com/assets/colab-badge.svg\" alt=\"Open In Colab\"/></a>"
      ]
    },
    {
      "cell_type": "code",
      "execution_count": 5,
      "metadata": {
        "id": "4ToQn7N-Stm0"
      },
      "outputs": [],
      "source": [
        "def print_1_n(n):\n",
        "    if n==0:\n",
        "        return \n",
        "    print_1_n(n-1)\n",
        "    print(n,end=\" \")"
      ]
    },
    {
      "cell_type": "code",
      "source": [
        "print_1_n(4)"
      ],
      "metadata": {
        "colab": {
          "base_uri": "https://localhost:8080/"
        },
        "id": "SnfdiTbcS_w2",
        "outputId": "f168183b-90aa-441b-8b0a-6774433cc001"
      },
      "execution_count": 6,
      "outputs": [
        {
          "output_type": "stream",
          "name": "stdout",
          "text": [
            "1 2 3 4 "
          ]
        }
      ]
    },
    {
      "cell_type": "code",
      "source": [
        "def print_n_1(n):\n",
        "    if n==0:\n",
        "        return\n",
        "    print(n,end=\" \")\n",
        "    print_n_1(n-1)"
      ],
      "metadata": {
        "id": "HjU_4atXTDmg"
      },
      "execution_count": 11,
      "outputs": []
    },
    {
      "cell_type": "code",
      "source": [
        "print_n_1(4)"
      ],
      "metadata": {
        "colab": {
          "base_uri": "https://localhost:8080/"
        },
        "id": "zRG7A9TtTiJZ",
        "outputId": "229e81ab-b698-4cc6-e349-85c3d248ad09"
      },
      "execution_count": 12,
      "outputs": [
        {
          "output_type": "stream",
          "name": "stdout",
          "text": [
            "4 3 2 1 "
          ]
        }
      ]
    },
    {
      "cell_type": "code",
      "source": [
        ""
      ],
      "metadata": {
        "id": "x9R4S9bjTm_V"
      },
      "execution_count": null,
      "outputs": []
    }
  ]
}