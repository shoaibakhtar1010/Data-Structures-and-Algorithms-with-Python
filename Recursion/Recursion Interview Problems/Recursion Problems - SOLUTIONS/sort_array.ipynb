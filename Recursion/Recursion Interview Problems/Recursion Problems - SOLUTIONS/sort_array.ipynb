{
  "cells": [
    {
      "cell_type": "markdown",
      "metadata": {
        "id": "view-in-github",
        "colab_type": "text"
      },
      "source": [
        "<a href=\"https://colab.research.google.com/github/shoaibakhtar1010/Data-Structures-and-Algorithms-with-Python/blob/main/Recursion/Recursion%20Interview%20Problems/Recursion%20Problems%20-%20SOLUTIONS/sort_array.ipynb\" target=\"_parent\"><img src=\"https://colab.research.google.com/assets/colab-badge.svg\" alt=\"Open In Colab\"/></a>"
      ]
    },
    {
      "cell_type": "code",
      "execution_count": 103,
      "metadata": {
        "id": "HkudtSobUg0B"
      },
      "outputs": [],
      "source": [
        "def insertionSortRecursive(arr,n):\n",
        "    # base case\n",
        "    if n<=1:\n",
        "        return\n",
        "      \n",
        "    # Sort first n-1 elements\n",
        "    insertionSortRecursive(arr,n-1)\n",
        "    '''Insert last element at its correct position\n",
        "        in sorted array.'''\n",
        "    last = arr[n-1]\n",
        "    j = n-2\n",
        "      \n",
        "      # Move elements of arr[0..i-1], that are\n",
        "      # greater than key, to one position ahead\n",
        "      # of their current position \n",
        "    while (j>=0 and arr[j]>last):\n",
        "        arr[j+1] = arr[j]\n",
        "        j = j-1\n",
        "  \n",
        "    arr[j+1]=last\n",
        "    return arr"
      ]
    },
    {
      "cell_type": "code",
      "execution_count": 105,
      "metadata": {
        "colab": {
          "base_uri": "https://localhost:8080/"
        },
        "id": "uWJhNxqSdqu9",
        "outputId": "caa28c2e-96fa-4ba7-c55f-ed0870405d79"
      },
      "outputs": [
        {
          "output_type": "execute_result",
          "data": {
            "text/plain": [
              "[3, 4, 5, 6]"
            ]
          },
          "metadata": {},
          "execution_count": 105
        }
      ],
      "source": [
        "insertionSortRecursive([5,4,6,3],4)"
      ]
    },
    {
      "cell_type": "code",
      "execution_count": 110,
      "metadata": {
        "id": "luIWLCGzdxgm"
      },
      "outputs": [],
      "source": [
        "def sort_array(arr):\n",
        "    if len(arr)<=1:\n",
        "        return\n",
        "    last=arr.pop()\n",
        "    sort_array(arr)\n",
        "    insert_ele(arr,last)\n",
        "    return arr\n",
        "def insert_ele(arr,ele):\n",
        "    if len(arr)==0 or arr[-1]<=ele:\n",
        "        arr.append(ele)\n",
        "        return\n",
        "    tmp=arr.pop()\n",
        "    insert_ele(arr,ele)\n",
        "    arr.append(tmp)\n",
        "    \n"
      ]
    },
    {
      "cell_type": "code",
      "execution_count": 111,
      "metadata": {
        "colab": {
          "base_uri": "https://localhost:8080/"
        },
        "id": "dnZOa79wd9tL",
        "outputId": "7d129763-c87c-42dd-e82d-5b10fc4a704d"
      },
      "outputs": [
        {
          "output_type": "execute_result",
          "data": {
            "text/plain": [
              "[0, 1, 2, 5]"
            ]
          },
          "metadata": {},
          "execution_count": 111
        }
      ],
      "source": [
        "sort_array([1,5,2,0])"
      ]
    },
    {
      "cell_type": "code",
      "execution_count": null,
      "metadata": {
        "id": "ALalSjzdeATo"
      },
      "outputs": [],
      "source": [
        ""
      ]
    }
  ],
  "metadata": {
    "colab": {
      "name": "sort_array.ipynb",
      "provenance": [],
      "authorship_tag": "ABX9TyMmInjpx36Rk9pY7vbHbMVJ",
      "include_colab_link": true
    },
    "kernelspec": {
      "display_name": "Python 3",
      "name": "python3"
    },
    "language_info": {
      "name": "python"
    }
  },
  "nbformat": 4,
  "nbformat_minor": 0
}