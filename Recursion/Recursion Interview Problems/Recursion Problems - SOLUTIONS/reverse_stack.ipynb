{
  "nbformat": 4,
  "nbformat_minor": 0,
  "metadata": {
    "colab": {
      "name": "reverse_stack.ipynb",
      "provenance": [],
      "authorship_tag": "ABX9TyMWTf0YNtfSXI6RF9M75fC2",
      "include_colab_link": true
    },
    "kernelspec": {
      "name": "python3",
      "display_name": "Python 3"
    },
    "language_info": {
      "name": "python"
    }
  },
  "cells": [
    {
      "cell_type": "markdown",
      "metadata": {
        "id": "view-in-github",
        "colab_type": "text"
      },
      "source": [
        "<a href=\"https://colab.research.google.com/github/shoaibakhtar1010/Data-Structures-and-Algorithms-with-Python/blob/main/Recursion/Recursion%20Interview%20Problems/Recursion%20Problems%20-%20SOLUTIONS/reverse_stack.ipynb\" target=\"_parent\"><img src=\"https://colab.research.google.com/assets/colab-badge.svg\" alt=\"Open In Colab\"/></a>"
      ]
    },
    {
      "cell_type": "code",
      "execution_count": 7,
      "metadata": {
        "colab": {
          "base_uri": "https://localhost:8080/"
        },
        "id": "VZB8wqx5_WYW",
        "outputId": "2c77d2fa-f976-4cfe-b52b-aa02dedd17e8"
      },
      "outputs": [
        {
          "output_type": "stream",
          "name": "stdout",
          "text": [
            "1 2 3 4 5\n",
            "[5, 4, 3, 2, 1]\n"
          ]
        }
      ],
      "source": [
        "def main():\n",
        "    inp=[int(inp) for inp in input().split()]\n",
        "    arr=[]\n",
        "    print(solve(inp,arr))\n",
        "def solve(inp,arr):\n",
        "    if len(inp)==0:\n",
        "        return\n",
        "    tmp=inp.pop()\n",
        "    solve(inp,arr)\n",
        "    arr.insert(0,tmp)\n",
        "    return arr\n",
        "main()"
      ]
    },
    {
      "cell_type": "code",
      "source": [
        ""
      ],
      "metadata": {
        "id": "unpaVM_2ChA9"
      },
      "execution_count": null,
      "outputs": []
    }
  ]
}