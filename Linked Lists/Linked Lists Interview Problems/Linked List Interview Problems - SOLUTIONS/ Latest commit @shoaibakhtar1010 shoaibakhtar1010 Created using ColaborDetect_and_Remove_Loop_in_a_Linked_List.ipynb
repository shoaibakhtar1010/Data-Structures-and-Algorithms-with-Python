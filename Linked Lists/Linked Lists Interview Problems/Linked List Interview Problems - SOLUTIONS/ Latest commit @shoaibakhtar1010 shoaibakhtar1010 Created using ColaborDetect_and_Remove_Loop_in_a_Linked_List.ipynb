{
  "nbformat": 4,
  "nbformat_minor": 0,
  "metadata": {
    "colab": {
      "name": "Detect and Remove Loop in a Linked List.ipynb",
      "provenance": [],
      "collapsed_sections": [],
      "authorship_tag": "ABX9TyMwChW/AASkpa6gElYQ8mKx",
      "include_colab_link": true
    },
    "kernelspec": {
      "name": "python3",
      "display_name": "Python 3"
    },
    "language_info": {
      "name": "python"
    }
  },
  "cells": [
    {
      "cell_type": "markdown",
      "metadata": {
        "id": "view-in-github",
        "colab_type": "text"
      },
      "source": [
        "<a href=\"https://colab.research.google.com/github/shoaibakhtar1010/Data-Structures-and-Algorithms-with-Python/blob/main/Linked%20Lists/Linked%20Lists%20Interview%20Problems/Linked%20List%20Interview%20Problems%20-%20SOLUTIONS/%20Latest%20commit%20%40shoaibakhtar1010%20shoaibakhtar1010%20Created%20using%20ColaborDetect_and_Remove_Loop_in_a_Linked_List.ipynb\" target=\"_parent\"><img src=\"https://colab.research.google.com/assets/colab-badge.svg\" alt=\"Open In Colab\"/></a>"
      ]
    },
    {
      "cell_type": "markdown",
      "source": [
        "# Detect and Remove Loop in a Linked List  or\n",
        "\n",
        "# get the start node of a cycle in a linked list"
      ],
      "metadata": {
        "id": "3PkzGJRETig3"
      }
    },
    {
      "cell_type": "markdown",
      "source": [
        "Write a function detectAndRemoveLoop() that checks whether a given Linked List contains loop and if loop is present then removes the loop and returns true. If the list doesn’t contain loop then it returns false. Below diagram shows a linked list with a loop. detectAndRemoveLoop() must change the below list to 1->2->3->4->5->NULL."
      ],
      "metadata": {
        "id": "B6uiiUrXTvD7"
      }
    },
    {
      "cell_type": "markdown",
      "source": [
        "![Linked-List-Loop.gif](data:image/gif;base64,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)"
      ],
      "metadata": {
        "id": "5ud0zG3tT0aR"
      }
    },
    {
      "cell_type": "markdown",
      "source": [
        "* This method is also dependent on Floyd’s Cycle detection algorithm.\n",
        "* Detect Loop using Floyd’s Cycle detection algorithm and get the pointer to a loop node.\n",
        "* Count the number of nodes in loop. Let the count be k.\n",
        "* Fix one pointer to the head and another to a kth node from the head.\n",
        "* Move both pointers at the same pace, they will meet at loop starting node.\n",
        "* Get a pointer to the last node of the loop and make next of it as NULL."
      ],
      "metadata": {
        "id": "1H3tz7uwUl_v"
      }
    },
    {
      "cell_type": "code",
      "execution_count": null,
      "metadata": {
        "id": "KevdoRQBPump"
      },
      "outputs": [],
      "source": [
        "class Node(object):\n",
        "    \n",
        "    def __init__(self,value):\n",
        "        \n",
        "        self.value = value\n",
        "        self.nextnode = None"
      ]
    },
    {
      "cell_type": "code",
      "source": [
        "class Node:\n",
        "\n",
        "    def __init__(self, val):\n",
        "        self.val = val\n",
        "        self.next = None\n",
        "def detect_cycle(head :Node) -> Node :\n",
        "\tif head==None:\n",
        "\t\treturn None\n",
        "\tslow=head\n",
        "\tfast=head\n",
        "\twhile fast!=None and fast.next!=None:\n",
        "\t\tslow=slow.next\n",
        "\t\tfast=fast.next.next\n",
        "\t\tif slow==fast:\n",
        "\t\t\treturn slow\n",
        "\treturn None\n",
        "def getstartofloop(head :Node) -> Node:\n",
        "\tintersection=detect_cycle(head)\n",
        "\tif intersection==None:\n",
        "\t\treturn None\n",
        "\tslow=head\n",
        "\twhile slow!=intersection:\n",
        "\t\tslow=slow.next\n",
        "\t\tintersection=intersection.next\n",
        "\treturn slow\n",
        "def removeLoop(head :Node) -> Node :\n",
        "\tstart=getstartofloop(head)\n",
        "\tif start==None:\n",
        "\t\treturn head\n",
        "\ttarget=start\n",
        "\twhile start.next!=target:\n",
        "\t\tstart=start.next\n",
        "\tstart.next=None\n",
        "  return head\n",
        "\n",
        "    "
      ],
      "metadata": {
        "id": "NbwymUvSupNp"
      },
      "execution_count": null,
      "outputs": []
    },
    {
      "cell_type": "code",
      "source": [
        ""
      ],
      "metadata": {
        "id": "U-y-av6ewUkB"
      },
      "execution_count": null,
      "outputs": []
    }
  ]
}