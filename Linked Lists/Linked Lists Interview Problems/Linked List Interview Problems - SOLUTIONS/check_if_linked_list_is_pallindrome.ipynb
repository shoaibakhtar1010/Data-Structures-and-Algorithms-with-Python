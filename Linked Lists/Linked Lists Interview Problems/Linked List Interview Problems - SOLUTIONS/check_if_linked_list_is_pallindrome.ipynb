{
  "nbformat": 4,
  "nbformat_minor": 0,
  "metadata": {
    "colab": {
      "name": "check if linked list is pallindrome.ipynb",
      "provenance": [],
      "authorship_tag": "ABX9TyM5OOFrlttJYv3ZOj5SpvY6",
      "include_colab_link": true
    },
    "kernelspec": {
      "name": "python3",
      "display_name": "Python 3"
    },
    "language_info": {
      "name": "python"
    }
  },
  "cells": [
    {
      "cell_type": "markdown",
      "metadata": {
        "id": "view-in-github",
        "colab_type": "text"
      },
      "source": [
        "<a href=\"https://colab.research.google.com/github/shoaibakhtar1010/Data-Structures-and-Algorithms-with-Python/blob/main/Linked%20Lists/Linked%20Lists%20Interview%20Problems/Linked%20List%20Interview%20Problems%20-%20SOLUTIONS/check_if_linked_list_is_pallindrome.ipynb\" target=\"_parent\"><img src=\"https://colab.research.google.com/assets/colab-badge.svg\" alt=\"Open In Colab\"/></a>"
      ]
    },
    {
      "cell_type": "markdown",
      "source": [
        "**Check if Linked List is Palindrome**\n",
        "\n",
        "Given a singly linked list of size N of integers. The task is to check if the given linked list is palindrome or not.\n",
        "~~~\n",
        "Example 1:\n",
        "\n",
        "Input:\n",
        "N = 3\n",
        "value[] = {1,2,1}\n",
        "Output: 1\n",
        "Explanation: The given linked list is\n",
        "1 2 1 , which is a palindrome and\n",
        "Hence, the output is 1.\n",
        "Example 2:\n",
        "\n",
        "Input:\n",
        "N = 4\n",
        "value[] = {1,2,3,4}\n",
        "Output: 0\n",
        "Explanation: The given linked list\n",
        "is 1 2 3 4 , which is not a palindrome\n",
        "and Hence, the output is 0.\n",
        "~~~\n",
        "Your Task:\n",
        "The task is to complete the function isPalindrome() which takes head as reference as the only parameter and returns true or false if linked list is palindrome or not respectively.\n",
        "~~~\n",
        "Expected Time Complexity: O(N)\n",
        "Expected Auxialliary Space Usage: O(1)  (ie, you should not use the recursive stack space as well)\n",
        "\n",
        "Constraints:\n",
        "1 <= N <= 105\n",
        "~~~"
      ],
      "metadata": {
        "id": "8N1M3jF8U1BF"
      }
    },
    {
      "cell_type": "code",
      "source": [
        "class Node:\n",
        "  def __init__(self,next=None,data=None):\n",
        "    self.data=data\n",
        "    self.next=next"
      ],
      "metadata": {
        "id": "XoKCBBD8VgyE"
      },
      "execution_count": 1,
      "outputs": []
    },
    {
      "cell_type": "code",
      "execution_count": 5,
      "metadata": {
        "id": "PUTbdRN2Uzqc"
      },
      "outputs": [],
      "source": [
        "#Function to check whether the list is palindrome.\n",
        "def findmid(head):\n",
        "    slow=head\n",
        "    fast=head.next\n",
        "    while fast!=None and fast.next!=None:\n",
        "        slow=slow.next\n",
        "        fast=fast.next.next\n",
        "    return slow\n",
        "def reverse(head):\n",
        "    curr=head\n",
        "    next=None\n",
        "    prev=None\n",
        "    while curr!=None:\n",
        "        next=curr.next\n",
        "        curr.next=prev\n",
        "        prev=curr\n",
        "        curr=next\n",
        "    return prev\n",
        "    \n",
        "    \n",
        "    \n",
        "class Solution:\n",
        "    def isPalindrome(self, head):\n",
        "        #code here\n",
        "        if head==None or head.next==None:\n",
        "            return True\n",
        "            \n",
        "        mid=findmid(head)\n",
        "        reversed_half_head=reverse(mid.next)\n",
        "        mid.next=None\n",
        "        temp1,temp2=head,reversed_half_head\n",
        "        while temp1!=None and temp2!=None:\n",
        "            if temp1.data!=temp2.data:\n",
        "                return False\n",
        "            temp1=temp1.next\n",
        "            temp2=temp2.next\n",
        "        return True\n",
        "\n",
        "#{ \n",
        "#  Driver Code Starts\n",
        "#Initial Template for Python 3\n",
        "#Contributed by : Nagendra Jha\n",
        "\n",
        "import atexit\n",
        "import io\n",
        "import sys\n",
        "\n",
        "class Node:\n",
        "    def __init__(self, data):   # data -> value stored in node\n",
        "        self.data = data\n",
        "        self.next = None\n",
        "\n",
        "# Linked List Class\n",
        "class LinkedList:\n",
        "    def __init__(self):\n",
        "        self.head = None\n",
        "        self.tail = None\n",
        "\n",
        "    # creates a new node with given value and appends it at the end of the linked list\n",
        "    def append(self, new_value):\n",
        "        new_node = Node(new_value)\n",
        "        if self.head is None:\n",
        "            self.head = new_node\n",
        "            self.tail = new_node\n",
        "            return\n",
        "        self.tail.next = new_node\n",
        "        self.tail = new_node \n",
        "\n"
      ]
    },
    {
      "cell_type": "code",
      "source": [
        ""
      ],
      "metadata": {
        "id": "XWZXd12oVk0F"
      },
      "execution_count": null,
      "outputs": []
    }
  ]
}