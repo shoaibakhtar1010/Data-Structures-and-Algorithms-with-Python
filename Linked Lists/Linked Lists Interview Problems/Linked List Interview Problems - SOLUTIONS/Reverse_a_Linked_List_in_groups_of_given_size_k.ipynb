{
  "nbformat": 4,
  "nbformat_minor": 0,
  "metadata": {
    "colab": {
      "name": "Reverse a Linked List in groups of given size k.ipynb",
      "provenance": [],
      "authorship_tag": "ABX9TyPJnl2EyEQ9I4a3NTfi9qJx",
      "include_colab_link": true
    },
    "kernelspec": {
      "name": "python3",
      "display_name": "Python 3"
    },
    "language_info": {
      "name": "python"
    }
  },
  "cells": [
    {
      "cell_type": "markdown",
      "metadata": {
        "id": "view-in-github",
        "colab_type": "text"
      },
      "source": [
        "<a href=\"https://colab.research.google.com/github/shoaibakhtar1010/Data-Structures-and-Algorithms-with-Python/blob/main/Linked%20Lists/Linked%20Lists%20Interview%20Problems/Linked%20List%20Interview%20Problems%20-%20SOLUTIONS/Reverse_a_Linked_List_in_groups_of_given_size_k.ipynb\" target=\"_parent\"><img src=\"https://colab.research.google.com/assets/colab-badge.svg\" alt=\"Open In Colab\"/></a>"
      ]
    },
    {
      "cell_type": "markdown",
      "source": [
        "# Reverse a Linked List in groups of given size k\n",
        "\n",
        "Given a linked list of size N. The task is to reverse every k nodes (where k is an input to the function) in the linked list. If the number of nodes is not a multiple of k then left-out nodes, in the end, should be considered as a group and must be reversed (See Example 2 for clarification).\n",
        "~~~\n",
        "Example 1:\n",
        "\n",
        "Input:\n",
        "LinkedList: 1->2->2->4->5->6->7->8\n",
        "K = 4\n",
        "Output: 4 2 2 1 8 7 6 5 \n",
        "Explanation: \n",
        "The first 4 elements 1,2,2,4 are reversed first \n",
        "and then the next 4 elements 5,6,7,8. Hence, the \n",
        "resultant linked list is 4->2->2->1->8->7->6->5.\n",
        "Example 2:\n",
        "\n",
        "Input:\n",
        "LinkedList: 1->2->3->4->5\n",
        "K = 3\n",
        "Output: 3 2 1 5 4 \n",
        "Explanation: \n",
        "The first 3 elements are 1,2,3 are reversed \n",
        "first and then elements 4,5 are reversed.Hence, \n",
        "the resultant linked list is 3->2->1->5->4.\n",
        "Your Task:\n",
        "You don't need to read input or print anything. Your task is to complete the \n",
        "function reverse() which should reverse the linked list in group of size k \n",
        "and return the head of the modified linked list.\n",
        "\n",
        "Expected Time Complexity : O(N)\n",
        "Expected Auxilliary Space : O(1)\n",
        "\n",
        "Constraints:\n",
        "1 <= N <= 104\n",
        "1 <= k <= N\n",
        "~~~"
      ],
      "metadata": {
        "id": "CqT1gljW8guL"
      }
    },
    {
      "cell_type": "code",
      "execution_count": 1,
      "metadata": {
        "id": "LpywyMly8bAj"
      },
      "outputs": [],
      "source": [
        "class Solution:\n",
        "    def reverse(self,head, k):\n",
        "        # Code here\n",
        "        if head==None or head.next==None:\n",
        "            return head\n",
        "        next=None\n",
        "        prev=None\n",
        "        curr=head\n",
        "        count=0\n",
        "        while curr!=None and count<k:\n",
        "            next=curr.next\n",
        "            curr.next=prev\n",
        "            prev=curr\n",
        "            curr=next\n",
        "            count+=1\n",
        "        if next!=None:\n",
        "            head.next=(self.reverse(next,k))\n",
        "        return prev"
      ]
    }
  ]
}