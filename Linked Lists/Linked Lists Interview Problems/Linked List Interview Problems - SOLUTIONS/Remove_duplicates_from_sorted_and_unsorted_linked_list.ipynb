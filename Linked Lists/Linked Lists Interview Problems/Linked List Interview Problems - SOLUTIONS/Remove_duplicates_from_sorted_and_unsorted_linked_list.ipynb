{
  "nbformat": 4,
  "nbformat_minor": 0,
  "metadata": {
    "colab": {
      "name": "Remove duplicates from sorted and unsorted linked list.ipynb",
      "provenance": [],
      "authorship_tag": "ABX9TyNuvSo8+ZpOj0RLl1X4VXNw",
      "include_colab_link": true
    },
    "kernelspec": {
      "name": "python3",
      "display_name": "Python 3"
    },
    "language_info": {
      "name": "python"
    }
  },
  "cells": [
    {
      "cell_type": "markdown",
      "metadata": {
        "id": "view-in-github",
        "colab_type": "text"
      },
      "source": [
        "<a href=\"https://colab.research.google.com/github/shoaibakhtar1010/Data-Structures-and-Algorithms-with-Python/blob/main/Linked%20Lists/Linked%20Lists%20Interview%20Problems/Linked%20List%20Interview%20Problems%20-%20SOLUTIONS/Remove_duplicates_from_sorted_and_unsorted_linked_list.ipynb\" target=\"_parent\"><img src=\"https://colab.research.google.com/assets/colab-badge.svg\" alt=\"Open In Colab\"/></a>"
      ]
    },
    {
      "cell_type": "markdown",
      "source": [
        "# Remove duplicates from a sorted linked list"
      ],
      "metadata": {
        "id": "o3BBoTZNar_b"
      }
    },
    {
      "cell_type": "markdown",
      "source": [
        "Write a function that takes a list sorted in non-decreasing order and deletes any duplicate nodes from the list. The list should only be traversed once. \n",
        "For example if the linked list is 11->11->11->21->43->43->60 then removeDuplicates() should convert the list to 11->21->43->60. \n",
        "\n",
        "**Algorithm:** \n",
        "\n",
        "Traverse the list from the head (or start) node. While traversing, compare each node with its next node. If the data of the next node is the same as the current node then delete the next node. Before we delete a node, we need to store the next pointer of the node "
      ],
      "metadata": {
        "id": "xLx49HXMa0F1"
      }
    },
    {
      "cell_type": "markdown",
      "source": [
        "   \n",
        "    class Node:\n",
        "        def __init__(self, data):\n",
        "            self.data = data\n",
        "            self.next = next"
      ],
      "metadata": {
        "id": "uo2FTtiUH6Lf"
      }
    },
    {
      "cell_type": "code",
      "source": [
        "class Node:\n",
        "    def __init__(self, data):\n",
        "        self.data = data\n",
        "        self.next = next"
      ],
      "metadata": {
        "id": "_gjeEqqbHtlw"
      },
      "execution_count": 2,
      "outputs": []
    },
    {
      "cell_type": "code",
      "source": [
        "def uniqueSortedList(head):\n",
        "    # write your code here\n",
        "\t\n",
        "\tif head==None:\n",
        "\t\treturn None\n",
        "\tcurrent=head\n",
        "\twhile current.next:\n",
        "\t\tif current.data==current.next.data:\n",
        "\t\t\ttemp=current.next.next\n",
        "\t\t\tnode_to_delete=current.next\n",
        "\t\t\tdel node_to_delete\n",
        "\t\t\tcurrent.next=temp\n",
        "\t\telse:\n",
        "\t\t\tcurrent=current.next\n",
        "\treturn head"
      ],
      "metadata": {
        "id": "uF8J53IsarRe"
      },
      "execution_count": 3,
      "outputs": []
    },
    {
      "cell_type": "markdown",
      "source": [
        "# Remove duplicates from unsorted linked list"
      ],
      "metadata": {
        "id": "2xriVsPdINfb"
      }
    },
    {
      "cell_type": "markdown",
      "source": [
        "**Problem Statement**\n",
        "\n",
        "You are given an unsorted linked list of N nodes. Your task is to remove the duplicate nodes from the linked list such that every element in the linked list occurs only once i.e. in case an element occurs more than once, only keep its first occurrence in the list.\n",
        "\n",
        "**For Example :**\n",
        "\n",
        "Assuming the linked list is   3 -> 2 -> 3 -> 4 -> 2 -> 3 -> NULL.\n",
        "\n",
        "Number ‘2’ and ‘3’ occurs more than once. Hence we remove the duplicates and keep only their first occurrence. So, our list becomes : 3 -> 2 -> 4 -> NULL.\n",
        "\n",
        " **Input format** : \n",
        "The first line of input contains an integer ‘T’ representing the number of test cases.\n",
        "\n",
        "The first and the only line of every test case contains the elements of the linked list separated by a single space and terminated by -1. Hence, -1 would never be a list element.\n",
        "\n",
        "**Output Format :**\n",
        "\n",
        "For each test case, the resulting linked list is printed.\n",
        "\n",
        "**Note :**\n",
        "When multiple nodes have the same element, the node which appeared first is kept, all other duplicates are removed i.e. the order of the nodes should be preserved.\n",
        "\n",
        "You don’t need to print anything. It has already been taken care of. Just implement the given function.\n",
        "\n",
        "**Constraints :**\n",
        "~~~\n",
        "1 <= T <= 100   \n",
        "1 <= N <= 10 ^ 4\n",
        "1 <= data <= 10 ^ 5 \n",
        "\n",
        "Where ‘N’ is the number of nodes in the list and 'data' is the value of list nodes.\n",
        "\n",
        "Time Limit: 1sec\n",
        "Sample Input 1 :\n",
        "2\n",
        "4 2 5 4 2 2 -1\n",
        "1 2 1 2 2 2 7 7 -1\n",
        "Sample Output 1 :\n",
        "4 2 5 -1\n",
        "1 2 7 -1\n",
        "~~~\n",
        "\n",
        "**Explanation Of Sample Input1 :**\n",
        "\n",
        "For the first test case, the linked list is 4 -> 2 -> 5 -> 4 -> 2 -> 2 -> NULL. Number ‘4’ and ‘2’ occurs more than once. Hence, we remove the duplicates and keep only their first occurrence. So, our list becomes : 4 -> 2 -> 5 -> NULL.\n",
        "\n",
        "For the second test case, the linked list is 1 -> 2 -> 1 -> 2 -> 2 -> 2 -> 7 -> 7 -> NULL. Number ‘1’, ‘2’ and ‘7’ occurs more than once. Hence, we remove the duplicates and keep only their first occurrence. So, our list becomes : 1 -> 2 -> 7 -> NULL.\n",
        "\n",
        "**Sample Input 2 :**\n",
        "~~~\n",
        "2\n",
        "3 3 3 3 3 -1\n",
        "10 20 10 20 30 10 20 30 -1\n",
        "Sample Output 2 :\n",
        "3 -1\n",
        "10 20 30 -1\n",
        "~~~"
      ],
      "metadata": {
        "id": "WJO5kOhoZVs7"
      }
    },
    {
      "cell_type": "code",
      "execution_count": 4,
      "metadata": {
        "id": "i19_1cmGY5dG",
        "colab": {
          "base_uri": "https://localhost:8080/"
        },
        "outputId": "ff0f42bc-99d7-4f9d-9b55-0885db86e511"
      },
      "outputs": [
        {
          "output_type": "stream",
          "name": "stdout",
          "text": [
            "1\n",
            "2\n",
            "False\n"
          ]
        }
      ],
      "source": [
        "from collections import defaultdict\n",
        "  \n",
        "      \n",
        "# Defining the dict and passing \n",
        "# lambda as default_factory argument\n",
        "d = defaultdict(lambda: False)\n",
        "d[\"a\"] = 1\n",
        "d[\"b\"] = 2\n",
        "  \n",
        "print(d[\"a\"])\n",
        "print(d[\"b\"])\n",
        "print(d[\"c\"])"
      ]
    },
    {
      "cell_type": "code",
      "source": [
        "def removeDuplicates(self, head):\n",
        "  from collections import defaultdict\n",
        "  visited=defaultdict(lambda: False)\n",
        "  current=head\n",
        "  if current==None:\n",
        "    return None\n",
        "  visited[current.data]=True\n",
        "  while current.next!=None:\n",
        "    if visited[current.next.data]==True:\n",
        "    \tcurrent.next=current.next.next\n",
        "    else:\n",
        "    \tvisited[current.next.data]=True\n",
        "    \tcurrent=current.next\n",
        "  return head"
      ],
      "metadata": {
        "id": "zHK8eqeEMnBA"
      },
      "execution_count": 11,
      "outputs": []
    },
    {
      "cell_type": "code",
      "source": [
        ""
      ],
      "metadata": {
        "id": "y_fuK9o0N-u8"
      },
      "execution_count": null,
      "outputs": []
    }
  ]
}