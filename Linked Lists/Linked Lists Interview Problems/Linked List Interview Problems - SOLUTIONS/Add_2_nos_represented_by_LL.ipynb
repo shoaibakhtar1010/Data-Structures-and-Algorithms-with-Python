{
  "nbformat": 4,
  "nbformat_minor": 0,
  "metadata": {
    "colab": {
      "name": "Add 2 nos represented by LL.ipynb",
      "provenance": [],
      "authorship_tag": "ABX9TyP1IoEM/zXPUJUPGcMjgn0P",
      "include_colab_link": true
    },
    "kernelspec": {
      "name": "python3",
      "display_name": "Python 3"
    },
    "language_info": {
      "name": "python"
    }
  },
  "cells": [
    {
      "cell_type": "markdown",
      "metadata": {
        "id": "view-in-github",
        "colab_type": "text"
      },
      "source": [
        "<a href=\"https://colab.research.google.com/github/shoaibakhtar1010/Data-Structures-and-Algorithms-with-Python/blob/main/Linked%20Lists/Linked%20Lists%20Interview%20Problems/Linked%20List%20Interview%20Problems%20-%20SOLUTIONS/Add_2_nos_represented_by_LL.ipynb\" target=\"_parent\"><img src=\"https://colab.research.google.com/assets/colab-badge.svg\" alt=\"Open In Colab\"/></a>"
      ]
    },
    {
      "cell_type": "markdown",
      "source": [
        "**Add two numbers represented by linked lists**\n",
        "\n",
        "Given two numbers represented by two linked lists of size N and M. The task is to return a sum list.\n",
        "\n",
        "The sum list is a linked list representation of the addition of two input numbers from the last.\n",
        "\n",
        "The sum list is a linked list representation of the addition of two input numbers from the last.\n",
        "~~~\n",
        "Example 1:\n",
        "\n",
        "Input:\n",
        "N = 2\n",
        "valueN[] = {4,5}\n",
        "M = 3\n",
        "valueM[] = {3,4,5}\n",
        "Output: 3 9 0  \n",
        "Explanation: For the given two linked\n",
        "list (4 5) and (3 4 5), after adding\n",
        "the two linked list resultant linked\n",
        "list will be (3 9 0).\n",
        "Example 2:\n",
        "\n",
        "Input:\n",
        "N = 2\n",
        "valueN[] = {6,3}\n",
        "M = 1\n",
        "valueM[] = {7}\n",
        "Output: 7 0\n",
        "Explanation: For the given two linked\n",
        "list (6 3) and (7), after adding the\n",
        "two linked list resultant linked list\n",
        "will be (7 0).\n",
        "~~~\n",
        "Your Task:\n",
        "The task is to complete the function addTwoLists() which has node reference of both the linked lists and returns the head of the sum list.   \n",
        "~~~\n",
        "Expected Time Complexity: O(N+M)\n",
        "Expected Auxiliary Space: O(Max(N,M)) for the resultant list.\n",
        "\n",
        "Constraints:\n",
        "1 <= N, M <= 5000\n",
        "~~~"
      ],
      "metadata": {
        "id": "d6AjX4z3wTtq"
      }
    },
    {
      "cell_type": "code",
      "source": [
        "''' Node for linked list:\n",
        "\n",
        "class Node:\n",
        "    def __init__(self, data):\n",
        "        self.data = data\n",
        "        self.next = None\n",
        "\n",
        "'''\n",
        "def reverse(head):\n",
        "    curr=head\n",
        "    prev=None\n",
        "    next=None\n",
        "    while curr:\n",
        "        next=curr.next\n",
        "        curr.next=prev\n",
        "        prev=curr\n",
        "        curr=next\n",
        "    return prev\n",
        "def add(first,second):\n",
        "    ans=Node(0)\n",
        "    temp3=ans\n",
        "    carry=0\n",
        "    while (first!=None) or (second!=None) or carry!=0:\n",
        "            val1=0\n",
        "            if first!=None:\n",
        "                val1=first.data\n",
        "            val2=0\n",
        "            if second!=None:\n",
        "                val2=second.data\n",
        "            summ=(val1+val2+carry)\n",
        "            digit=summ%10\n",
        "            nodetoadd=Node(digit)\n",
        "            temp3.next=nodetoadd\n",
        "            temp3=temp3.next\n",
        "            carry=summ//10\n",
        "            if first!=None:\n",
        "                first=first.next\n",
        "            if second!=None:\n",
        "                second=second.next\n",
        "    return ans.next\n",
        "    \n",
        "class Solution:\n",
        "    #Function to add two numbers represented by linked list.\n",
        "    def addTwoLists(self, first, second):\n",
        "        # code here\n",
        "        # return head of sum list\n",
        "        first=reverse(first)\n",
        "        second=reverse(second)\n",
        "        ans=add(first,second)\n",
        "        ans=reverse(ans)\n",
        "        return ans\n",
        "        "
      ],
      "metadata": {
        "id": "zz4Vb9bMwr7e"
      },
      "execution_count": 5,
      "outputs": []
    },
    {
      "cell_type": "code",
      "source": [
        ""
      ],
      "metadata": {
        "id": "ocWjmZ3Rw47F"
      },
      "execution_count": null,
      "outputs": []
    }
  ]
}