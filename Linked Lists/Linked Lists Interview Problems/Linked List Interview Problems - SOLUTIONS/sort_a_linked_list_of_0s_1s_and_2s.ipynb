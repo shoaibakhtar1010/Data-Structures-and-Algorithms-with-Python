{
  "nbformat": 4,
  "nbformat_minor": 0,
  "metadata": {
    "colab": {
      "name": "sort a linked list of 0s 1s and 2s.ipynb",
      "provenance": [],
      "authorship_tag": "ABX9TyMUEivKTCHtHTsiKemDZcJQ",
      "include_colab_link": true
    },
    "kernelspec": {
      "name": "python3",
      "display_name": "Python 3"
    },
    "language_info": {
      "name": "python"
    }
  },
  "cells": [
    {
      "cell_type": "markdown",
      "metadata": {
        "id": "view-in-github",
        "colab_type": "text"
      },
      "source": [
        "<a href=\"https://colab.research.google.com/github/shoaibakhtar1010/Data-Structures-and-Algorithms-with-Python/blob/main/Linked%20Lists/Linked%20Lists%20Interview%20Problems/Linked%20List%20Interview%20Problems%20-%20SOLUTIONS/sort_a_linked_list_of_0s_1s_and_2s.ipynb\" target=\"_parent\"><img src=\"https://colab.research.google.com/assets/colab-badge.svg\" alt=\"Open In Colab\"/></a>"
      ]
    },
    {
      "cell_type": "markdown",
      "source": [
        "#Sort a linked list of 0s, 1s and 2s\n",
        "\n",
        "Given a linked list of 0s, 1s and 2s, sort it.\n",
        "\n",
        "Examples: \n",
        " \n",
        " ~~~\n",
        "\n",
        "Input: 1 -> 1 -> 2 -> 0 -> 2 -> 0 -> 1 -> NULL \n",
        "Output: 0 -> 0 -> 1 -> 1 -> 1 -> 2 -> 2 -> NULL\n",
        "Input: 1 -> 1 -> 2 -> 1 -> 0 -> NULL \n",
        "Output: 0 -> 1 -> 1 -> 1 -> 2 -> NULL\n",
        "~~~"
      ],
      "metadata": {
        "id": "vcmNk1zJKLzq"
      }
    },
    {
      "cell_type": "code",
      "execution_count": 1,
      "metadata": {
        "id": "yAa4pNnSJm12"
      },
      "outputs": [],
      "source": [
        "class Solution:\n",
        "    #Function to sort a linked list of 0s, 1s and 2s.\n",
        "    def segregate(self, head):\n",
        "        #code here\n",
        "        zero_node_head=Node(None)\n",
        "        one_node_head=Node(None)\n",
        "        two_node_head=Node(None)\n",
        "        current=head\n",
        "        crnt_o=zero_node_head\n",
        "        crnt_1=one_node_head\n",
        "        crnt_2=two_node_head\n",
        "        while current!=None:\n",
        "            if current.data==0:\n",
        "                crnt_o.next=current\n",
        "                crnt_o=crnt_o.next\n",
        "                \n",
        "            elif current.data==1:\n",
        "                crnt_1.next=current\n",
        "                crnt_1=crnt_1.next\n",
        "            else:\n",
        "                crnt_2.next=current\n",
        "                crnt_2=crnt_2.next\n",
        "            current=current.next\n",
        "        crnt_o.next=one_node_head.next\n",
        "        crnt_1.next=two_node_head.next\n",
        "        return zero_node_head.next"
      ]
    },
    {
      "cell_type": "code",
      "source": [
        "class Solution:\n",
        "    #Function to sort a linked list of 0s, 1s and 2s.\n",
        "    def segregate(self, head):\n",
        "        #code here\n",
        "        zero_node_head=Node(None)\n",
        "        one_node_head=Node(None)\n",
        "        two_node_head=Node(None)\n",
        "        current=head\n",
        "        crnt_o=zero_node_head\n",
        "        crnt_1=one_node_head\n",
        "        crnt_2=two_node_head\n",
        "        while current!=None:\n",
        "            if current.data==0:\n",
        "                crnt_o.next=current\n",
        "                crnt_o=crnt_o.next\n",
        "                \n",
        "            elif current.data==1:\n",
        "                crnt_1.next=current\n",
        "                crnt_1=crnt_1.next\n",
        "            else:\n",
        "                crnt_2.next=current\n",
        "                crnt_2=crnt_2.next\n",
        "            current=current.next\n",
        "        crnt_o.next=one_node_head.next\n",
        "        crnt_1.next=two_node_head.next\n",
        "        return zero_node_head.next"
      ],
      "metadata": {
        "id": "FehSjfJyWoRf"
      },
      "execution_count": 2,
      "outputs": []
    },
    {
      "cell_type": "code",
      "source": [
        ""
      ],
      "metadata": {
        "id": "Ixq5N1TEk9vL"
      },
      "execution_count": null,
      "outputs": []
    }
  ]
}