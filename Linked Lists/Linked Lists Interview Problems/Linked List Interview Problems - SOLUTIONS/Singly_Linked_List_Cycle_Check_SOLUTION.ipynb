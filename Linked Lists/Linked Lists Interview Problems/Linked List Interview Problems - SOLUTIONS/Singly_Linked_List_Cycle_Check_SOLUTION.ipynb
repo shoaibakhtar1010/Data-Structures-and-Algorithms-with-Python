{
  "cells": [
    {
      "cell_type": "markdown",
      "metadata": {
        "id": "view-in-github",
        "colab_type": "text"
      },
      "source": [
        "<a href=\"https://colab.research.google.com/github/shoaibakhtar1010/Data-Structures-and-Algorithms-with-Python/blob/main/Linked%20Lists/Linked%20Lists%20Interview%20Problems/Linked%20List%20Interview%20Problems%20-%20SOLUTIONS/Singly_Linked_List_Cycle_Check_SOLUTION.ipynb\" target=\"_parent\"><img src=\"https://colab.research.google.com/assets/colab-badge.svg\" alt=\"Open In Colab\"/></a>"
      ]
    },
    {
      "cell_type": "markdown",
      "metadata": {
        "id": "Nky1EbiGyZjO"
      },
      "source": [
        "# Singly Linked List Cycle Check - SOLUTION\n",
        "\n",
        "## Problem\n",
        "\n",
        "Given a singly linked list, write a function which takes in the first node in a singly linked list and returns a boolean indicating if the linked list contains a \"cycle\".\n",
        "\n",
        "A cycle is when a node's next point actually points back to a previous node in the list. This is also sometimes known as a circularly linked list.\n",
        "\n",
        "You've been given the Linked List Node class code:"
      ]
    },
    {
      "cell_type": "code",
      "execution_count": 7,
      "metadata": {
        "collapsed": true,
        "id": "Utwyz0BCyZjZ"
      },
      "outputs": [],
      "source": [
        "class Node(object):\n",
        "    \n",
        "    def __init__(self,value):\n",
        "        \n",
        "        self.value = value\n",
        "        self.nextnode = None"
      ]
    },
    {
      "cell_type": "markdown",
      "metadata": {
        "id": "ELSfzhzFyZjc"
      },
      "source": [
        "## Solution\n",
        "\n",
        "To solve this problem we will have two markers traversing through the list. **marker1** and **marker2**. We will have both makers begin at the first node of the list and traverse through the linked list. However the second marker, marker2, will move two nodes ahead for every one node that marker1 moves.\n",
        "\n",
        "By this logic we can imagine that the markers are \"racing\" through the linked list, with marker2 moving faster. If the linked list has a cylce and is circularly connected we will have the analogy of a track, in this case the marker2 will eventually be \"lapping\" the marker1 and they will equal each other. \n",
        "\n",
        "If the linked list has no cycle, then marker2 should be able to continue on until the very end, never equaling the first marker.\n",
        "\n",
        "Let's see this logic coded out:"
      ]
    },
    {
      "cell_type": "code",
      "execution_count": 11,
      "metadata": {
        "collapsed": true,
        "id": "S4hKxq5PyZje"
      },
      "outputs": [],
      "source": [
        "def cycle_check(node):\n",
        "\n",
        "    # Begin both markers at the first node\n",
        "    marker1 = node\n",
        "    marker2 = node\n",
        "\n",
        "    # Go until end of list\n",
        "    while marker2 != None and marker2.nextnode != None:\n",
        "        \n",
        "        # Note\n",
        "        marker1 = marker1.nextnode\n",
        "        marker2 = marker2.nextnode.nextnode\n",
        "\n",
        "        # Check if the markers have matched\n",
        "        if marker2 == marker1:\n",
        "            return True\n",
        "\n",
        "    # Case where marker ahead reaches the end of the list\n",
        "    return False"
      ]
    },
    {
      "cell_type": "markdown",
      "metadata": {
        "id": "8_bDPBmxyZjf"
      },
      "source": [
        "# Test Your Solution"
      ]
    },
    {
      "cell_type": "code",
      "source": [
        "! pip install nose"
      ],
      "metadata": {
        "colab": {
          "base_uri": "https://localhost:8080/"
        },
        "id": "gew9hwFI0fZM",
        "outputId": "2255ba3b-9895-4e2d-abe8-32e568d4d370"
      },
      "execution_count": 12,
      "outputs": [
        {
          "output_type": "stream",
          "name": "stdout",
          "text": [
            "Requirement already satisfied: nose in /usr/local/lib/python3.7/dist-packages (1.3.7)\n"
          ]
        }
      ]
    },
    {
      "cell_type": "code",
      "execution_count": 13,
      "metadata": {
        "colab": {
          "base_uri": "https://localhost:8080/"
        },
        "id": "8UNXGPSNyZjg",
        "outputId": "407f04ef-2090-429a-e7d1-62e2265ab224"
      },
      "outputs": [
        {
          "output_type": "stream",
          "name": "stdout",
          "text": [
            "ALL TEST CASES PASSED\n"
          ]
        }
      ],
      "source": [
        "\"\"\"\n",
        "RUN THIS CELL TO TEST YOUR SOLUTION\n",
        "\"\"\"\n",
        "from nose.tools import assert_equal\n",
        "\n",
        "# CREATE CYCLE LIST\n",
        "a = Node(1)\n",
        "b = Node(2)\n",
        "c = Node(3)\n",
        "\n",
        "a.nextnode = b\n",
        "b.nextnode = c\n",
        "c.nextnode = a # Cycle Here!\n",
        "\n",
        "\n",
        "# CREATE NON CYCLE LIST\n",
        "x = Node(1)\n",
        "y = Node(2)\n",
        "z = Node(3)\n",
        "\n",
        "x.nextnode = y\n",
        "y.nextnode = z\n",
        "\n",
        "\n",
        "#############\n",
        "class TestCycleCheck(object):\n",
        "    \n",
        "    def test(self,sol):\n",
        "        assert_equal(sol(a),True)\n",
        "        assert_equal(sol(x),False)\n",
        "        \n",
        "        print(\"ALL TEST CASES PASSED\")\n",
        "        \n",
        "# Run Tests\n",
        "\n",
        "t = TestCycleCheck()\n",
        "t.test(cycle_check)\n"
      ]
    },
    {
      "cell_type": "markdown",
      "metadata": {
        "id": "gDBSwjvZyZjj"
      },
      "source": [
        "## Good Job!"
      ]
    }
  ],
  "metadata": {
    "kernelspec": {
      "display_name": "Python 2",
      "language": "python",
      "name": "python2"
    },
    "language_info": {
      "codemirror_mode": {
        "name": "ipython",
        "version": 2
      },
      "file_extension": ".py",
      "mimetype": "text/x-python",
      "name": "python",
      "nbconvert_exporter": "python",
      "pygments_lexer": "ipython2",
      "version": "2.7.10"
    },
    "colab": {
      "name": "Singly Linked List Cycle Check - SOLUTION.ipynb",
      "provenance": [],
      "include_colab_link": true
    }
  },
  "nbformat": 4,
  "nbformat_minor": 0
}