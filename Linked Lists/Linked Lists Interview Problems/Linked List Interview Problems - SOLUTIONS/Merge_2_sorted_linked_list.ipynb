{
  "nbformat": 4,
  "nbformat_minor": 0,
  "metadata": {
    "colab": {
      "name": "Merge 2 sorted linked list.ipynb",
      "provenance": [],
      "authorship_tag": "ABX9TyOEz4vieKpKI/7fI3i1yv4e",
      "include_colab_link": true
    },
    "kernelspec": {
      "name": "python3",
      "display_name": "Python 3"
    },
    "language_info": {
      "name": "python"
    }
  },
  "cells": [
    {
      "cell_type": "markdown",
      "metadata": {
        "id": "view-in-github",
        "colab_type": "text"
      },
      "source": [
        "<a href=\"https://colab.research.google.com/github/shoaibakhtar1010/Data-Structures-and-Algorithms-with-Python/blob/main/Linked%20Lists/Linked%20Lists%20Interview%20Problems/Linked%20List%20Interview%20Problems%20-%20SOLUTIONS/Merge_2_sorted_linked_list.ipynb\" target=\"_parent\"><img src=\"https://colab.research.google.com/assets/colab-badge.svg\" alt=\"Open In Colab\"/></a>"
      ]
    },
    {
      "cell_type": "markdown",
      "source": [
        "**Merge two sorted linked lists**\n",
        "\n",
        "Given two sorted linked lists consisting of N and M nodes respectively. The task is to merge both of the list (in-place) and return head of the merged list.\n",
        "~~~\n",
        "\n",
        "Example 1:\n",
        "\n",
        "Input:\n",
        "N = 4, M = 3 \n",
        "valueN[] = {5,10,15,40}\n",
        "valueM[] = {2,3,20}\n",
        "Output: 2 3 5 10 15 20 40\n",
        "Explanation: After merging the two linked\n",
        "lists, we have merged list as 2, 3, 5,\n",
        "10, 15, 20, 40.\n",
        "Example 2:\n",
        "\n",
        "Input:\n",
        "N = 2, M = 2\n",
        "valueN[] = {1,1}\n",
        "valueM[] = {2,4}\n",
        "Output:1 1 2 4\n",
        "Explanation: After merging the given two\n",
        "linked list , we have 1, 1, 2, 4 as\n",
        "output.\n",
        "~~~\n",
        "Your Task:\n",
        "The task is to complete the function sortedMerge() which takes references to the heads of two linked lists as the arguments and returns the head of merged linked list.\n",
        "~~~\n",
        "Expected Time Complexity : O(n+m)\n",
        "Expected Auxilliary Space : O(1)\n",
        "\n",
        "Constraints:\n",
        "1 <= N, M <= 104\n",
        "1 <= Node's data <= 105\n",
        "~~~"
      ],
      "metadata": {
        "id": "noY00Qff2m5P"
      }
    },
    {
      "cell_type": "code",
      "source": [
        "class Node:\n",
        "  def __init__(self,next=None,data=None):\n",
        "    self.data=data\n",
        "    self.next=next"
      ],
      "metadata": {
        "id": "YXH7elp63dLC"
      },
      "execution_count": 2,
      "outputs": []
    },
    {
      "cell_type": "code",
      "execution_count": 3,
      "metadata": {
        "id": "Ot9CaVpG2knV"
      },
      "outputs": [],
      "source": [
        "def sortedMerge(head1, head2):\n",
        "    # code here\n",
        "    if head1==None:\n",
        "        return head2\n",
        "    if head2==None:\n",
        "        return head1\n",
        "    if head1.data>head2.data:\n",
        "       return solve(head2,head1)\n",
        "    else:\n",
        "        return solve(head1,head2)\n",
        "def solve(head1,head2):\n",
        "    curr1=head1\n",
        "    next1=curr1.next\n",
        "    curr2=head2\n",
        "    next2=curr2.next\n",
        "    next1=curr1.next\n",
        "    if next1==None:\n",
        "        curr1.next=curr2\n",
        "        return head1\n",
        "    while next1!=None and curr2!=None:\n",
        "        if next1.data>curr2.data:\n",
        "            temp=curr1.next\n",
        "            curr1.next=curr2\n",
        "            curr2.next=temp\n",
        "            curr1=curr2\n",
        "            next1=curr1.next\n",
        "            curr2=next2\n",
        "        else:\n",
        "            curr1=curr1.next\n",
        "            next1=curr1.next\n",
        "        if next1==None:\n",
        "            curr1.next=curr2\n",
        "            return head1\n",
        "        if curr2==None:\n",
        "            return head1\n",
        "        else:\n",
        "            next2=curr2.next\n",
        "        "
      ]
    },
    {
      "cell_type": "code",
      "source": [
        ""
      ],
      "metadata": {
        "id": "yoFzKwoF3a1-"
      },
      "execution_count": null,
      "outputs": []
    }
  ]
}