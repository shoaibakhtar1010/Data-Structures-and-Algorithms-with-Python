{
  "nbformat": 4,
  "nbformat_minor": 0,
  "metadata": {
    "colab": {
      "name": "Singly_linked_list2.ipynb",
      "provenance": [],
      "collapsed_sections": [],
      "authorship_tag": "ABX9TyMLYv7VI9IBJBsQplbe99qV",
      "include_colab_link": true
    },
    "kernelspec": {
      "name": "python3",
      "display_name": "Python 3"
    },
    "language_info": {
      "name": "python"
    }
  },
  "cells": [
    {
      "cell_type": "markdown",
      "metadata": {
        "id": "view-in-github",
        "colab_type": "text"
      },
      "source": [
        "<a href=\"https://colab.research.google.com/github/shoaibakhtar1010/Data-Structures-and-Algorithms-with-Python/blob/main/Linked%20Lists/Singly_linked_list2.ipynb\" target=\"_parent\"><img src=\"https://colab.research.google.com/assets/colab-badge.svg\" alt=\"Open In Colab\"/></a>"
      ]
    },
    {
      "cell_type": "markdown",
      "source": [
        "# Node class:"
      ],
      "metadata": {
        "id": "539PJDiaKcc5"
      }
    },
    {
      "cell_type": "code",
      "execution_count": null,
      "metadata": {
        "id": "nqWFLCtLBpq-"
      },
      "outputs": [],
      "source": [
        "\n",
        "class Node(object):\n",
        "    \n",
        "    def __init__(self,value):\n",
        "        \n",
        "        self.value = value\n",
        "        self.next = None"
      ]
    },
    {
      "cell_type": "code",
      "source": [
        "a=Node(4)\n",
        "b=Node(5)\n",
        "c=Node(6)"
      ],
      "metadata": {
        "id": "I_2KIq04KhWp"
      },
      "execution_count": null,
      "outputs": []
    },
    {
      "cell_type": "code",
      "source": [
        "a.next=b\n",
        "b.next=c"
      ],
      "metadata": {
        "id": "3Ku500K_KoJ5"
      },
      "execution_count": null,
      "outputs": []
    },
    {
      "cell_type": "code",
      "source": [
        "a.next"
      ],
      "metadata": {
        "colab": {
          "base_uri": "https://localhost:8080/"
        },
        "id": "DKgOhMaRK1wU",
        "outputId": "e1c82073-db10-44db-e82a-d67256de5fe0"
      },
      "execution_count": null,
      "outputs": [
        {
          "output_type": "execute_result",
          "data": {
            "text/plain": [
              "<__main__.Node at 0x7ff25c100a90>"
            ]
          },
          "metadata": {},
          "execution_count": 14
        }
      ]
    },
    {
      "cell_type": "code",
      "source": [
        "a.next.value"
      ],
      "metadata": {
        "colab": {
          "base_uri": "https://localhost:8080/"
        },
        "id": "EAZtzDQ7K7AP",
        "outputId": "00111a1e-dee5-403b-ce5c-ac944d961c8f"
      },
      "execution_count": null,
      "outputs": [
        {
          "output_type": "execute_result",
          "data": {
            "text/plain": [
              "5"
            ]
          },
          "metadata": {},
          "execution_count": 15
        }
      ]
    },
    {
      "cell_type": "markdown",
      "source": [
        "\n",
        "**Inserting an Element at the Head of a Singly Linked List**"
      ],
      "metadata": {
        "id": "w6wUpgUtLRql"
      }
    },
    {
      "cell_type": "code",
      "source": [
        "L=Node(0)\n",
        "L.head=a"
      ],
      "metadata": {
        "id": "CvUNRImMOtvA"
      },
      "execution_count": null,
      "outputs": []
    },
    {
      "cell_type": "code",
      "source": [
        "new_head=Node(9)"
      ],
      "metadata": {
        "id": "Ht_hr7LwLEnZ"
      },
      "execution_count": null,
      "outputs": []
    },
    {
      "cell_type": "code",
      "source": [
        "#Algorithm \n",
        "def addfirst(L,e):\n",
        "  newest = Node(e) #{create new node instance storing reference to element e}\n",
        "  newest.next = L.head # {set new node’s next to reference the old head node}\n",
        "  L.head = newest #{set variable head to reference the new node}\n",
        "  L.size = L.size+1 #{increment the node count}\n"
      ],
      "metadata": {
        "id": "olgpYiXcLjo_"
      },
      "execution_count": null,
      "outputs": []
    },
    {
      "cell_type": "markdown",
      "source": [
        "**Inserting an Element at the Tail of a Singly Linked List**\n",
        "\n",
        "1. Create a new node and assign its next reference to none.\n",
        "2. Set the next reference of the tail to point to this new node\n",
        "3. Update the tail reference to this new node."
      ],
      "metadata": {
        "id": "XXHqTIiYNcSa"
      }
    },
    {
      "cell_type": "code",
      "source": [
        "\n",
        "#Algorithm \n",
        "def addlast(L,e):\n",
        "  newest = Node(e) #{create new node instance storing reference to element e}\n",
        "  newest.next = None # {set new node’s next to reference the None object}\n",
        "  L.tail.next = newest # {make old tail node point to new node}\n",
        "  L.tail = newest # {set variable tail to reference the new node}\n",
        "  L.size = L.size+1 #{increment the node count} \n"
      ],
      "metadata": {
        "id": "aY_hHW-eN1Km"
      },
      "execution_count": null,
      "outputs": []
    },
    {
      "cell_type": "markdown",
      "source": [
        "**Removing an Element at the head of a Singly Linked List**"
      ],
      "metadata": {
        "id": "NqH6hNGXNh--"
      }
    },
    {
      "cell_type": "code",
      "source": [
        "#Algorithm \n",
        "def remove_first(L):\n",
        "  if L.head is None:  #then Indicate an error the list is empty.\n",
        "    raise IndexError('list index out of range') \n",
        "  L.head = L.head.next #{make head point to next node (or None)}\n",
        "  L.size = L.size-1 #{decrement the node count}"
      ],
      "metadata": {
        "id": "j4F8mozyObXO"
      },
      "execution_count": null,
      "outputs": []
    },
    {
      "cell_type": "markdown",
      "source": [
        "**Deleting the Last Node in Singly Linked List**\n",
        "\n",
        "In this case, the last node is removed from the list. This operation is a bit trickier than removing the first node, \n",
        "because the algorithm should find a node, which is previous to the tail. It can be done in three steps:\n",
        "\n",
        "* Traverse the list and while traversing maintain the previous node address also. By the time we reach the \n",
        "end of the list, we will have two pointers, one pointing to the tail node and the other pointing to the node before the tail node.\n",
        "* Update previous nodes next pointer with NULL. \n",
        "* Dispose of the ta il node . \n",
        "\n",
        "\n"
      ],
      "metadata": {
        "id": "1ciYibZjsr32"
      }
    },
    {
      "cell_type": "code",
      "source": [
        "def remove_last(self):\n",
        "  if self.size==0:\n",
        "    print(\"This is an empty linked list\")\n",
        "  else:\n",
        "    current=self.head\n",
        "    prev=self.head\n",
        "    count=0\n",
        "    while count<self.size-1:\n",
        "      prev=current\n",
        "      current=current.next\n",
        "      count+=1\n",
        "    prev.next=None\n",
        "    self.size-=1\n",
        "    "
      ],
      "metadata": {
        "id": "QJ2SVv0qs45e"
      },
      "execution_count": 29,
      "outputs": []
    },
    {
      "cell_type": "markdown",
      "source": [
        "**Inserting a Node in Singly Linked List at the Middle**\n",
        "\n",
        "Let us assume that we arc given a position where we want to insert the new node. In this case also, we need to \n",
        "modify two next pointers. \n",
        "\n",
        "• If we want to add an element at position 3 then we stop at position 2. That means we traverse 2 nodes \n",
        "and insert the new node. For simplicity let us assume that the second node is called position node. The \n",
        "new node points to the next node of the position where we want to add this node."
      ],
      "metadata": {
        "id": "Q_bfIQqHNO64"
      }
    },
    {
      "cell_type": "code",
      "source": [
        "\n",
        "class Node(object):\n",
        "    \n",
        "    def __init__(self,value):\n",
        "        \n",
        "        self.value = value\n",
        "        self.next = None\n",
        "def insert_node(self,val,pos):    # self or L\n",
        "  if pos>self.size or pos<0:\n",
        "    return None\n",
        "  else:\n",
        "    if pos ==0:\n",
        "      self.addfirst(val)\n",
        "    elif pos==self.size:\n",
        "      self.addlast(val)\n",
        "    else:\n",
        "      count=0\n",
        "      current=self.head\n",
        "      while count<pos-1:\n",
        "        current=current.next\n",
        "        count+=1\n",
        "      new_node=Node(val)\n",
        "      new_node.next=current.next\n",
        "      current.next=new_node\n",
        "    self.size+=1\n",
        "\n"
      ],
      "metadata": {
        "id": "d02YIBQTL7gL"
      },
      "execution_count": 28,
      "outputs": []
    }
  ]
}