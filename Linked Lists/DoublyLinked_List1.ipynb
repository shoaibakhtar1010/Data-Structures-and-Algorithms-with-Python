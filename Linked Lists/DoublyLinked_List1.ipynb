{
  "nbformat": 4,
  "nbformat_minor": 0,
  "metadata": {
    "colab": {
      "name": "DoublyLinked List1.ipynb",
      "provenance": [],
      "collapsed_sections": [],
      "authorship_tag": "ABX9TyPryiKHTpseSG+VpdTtKtSX",
      "include_colab_link": true
    },
    "kernelspec": {
      "name": "python3",
      "display_name": "Python 3"
    },
    "language_info": {
      "name": "python"
    }
  },
  "cells": [
    {
      "cell_type": "markdown",
      "metadata": {
        "id": "view-in-github",
        "colab_type": "text"
      },
      "source": [
        "<a href=\"https://colab.research.google.com/github/shoaibakhtar1010/Data-Structures-and-Algorithms-with-Python/blob/main/Linked%20Lists/DoublyLinked_List1.ipynb\" target=\"_parent\"><img src=\"https://colab.research.google.com/assets/colab-badge.svg\" alt=\"Open In Colab\"/></a>"
      ]
    },
    {
      "cell_type": "markdown",
      "source": [
        "# Doubly-linked list implementation"
      ],
      "metadata": {
        "id": "9jdzrV_bgeoG"
      }
    },
    {
      "cell_type": "code",
      "execution_count": 1,
      "metadata": {
        "id": "weXZL6tpyLX2"
      },
      "outputs": [],
      "source": [
        "class DNode():\n",
        "  def __init__(self,data=None,next=None,prev=None):\n",
        "    self.data=data\n",
        "    self.next=next\n",
        "    self.prev=prev\n",
        "  # method to set data in the node\n",
        "  def set_data(self,data):\n",
        "    self.data=data\n",
        "  def get_data(self):\n",
        "    return self.data\n",
        "  def set_next(self,node):\n",
        "    self.next=node\n",
        "  def get_next(self):\n",
        "    return self.next\n",
        "  def has_next(self):\n",
        "    return self.next!=None\n",
        "  def set_prev(self,node):\n",
        "    self.pev=node\n",
        "  def get_prev(self):\n",
        "    return self.prev\n",
        "  def has_prev(self):\n",
        "    return self.prev!=None\n",
        "  "
      ]
    },
    {
      "cell_type": "markdown",
      "source": [
        "# Inserting a Node in Doubly Linked List at the Beginning "
      ],
      "metadata": {
        "id": "r1qeAAXUgujV"
      }
    },
    {
      "cell_type": "code",
      "source": [
        "def add_first(self,data):\n",
        "  new_node=DNode(data)\n",
        "  if self.head==None:\n",
        "    self.head=self.tail=new_node\n",
        "  else:\n",
        "    new_node.set_prev(None)\n",
        "    new_node.set_next(self.head)\n",
        "    self.head.set_prev(new_node)\n",
        "    self.head=new_node\n",
        "    self.size+=1"
      ],
      "metadata": {
        "id": "zDK7swjmZYcL"
      },
      "execution_count": 2,
      "outputs": []
    },
    {
      "cell_type": "markdown",
      "source": [
        "# Inserting a Node in Doubly Linked List at the Ending "
      ],
      "metadata": {
        "id": "dCVh6yuHN_tP"
      }
    },
    {
      "cell_type": "code",
      "source": [
        "def add_last(self,data):\n",
        "  new_node=DNode(data)\n",
        "  if self.head==None:\n",
        "    self.head=self.tail=new_node\n",
        "  else:\n",
        "    current=self.head\n",
        "    while current.get_next()!=None:\n",
        "      current=current.get_next()\n",
        "    current.set_next(new_node)\n",
        "    new_node.set_prev(current)\n",
        "    new_node.set_next(None)\n",
        "  self.size+=1\n",
        "  "
      ],
      "metadata": {
        "id": "qmN7RoLsjfOY"
      },
      "execution_count": 3,
      "outputs": []
    },
    {
      "cell_type": "markdown",
      "source": [
        "# Inserting a Node in Doubly Linked List at the Middle "
      ],
      "metadata": {
        "id": "IlaZQHxlOYAV"
      }
    },
    {
      "cell_type": "code",
      "source": [
        "def insertAtPos(self,pos,data):\n",
        "  if pos<0 or pos>self.size:\n",
        "    return\n",
        "  else:\n",
        "    if pos==0:\n",
        "      self.add_first(data)\n",
        "    elif pos==self.size:\n",
        "      self.add_last(data)\n",
        "    else:\n",
        "      new_node=DNode(data)\n",
        "      current=self.head\n",
        "      count=0\n",
        "      while count<pos:\n",
        "        current=current.get_next()\n",
        "        count+=1\n",
        "      new_node.set_prev(current)\n",
        "      new_node.set_next(current.get_next())\n",
        "      current.get_next().set_prev(new_node)\n",
        "      current.set_next(new_node)\n",
        "    self.size+=1\n",
        "      "
      ],
      "metadata": {
        "id": "XVOTNU3fqv02"
      },
      "execution_count": 8,
      "outputs": []
    },
    {
      "cell_type": "markdown",
      "source": [
        "# Remove a node from a doubly-linked list at the beginning"
      ],
      "metadata": {
        "id": "rBBb4eqEnAtf"
      }
    },
    {
      "cell_type": "code",
      "source": [
        "def remove_first(self):\n",
        "  if self.head==None:\n",
        "    return\n",
        "  else:\n",
        "    self.head.get_next().set_prev(None)\n",
        "    self.head=self.head.get_next()\n",
        "    self.size-=1"
      ],
      "metadata": {
        "id": "gqeuu92YT0od"
      },
      "execution_count": 9,
      "outputs": []
    },
    {
      "cell_type": "markdown",
      "source": [
        "# Remove a node from a doubly-linked list at the end"
      ],
      "metadata": {
        "id": "KYujuz4gpBf7"
      }
    },
    {
      "cell_type": "code",
      "source": [
        "def remove_last(self):\n",
        "  if self.head==self.tail==None:\n",
        "    return\n",
        "  else:\n",
        "    current=self.head\n",
        "    while current.get_next()!=None:\n",
        "      current=current.get_next()\n",
        "    self.tail=current.get_prev()\n",
        "    current.get_prev().set_next(None)\n",
        "    current.set_prev(None)\n",
        "    self.size-=1\n",
        "\n"
      ],
      "metadata": {
        "id": "t9scEdjooEbc"
      },
      "execution_count": 10,
      "outputs": []
    },
    {
      "cell_type": "code",
      "source": [
        ""
      ],
      "metadata": {
        "id": "GkMhbLlUrumG"
      },
      "execution_count": null,
      "outputs": []
    }
  ]
}